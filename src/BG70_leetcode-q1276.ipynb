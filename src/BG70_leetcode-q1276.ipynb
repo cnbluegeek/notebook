{
 "cells": [
  {
   "cell_type": "markdown",
   "metadata": {},
   "source": [
    "# <center>面试刷题：不浪费原料的汉堡数量</center>"
   ]
  },
  {
   "cell_type": "markdown",
   "metadata": {},
   "source": [
    "By [青衣极客 Blue Geek](https://mp.weixin.qq.com/s/NL2Fg_le_8uQiYM6NMDNKg)\n",
    "\n",
    "In 2020-03-04"
   ]
  },
  {
   "cell_type": "markdown",
   "metadata": {},
   "source": [
    "## 1. 题目 (Leetcode Q1276)\n",
    "\n",
    "给定两个整数TomatoSlices和CheeseSlices。不同汉堡的成分如下：\n",
    "\n",
    "```\n",
    "巨型汉堡：4个番茄片和1个奶酪片。\n",
    "小汉堡：2个西红柿片和1个奶酪片。\n",
    "```\n",
    "\n",
    "返回`[total_jumbo，total_small]`，以使剩余的TomatoSlices数量等于0，并且剩余的CheeseSlices数量等于0。\n",
    "如果不可能使剩余的TomatoSlices和cheeseSlices等于0，则返回[]。"
   ]
  },
  {
   "cell_type": "markdown",
   "metadata": {},
   "source": [
    "## 2. 约束条件\n",
    "\n",
    "(a) 0 <= tomatoSlices <= 10^7\n",
    "\n",
    "(b) 0 <= cheeseSlices <= 10^7"
   ]
  },
  {
   "cell_type": "markdown",
   "metadata": {},
   "source": [
    "## 示例 1\n",
    "\n",
    "```\n",
    "Input: tomatoSlices = 16, cheeseSlices = 7\n",
    "Output: [1,6]\n",
    "```\n",
    "\n",
    "解释: 要制作一个超大汉堡和6个小汉堡，我们需要4 * 1 + 2 * 6 = 16番茄和1 + 6 = 7奶酪。将没有剩余的成分。\n",
    "\n",
    "## 示例 2\n",
    "\n",
    "```\n",
    "Input: tomatoSlices = 17, cheeseSlices = 4\n",
    "Output: []\n",
    "```\n",
    "\n",
    "解释:  没有办法使用所有成分来制作小型汉堡和巨型汉堡。\n",
    "\n",
    "## 示例 3\n",
    "\n",
    "```\n",
    "Input: tomatoSlices = 4, cheeseSlices = 17\n",
    "Output: []\n",
    "```\n",
    "\n",
    "解释: 制作1个巨型汉堡将剩余16个奶酪，制作2个小汉堡将剩余15个奶酪。\n",
    "\n",
    "## 示例4\n",
    "\n",
    "```\n",
    "Input: tomatoSlices = 0, cheeseSlices = 0\n",
    "Output: [0,0]\n",
    "```\n",
    "\n",
    "## 示例 5\n",
    "\n",
    "```\n",
    "Input: tomatoSlices = 2, cheeseSlices = 1\n",
    "Output: [0,1]\n",
    "```"
   ]
  },
  {
   "cell_type": "markdown",
   "metadata": {},
   "source": [
    "## 3. 解决思路\n",
    "\n",
    "可以将这个问题看作是求解一个二元一次方程组的正整数解的问题。利用所给的条件，假设大汉堡数量为 x，小汉堡数量为 y，正好可以构建两个一次方程。\n",
    "根据数学尝试我们知道，该方程组必定存在解，只是如果方程的解为负数或者小数，那么不符合实际情况，应当舍弃。"
   ]
  },
  {
   "cell_type": "markdown",
   "metadata": {},
   "source": [
    "## 4. 解决方案\n",
    "\n",
    "```C++\n",
    "class Solution {\n",
    "public:\n",
    "    // 8ms\n",
    "    vector<int> numOfBurgers(int tomatoSlices, int cheeseSlices) {\n",
    "        // equations\n",
    "        // 4x+2y=c1 & x+y=c2\n",
    "        // formatted to 4x+2y=c1 & 2x+2y=2c2\n",
    "        vector<int> ret;\n",
    "        int mid_val = tomatoSlices - 2*cheeseSlices;\n",
    "        // check integer solver for x\n",
    "        if (mid_val < 0 || mid_val % 2 == 1) {\n",
    "            return ret;\n",
    "        }\n",
    "        int x = mid_val / 2;\n",
    "        int y = cheeseSlices - x;\n",
    "        // check postive for y\n",
    "        if (y < 0) {\n",
    "            return ret;\n",
    "        }\n",
    "        // return [x, y]\n",
    "        ret.push_back(x);\n",
    "        ret.push_back(y);\n",
    "        return ret;\n",
    "    }\n",
    "};\n",
    "```"
   ]
  },
  {
   "cell_type": "markdown",
   "metadata": {},
   "source": [
    "## 5. 复杂度分析\n",
    "\n",
    "从以上算法的解决思路和实现代码看来，其时间和空间复杂度都是为O(1), 即常数复杂度。使用数学方法寻找解决方案常常能够得到高效的算法，但实际情况并不总能像这样找到合适的数学方法。"
   ]
  }
 ],
 "metadata": {
  "kernelspec": {
   "display_name": "Python 3",
   "language": "python",
   "name": "python3"
  },
  "language_info": {
   "codemirror_mode": {
    "name": "ipython",
    "version": 3
   },
   "file_extension": ".py",
   "mimetype": "text/x-python",
   "name": "python",
   "nbconvert_exporter": "python",
   "pygments_lexer": "ipython3",
   "version": "3.7.7"
  }
 },
 "nbformat": 4,
 "nbformat_minor": 2
}
