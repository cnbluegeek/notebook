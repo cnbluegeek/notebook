{
 "cells": [
  {
   "cell_type": "markdown",
   "metadata": {},
   "source": [
    "# 闲话python 48: C/C++扩展Python与Swig工具\n",
    "\n",
    "python作为一种通用的编程语言，一般而言，是能够满足逻辑实现的需求的。只是在日常使用过程中，除了实现一些逻辑之外，至少还有两个方面的需求是可能需要寻求其他语言帮助的，第一个是提升运行效率，第二个是复用已有C/C++代码。python比较接近自然语言这一特性确实对使用者而言很不错，但是这带来了一个不良后果--运行速度慢。有时还需要借助多进程的方式提升运算速度，但是无论如何，python本身速度慢这件事确实改变不了，也就意味着硬件资源的利用率低。而C/C++的运行速度上的优势让我们比较愿意寻求某种方式在python中调用C/C++的程序。此外，如果并不是白手起家，而是已有大量C/C++代码实现的核心功能，那么使用python重新实现一遍是不划算的。这时将这些C/C++代码编译成python可调用的库将非常具有吸引力。本文将使用三种方式将一个简单的C程序逻辑封装成python中可调用的形式，以展示python使用C/C++扩展功能的一般方式。分别是：动态共享库调用、C扩展以及swig工具。本文的所有演示在MacOS 10.14.6操作系统中完成，Linux操作系统下应该比较容易复现，Windows可能会比较麻烦一点。"
   ]
  },
  {
   "cell_type": "markdown",
   "metadata": {},
   "source": [
    "## 1. 动态共享库调用\n",
    "\n",
    "将C/C++代码编译成动态共享库然后在python中调用是一种比较直观的方式。在MacOS和Linux中是生成后缀为so的文件，在windows系统成是生成后缀为dll的文件。首先展示一下这个简单功能的C程序代码。"
   ]
  },
  {
   "cell_type": "code",
   "execution_count": 1,
   "metadata": {},
   "outputs": [
    {
     "name": "stdout",
     "output_type": "stream",
     "text": [
      "\r\n",
      "int add_vector(int * p_a, int * p_b, int * p_c, int len){\r\n",
      "    if (len <= 0) {\r\n",
      "        return 0;\r\n",
      "    }\r\n",
      "    for (int i=0; i<len; ++i) {\r\n",
      "        p_c[i] = p_a[i] + p_b[i];\r\n",
      "    }\r\n",
      "    return len;\r\n",
      "}\r\n"
     ]
    }
   ],
   "source": [
    "!cat code/c/dll_example.c"
   ]
  },
  {
   "cell_type": "markdown",
   "metadata": {},
   "source": [
    "这里，我们使用gcc编译器将源代码编译成动态共享库。查看编译产出，发现按照预期生成了so文件。"
   ]
  },
  {
   "cell_type": "code",
   "execution_count": 4,
   "metadata": {},
   "outputs": [
    {
     "name": "stdout",
     "output_type": "stream",
     "text": [
      "\u001b[01;34mcode/c\u001b[00m\r\n",
      "├── dll_example.c\r\n",
      "├── dll_example.o\r\n",
      "└── \u001b[01;32mdll_example.so\u001b[00m\r\n",
      "\r\n",
      "0 directories, 3 files\r\n"
     ]
    }
   ],
   "source": [
    "!gcc -c -fPIC code/c/dll_example.c -o code/c/dll_example.o\n",
    "!gcc -shared code/c/dll_example.o -o code/c/dll_example.so\n",
    "!tree code/c"
   ]
  },
  {
   "cell_type": "markdown",
   "metadata": {},
   "source": [
    "接着，就可以在python中加载生成的so文件，然后调用对应的功能函数。不过还是有一点需要说明，即数据类型。使用过C/C++的同学都知道，C/C++是强类型的静态语言，也就是说在执行功能函数的时候，常常必须要保证传参的数据类型完全一致，否则程序容易崩溃。python提供了一个库ctypes来解决调用C/C++程序时的类型问题。通常，我们需要使用ctypes中提供的数据类型和转换接口，将python中的数据转换成C/C++程序中的数据类型，然后调用对应的功能函数。复杂的函数参数对于这种调用方式而言是灾难性的，因此这种方式一般适用于python与C/C++交互接口简单的情形。"
   ]
  },
  {
   "cell_type": "code",
   "execution_count": 9,
   "metadata": {},
   "outputs": [
    {
     "name": "stdout",
     "output_type": "stream",
     "text": [
      "ret=5\n",
      "result=[6, 6, 6, 6, 6]\n"
     ]
    }
   ],
   "source": [
    "import ctypes\n",
    "import os\n",
    "# 载入动态链接库\n",
    "dll_example = ctypes.cdll.LoadLibrary(\n",
    "    os.path.join(os.getcwd(), 'code/c/dll_example.so'))\n",
    "# 构造输出数据数据存储区\n",
    "IntArray5v = ctypes.c_int * 5\n",
    "pa = IntArray5v(1,2,3,4,5)\n",
    "pb = IntArray5v(5,4,3,2,1)\n",
    "pc = IntArray5v(0,0,0,0,0)\n",
    "# 调用动态链接库中的函数\n",
    "ret = dll_example.add_vector(pa, pb, pc, len(pa))\n",
    "# 打印返回结果\n",
    "print('ret={}'.format(ret))\n",
    "print('result={}'.format(list(pc)))"
   ]
  },
  {
   "cell_type": "markdown",
   "metadata": {},
   "source": [
    "## 2. C扩展\n",
    "\n",
    "为了解决上文中调用动态共享库所面临的问题，还可以使用C扩展的方式完成在python中调用C/C++程序的需求。这种方式使用了python本身提供的一组C/C++语言交互接口API，这样所做成的扩展程序并不需要像动态共享库那样显式加载文件，而是像一般的python模块那样导入即可。编程风格更加pythonic，能够实现的交互接口也更加复杂。下面就展示一下使用C扩展的方式需要提供的C程序源代码。"
   ]
  },
  {
   "cell_type": "code",
   "execution_count": 2,
   "metadata": {},
   "outputs": [
    {
     "name": "stdout",
     "output_type": "stream",
     "text": [
      "#include \"Python.h\"\r\n",
      "\r\n",
      "int add_vector(int * p_a, int * p_b, int * p_c, int len){\r\n",
      "    if (len <= 0) {\r\n",
      "        return 0;\r\n",
      "    }\r\n",
      "    for (int i=0; i<len; ++i) {\r\n",
      "        p_c[i] = p_a[i] + p_b[i];\r\n",
      "    }\r\n",
      "    return len;\r\n",
      "}\r\n",
      "\r\n",
      "// 包装python调用接口\r\n",
      "static PyObject * cext_add_vector(PyObject *self, PyObject *args){\r\n",
      "    PyObject * py_list_a = NULL;\r\n",
      "    PyObject * py_list_b = NULL;\r\n",
      "    PyObject * py_list_c = NULL;\r\n",
      "    if (!PyArg_ParseTuple(args, \"OOO\", &py_list_a, &py_list_b, &py_list_c)) {\r\n",
      "        return NULL;\r\n",
      "    }\r\n",
      "    int len = PyList_Size(py_list_a);\r\n",
      "    int * pa = (int *)malloc(sizeof(int)*len);\r\n",
      "    int * pb = (int *)malloc(sizeof(int)*len);\r\n",
      "    int * pc = (int *)malloc(sizeof(int)*len);\r\n",
      "    int count = len;\r\n",
      "    while(count--){\r\n",
      "        if(!PyArg_Parse(PyList_GetItem(py_list_a, count), \"i\", pa+count)){return NULL;}\r\n",
      "        if(!PyArg_Parse(PyList_GetItem(py_list_b, count), \"i\", pb+count)){return NULL;}\r\n",
      "    }\r\n",
      "    int ret = add_vector(pa, pb, pc, len);\r\n",
      "    count = len;\r\n",
      "    while(count--){\r\n",
      "        PyList_SetItem(py_list_c, count, Py_BuildValue(\"i\", pc[count]));\r\n",
      "    }\r\n",
      "    free(pa);free(pb);free(pc);\r\n",
      "    return (PyObject *)Py_BuildValue(\"i\", ret);\r\n",
      "}\r\n",
      "\r\n",
      "// 罗列提供接口的方法列表\r\n",
      "static PyMethodDef cextMethods[] = {\r\n",
      "    {\"add_vector\", cext_add_vector, METH_VARARGS},\r\n",
      "    {NULL, NULL},\r\n",
      "};\r\n",
      "\r\n",
      "static struct  PyModuleDef cModDef = {\r\n",
      "    PyModuleDef_HEAD_INIT,\r\n",
      "    \"cext_example\",               // 模块名\r\n",
      "    \"just test for c extension\",  // 文档\r\n",
      "    -1,                           \r\n",
      "    cextMethods                   // 模块提供的方法\r\n",
      "};\r\n",
      "\r\n",
      "\r\n",
      "PyMODINIT_FUNC PyInit_cext_example(void)\r\n",
      "{\r\n",
      "    return PyModule_Create(&cModDef);\r\n",
      "}"
     ]
    }
   ],
   "source": [
    "!cat code/c/cext_example.c"
   ]
  },
  {
   "cell_type": "markdown",
   "metadata": {},
   "source": [
    "C代码中除了本次演示功能的核心之外，最主要的就是定义调用接口。正是由于在C代码中实现了一个复杂解析过程，python中调用过程就可以非常简单，与一般的python程序调用毫无差别。\n",
    "C代码编写完成后还需要编写一个对应的setup.py文件，以便于编译。下面展示这个setup.py文件。"
   ]
  },
  {
   "cell_type": "code",
   "execution_count": 2,
   "metadata": {},
   "outputs": [
    {
     "name": "stdout",
     "output_type": "stream",
     "text": [
      "from distutils.core import setup, Extension\r\n",
      "MOD = 'cext_example'\r\n",
      "setup(name=MOD, ext_modules=[Extension(MOD, sources=['cext_example.c'])])\r\n"
     ]
    }
   ],
   "source": [
    "!cat code/c/setup.py"
   ]
  },
  {
   "cell_type": "markdown",
   "metadata": {},
   "source": [
    "C代码和setup.py文件准备完毕之后就可以进行编译了。下面展示编译的指令，并显示编译产出的文件。"
   ]
  },
  {
   "cell_type": "code",
   "execution_count": 13,
   "metadata": {},
   "outputs": [
    {
     "name": "stdout",
     "output_type": "stream",
     "text": [
      "running build_ext\n",
      "│       ├── cext_example.o\n",
      "├── cext_example.c\n",
      "├── cext_example.cpython-37m-darwin.so\n"
     ]
    }
   ],
   "source": [
    "!cd code/c && python3 setup.py build_ext --inplace\n",
    "!tree code/c | grep \"cext_example\""
   ]
  },
  {
   "cell_type": "markdown",
   "metadata": {},
   "source": [
    "可以看到，编译产出顺利生成，接下来就可以在python中调用了。由于C扩展的so文件并不在当前的搜索目录下，因此需要修改一下sys.path这个变量。除了执行核心的功能函数之外，还可以查看模块的文档，如果需要也可以设置对应的版本号。这样就与一般的python模块一致了，用起来也比较顺手。"
   ]
  },
  {
   "cell_type": "code",
   "execution_count": 1,
   "metadata": {},
   "outputs": [
    {
     "name": "stdout",
     "output_type": "stream",
     "text": [
      "doc of module:just test for c extension\n",
      "ret=5\n",
      "result=[6, 6, 6, 6, 6]\n"
     ]
    }
   ],
   "source": [
    "import sys\n",
    "import os\n",
    "sys.path.append(os.path.join(os.getcwd(), 'code/c'))\n",
    "import cext_example\n",
    "# 查看模块文档\n",
    "print('doc of module:{}'.format(cext_example.__doc__))\n",
    "# 设置存储空间\n",
    "al = [1,2,3,4,5]\n",
    "bl = [5,4,3,2,1]\n",
    "cl = [0]*5\n",
    "# 调用功能函数\n",
    "ret = cext_example.add_vector(al, bl, cl)\n",
    "# 查看结果\n",
    "print('ret={}'.format(ret))\n",
    "print('result={}'.format(cl))"
   ]
  },
  {
   "cell_type": "markdown",
   "metadata": {},
   "source": [
    "## 3. Swig工具\n",
    "\n",
    "从上文的C扩展可以看出，C/C++的源码中需要包含python交互的解析，因此显得非常复杂。而这个过程似乎是形式化的，那么有没有什么工具可以辅助完成这个过程呢？这就是这里提到的swig工具。当然，好可以用boost中的wrap接口，但是boost本身比较沉重，在发布和共享时不太方便。下面我们先看一下实现所需功能的C/C++源代码。"
   ]
  },
  {
   "cell_type": "code",
   "execution_count": 8,
   "metadata": {},
   "outputs": [
    {
     "name": "stdout",
     "output_type": "stream",
     "text": [
      "#include \"swig_example.h\"\r\n",
      "\r\n",
      "int add_vector(int * p_a, int * p_b, int * p_c, int len){\r\n",
      "    if (len <= 0) {\r\n",
      "        return 0;\r\n",
      "    }\r\n",
      "    for (int i=0; i<len; ++i) {\r\n",
      "        p_c[i] = p_a[i] + p_b[i];\r\n",
      "    }\r\n",
      "    return len;\r\n",
      "}\r\n"
     ]
    }
   ],
   "source": [
    "!cat code/c/swig_example.c"
   ]
  },
  {
   "cell_type": "code",
   "execution_count": 9,
   "metadata": {},
   "outputs": [
    {
     "name": "stdout",
     "output_type": "stream",
     "text": [
      "#ifndef __CEXT_EXAMPLE__H__\r\n",
      "#define __CEXT_EXAMPLE__H__\r\n",
      "\r\n",
      "int add_vector(int * p_a, int * p_b, int * p_c, int len);\r\n",
      "\r\n",
      "#endif"
     ]
    }
   ],
   "source": [
    "!cat code/c/swig_example.h"
   ]
  },
  {
   "cell_type": "markdown",
   "metadata": {},
   "source": [
    "然后，需要定义一个后缀为i的描述文件，用于swig工具处理源代码。由于本文所演示的功能中需要使用int类型的数组，所以在描述文件中也添加了一个相关的定义，就可以在python中定义int数组，便于调用。"
   ]
  },
  {
   "cell_type": "code",
   "execution_count": 10,
   "metadata": {},
   "outputs": [
    {
     "name": "stdout",
     "output_type": "stream",
     "text": [
      "%module swig_example\r\n",
      "\r\n",
      "\r\n",
      "%{\r\n",
      "#include \"swig_example.h\"\r\n",
      "%}\r\n",
      "\r\n",
      "%include \"carrays.i\"\r\n",
      "%array_class(int, intp);\r\n",
      "\r\n",
      "int add_vector(int * p_a, int * p_b, int * p_c, int len);"
     ]
    }
   ],
   "source": [
    "!cat code/c/swig_example.i"
   ]
  },
  {
   "cell_type": "markdown",
   "metadata": {},
   "source": [
    "使用swig指令调用上面所编写的描述文件，就可以生成针对源码的wrap接口代码。从以下的演示可以看出，这条指令生成了swig_example.py和swig_example_wrap.c两个文件。"
   ]
  },
  {
   "cell_type": "code",
   "execution_count": 7,
   "metadata": {},
   "outputs": [
    {
     "name": "stdout",
     "output_type": "stream",
     "text": [
      "├── swig_example.c\r\n",
      "├── swig_example.h\r\n",
      "├── swig_example.i\r\n",
      "├── swig_example.py\r\n",
      "└── swig_example_wrap.c\r\n"
     ]
    }
   ],
   "source": [
    "!cd code/c && swig -python swig_example.i\n",
    "!tree code/c | grep \"swig_example\""
   ]
  },
  {
   "cell_type": "markdown",
   "metadata": {},
   "source": [
    "接下来的步骤就跟上文中的C扩展步骤一致了，编写setup.py文件，然后编译。下面展示一个详细一点的setup.py文件，其中可以指定很多与模块相关的信息，便于形成标准的python第三方库。"
   ]
  },
  {
   "cell_type": "code",
   "execution_count": 11,
   "metadata": {},
   "outputs": [
    {
     "name": "stdout",
     "output_type": "stream",
     "text": [
      "from distutils.core import setup, Extension\r\n",
      "\r\n",
      "setup(\r\n",
      "    name='swig_example',\r\n",
      "    version='0.0.1',\r\n",
      "    author='Blue Geek',\r\n",
      "    description=\"example for swig python\",\r\n",
      "    ext_modules=[\r\n",
      "        Extension(\r\n",
      "            '_swig_example', \r\n",
      "            sources=['swig_example_wrap.c', 'swig_example.c'])],\r\n",
      "    py_modules=['swig_example']\r\n",
      ")"
     ]
    }
   ],
   "source": [
    "!cat code/c/swig_setup.py"
   ]
  },
  {
   "cell_type": "markdown",
   "metadata": {},
   "source": [
    "编译生成对应的so文件之后，就可以在python程序中调用了。"
   ]
  },
  {
   "cell_type": "code",
   "execution_count": 12,
   "metadata": {},
   "outputs": [
    {
     "name": "stdout",
     "output_type": "stream",
     "text": [
      "running build_ext\n",
      "│   └── swig_example.cpython-37.pyc\n",
      "├── _swig_example.cpython-37m-darwin.so\n",
      "│       ├── swig_example.o\n",
      "│       └── swig_example_wrap.o\n",
      "├── swig_example.c\n",
      "├── swig_example.h\n",
      "├── swig_example.i\n",
      "├── swig_example.py\n",
      "├── swig_example_wrap.c\n"
     ]
    }
   ],
   "source": [
    "!cd code/c && python3 swig_setup.py build_ext --inplace\n",
    "!tree code/c | grep \"swig_example\""
   ]
  },
  {
   "cell_type": "markdown",
   "metadata": {},
   "source": [
    "同样的，需要先设置以下搜索路径，以便于找到该模块。这里遇到的一个问题是需要保持python调用C/C++函数的传入参数与程序中定义的参数类型一致。由于本文所演示的例子中使用了int类型的指针，那么在描述文件中定义的intp就派上了用场。下面演示了参数转换和调用的过程。但从这个调用来看，似乎并不简单，其原因是参数类型的转换代码较多，而且还是只能服务于单一的数据类型转换。但这并不是一个大问题。通常在设计C/C++程序时，会提供大量简单易用的类型转换的接口，在python中也会封装一些接口，从而避免在实际调用过程中频繁编写代码进行转换。在封装完类型转换接口之后，其调用形式与C/C++源码中定义的是一致的，因此我们并不需要专门地阅读swig所生成的代码，只需要掌握一点swig描述配置即可。"
   ]
  },
  {
   "cell_type": "code",
   "execution_count": 7,
   "metadata": {},
   "outputs": [
    {
     "name": "stdout",
     "output_type": "stream",
     "text": [
      "ret=5\n",
      "result=[6, 6, 6, 6, 6]\n"
     ]
    }
   ],
   "source": [
    "import sys\n",
    "import os\n",
    "sys.path.append(os.path.join(os.getcwd(), 'code/c'))\n",
    "import swig_example\n",
    "\n",
    "# 从list到c数组的转换\n",
    "def set_intp(vlist):\n",
    "    tmp = swig_example.intp(len(vlist))\n",
    "    for idx,v in enumerate(vlist):\n",
    "        tmp[idx] = v\n",
    "    return tmp\n",
    "\n",
    "# 从c数组到list的转换\n",
    "def get_value_from_intp(intp, length):\n",
    "    vlist = []\n",
    "    for idx, v in enumerate(intp):\n",
    "        if idx>=length:\n",
    "            break\n",
    "        vlist.append(v)\n",
    "    return vlist\n",
    "# 创建三个变量\n",
    "al = set_intp([1,2,3,4,5])\n",
    "bl = set_intp([5,4,3,2,1])\n",
    "cl = set_intp([0,0,0,0,0])\n",
    "# 执行计算任务\n",
    "ret = swig_example.add_vector(al, bl, cl, 5)\n",
    "# 查看返回值\n",
    "print('ret={}'.format(ret))\n",
    "print('result={}'.format(get_value_from_intp(cl, 5)))"
   ]
  },
  {
   "cell_type": "markdown",
   "metadata": {},
   "source": [
    "到此，使用C/C++扩展python就讨论完毕。上面所描述的三种方法各有利弊，一般而言，交互接口简单的就直接使用动态共享库完成，如果调用接口比较复杂那么可以使用C扩展的方式完成，如果需要封装的C代码比较复杂，那么可以考虑使用swig工具实现，然后配合一些类型转换接口。从实际的开发经验来看，扩展python还是属于比较高阶的用法，一般的日常开发中是很少用到的。在图像处理领域，由于过去曾经积累了大量的C/C++代码，而且对计算效率的要求比较高，相对而言可能需要使用扩展python的地方稍多一点。本文的notebook版本文件在github的cnbluegeek/notebook仓库中共享，欢迎感兴趣的朋友前往下载。"
   ]
  }
 ],
 "metadata": {
  "kernelspec": {
   "display_name": "Python 3",
   "language": "python",
   "name": "python3"
  },
  "language_info": {
   "codemirror_mode": {
    "name": "ipython",
    "version": 3
   },
   "file_extension": ".py",
   "mimetype": "text/x-python",
   "name": "python",
   "nbconvert_exporter": "python",
   "pygments_lexer": "ipython3",
   "version": "3.7.4"
  }
 },
 "nbformat": 4,
 "nbformat_minor": 2
}
