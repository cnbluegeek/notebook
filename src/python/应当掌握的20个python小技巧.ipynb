{
 "cells": [
  {
   "cell_type": "markdown",
   "metadata": {},
   "source": [
    "# 应当掌握的20个python小技巧\n",
    "\n",
    "在开发python程序时常常会用到一些简单的小技巧，从而更加简洁的完成自己的任务。最近发现了一份英文版的整理笔记，原名《20 Python Snippets You Should Learn Today》，总结得很不错，这里就重新实现并转述一下。有更喜欢阅读英文版的朋友可以从本文底部的链接进入。"
   ]
  },
  {
   "cell_type": "markdown",
   "metadata": {},
   "source": [
    "## 1. 字符串倒序\n",
    "字符串倒序或许不太常用，但是列表倒序还是很常用的，其实际的语法就是切片。关于切片更详细的信息可以看我的另一篇帖子《python中神奇的切片》。"
   ]
  },
  {
   "cell_type": "code",
   "execution_count": 1,
   "metadata": {},
   "outputs": [
    {
     "name": "stdout",
     "output_type": "stream",
     "text": [
      "dlroW olleH\n"
     ]
    }
   ],
   "source": [
    "print('Hello World'[::-1])"
   ]
  },
  {
   "cell_type": "markdown",
   "metadata": {},
   "source": [
    "## 2. 标题首字母大写\n",
    "在一些语言处理类的任务中常常用到，要是自己实现恐怕就比较麻烦了，还是直接调用接口比较方便。"
   ]
  },
  {
   "cell_type": "code",
   "execution_count": 2,
   "metadata": {},
   "outputs": [
    {
     "name": "stdout",
     "output_type": "stream",
     "text": [
      "Freedom Forever, Truth Forever\n"
     ]
    }
   ],
   "source": [
    "print('freedom forever, truth forever'.title())"
   ]
  },
  {
   "cell_type": "markdown",
   "metadata": {},
   "source": [
    "## 3. 各异字母\n",
    "去除重复的字母是处理文本时的常见操作，这里是借用了set元素的互异性这一特性实现的。"
   ]
  },
  {
   "cell_type": "code",
   "execution_count": 3,
   "metadata": {},
   "outputs": [
    {
     "name": "stdout",
     "output_type": "stream",
     "text": [
      "fdacbe\n"
     ]
    }
   ],
   "source": [
    "s = 'aabbccddeeff'\n",
    "print(''.join(set(s)))"
   ]
  },
  {
   "cell_type": "markdown",
   "metadata": {},
   "source": [
    "## 4. n次重复\n",
    "将已有元素重复n次的操作常在新列表初始化时使用， 很多不熟悉这个特性的朋友初始化一个全零列表时真的会直接写若干个0，这实在是太低效也太不美观了。"
   ]
  },
  {
   "cell_type": "code",
   "execution_count": 4,
   "metadata": {},
   "outputs": [
    {
     "name": "stdout",
     "output_type": "stream",
     "text": [
      "[1, 2, 3, 1, 2, 3, 1, 2, 3]\n",
      "abcabcabc\n"
     ]
    }
   ],
   "source": [
    "print([1,2,3]*3)\n",
    "print('abc'*3)"
   ]
  },
  {
   "cell_type": "markdown",
   "metadata": {},
   "source": [
    "## 5. 列表妙用\n",
    "表达式内部循环和分支大概是python的一大特色，对与处理简单的列表计算是非常有效率的书写方式。"
   ]
  },
  {
   "cell_type": "code",
   "execution_count": 5,
   "metadata": {},
   "outputs": [
    {
     "name": "stdout",
     "output_type": "stream",
     "text": [
      "[1, 4, 9, 16]\n"
     ]
    }
   ],
   "source": [
    "print([x**2 for x in [1,2,3,4]])"
   ]
  },
  {
   "cell_type": "markdown",
   "metadata": {},
   "source": [
    "## 6. 数值互换\n",
    "数值互换当然是很简单的，只不过这里提供一种既方便又美观的写法。"
   ]
  },
  {
   "cell_type": "code",
   "execution_count": 6,
   "metadata": {},
   "outputs": [
    {
     "name": "stdout",
     "output_type": "stream",
     "text": [
      "a=2, b=1\n"
     ]
    }
   ],
   "source": [
    "a, b = 1, 2\n",
    "a, b = b, a\n",
    "print('a={}, b={}'.format(a, b))"
   ]
  },
  {
   "cell_type": "markdown",
   "metadata": {},
   "source": [
    "## 7. 字符串切分\n",
    "如果经常处理文本，特别是从日志文件中提取所需信息的时候，切分字符串非常管用。"
   ]
  },
  {
   "cell_type": "code",
   "execution_count": 7,
   "metadata": {},
   "outputs": [
    {
     "name": "stdout",
     "output_type": "stream",
     "text": [
      "['hello', 'world']\n",
      "['hello', 'world']\n"
     ]
    }
   ],
   "source": [
    "print('hello world'.split())\n",
    "print('hello,world'.split(','))"
   ]
  },
  {
   "cell_type": "markdown",
   "metadata": {},
   "source": [
    "## 8. 拼接字符串列表\n",
    "如果有很多的字符串需要拼接成一个句子，这时当然可以使用一个循环来做，不过还有更简单的方式，那就是join方法。"
   ]
  },
  {
   "cell_type": "code",
   "execution_count": 8,
   "metadata": {},
   "outputs": [
    {
     "name": "stdout",
     "output_type": "stream",
     "text": [
      "hello,world\n"
     ]
    }
   ],
   "source": [
    "print(','.join(['hello', 'world']))"
   ]
  },
  {
   "cell_type": "markdown",
   "metadata": {},
   "source": [
    "## 9. 回文字符串检查\n",
    "回文字符串似乎是个经久不衰的问题，这里可以使用字符串倒序来实现。"
   ]
  },
  {
   "cell_type": "code",
   "execution_count": 10,
   "metadata": {},
   "outputs": [
    {
     "name": "stdout",
     "output_type": "stream",
     "text": [
      "True\n"
     ]
    }
   ],
   "source": [
    "s = '12345678900987654321'\n",
    "print(s == s[::-1])"
   ]
  },
  {
   "cell_type": "markdown",
   "metadata": {},
   "source": [
    "## 10. 列表元素频数\n",
    "统计列表元素的频数在统计分析中是经常用到，初学者可能会使用一个循环老进行统计，当然也是能够完成任务的，只是稍显业余。"
   ]
  },
  {
   "cell_type": "code",
   "execution_count": 11,
   "metadata": {},
   "outputs": [
    {
     "name": "stdout",
     "output_type": "stream",
     "text": [
      "Counter({'c': 3, 'a': 2, 'b': 1})\n",
      "[('c', 3), ('a', 2), ('b', 1)]\n"
     ]
    }
   ],
   "source": [
    "from collections import Counter\n",
    "a = ['a', 'a', 'b', 'c', 'c', 'c']\n",
    "print(Counter(a))\n",
    "print(Counter(a).most_common())"
   ]
  },
  {
   "cell_type": "markdown",
   "metadata": {},
   "source": [
    "## 11. 检查字符串组成\n",
    "使用统计频数的方法可以获得一个字符串中各个基本元素出现的频数，这在判断一些字符串的相似性方面提供了便利。"
   ]
  },
  {
   "cell_type": "code",
   "execution_count": 13,
   "metadata": {},
   "outputs": [
    {
     "name": "stdout",
     "output_type": "stream",
     "text": [
      "Counter({'a': 1, 'b': 1, 'c': 1, 'd': 1, 'e': 1})\n",
      "True\n",
      "False\n"
     ]
    }
   ],
   "source": [
    "from collections import Counter\n",
    "a, b, c = 'abcde', 'abced', 'abcda'\n",
    "print(Counter(a))\n",
    "print(Counter(a) == Counter(b))\n",
    "print(Counter(a) == Counter(c))"
   ]
  },
  {
   "cell_type": "markdown",
   "metadata": {},
   "source": [
    "## 12. 异常捕获\n",
    "异常捕获大概是python程序绕不开的问题，只要项目稍微大一点，几乎不可能不处理异常。关于异常更具体的介绍可以看我的另一个帖子《异常的处理让python更健壮》。"
   ]
  },
  {
   "cell_type": "code",
   "execution_count": 14,
   "metadata": {},
   "outputs": [
    {
     "name": "stdout",
     "output_type": "stream",
     "text": [
      "error: divide zero\n",
      "completely\n"
     ]
    }
   ],
   "source": [
    "try:\n",
    "    print(1/0)\n",
    "except ZeroDivisionError as e:\n",
    "    print('error: divide zero')\n",
    "else:\n",
    "    print('normal')\n",
    "finally:\n",
    "    print('completely')"
   ]
  },
  {
   "cell_type": "markdown",
   "metadata": {},
   "source": [
    "## 13. 使用枚举遍历\n",
    "有时在遍历列表时需要同时获得元素索引和内容，这是enumerate就派上用场。很多初学者使用循环中累加的方式来计算索引当然也不是不行，只是enumerate显然是更加方便和专业的。"
   ]
  },
  {
   "cell_type": "code",
   "execution_count": 15,
   "metadata": {},
   "outputs": [
    {
     "name": "stdout",
     "output_type": "stream",
     "text": [
      "idx=0, value=hello\n",
      "idx=1, value=world\n"
     ]
    }
   ],
   "source": [
    "a = ['hello', 'world']\n",
    "for idx, value in enumerate(a):\n",
    "    print('idx={}, value={}'.format(idx, value))"
   ]
  },
  {
   "cell_type": "markdown",
   "metadata": {},
   "source": [
    "## 14. 查看对象大小\n",
    "python开发者或许并不是太关心对象所占内存的问题，一般够用就行。对于有些内存敏感的项目大概是需要查看一下，单位是字节。"
   ]
  },
  {
   "cell_type": "code",
   "execution_count": 20,
   "metadata": {},
   "outputs": [
    {
     "name": "stdout",
     "output_type": "stream",
     "text": [
      "28\n"
     ]
    }
   ],
   "source": [
    "import sys\n",
    "print(sys.getsizeof(1))"
   ]
  },
  {
   "cell_type": "markdown",
   "metadata": {},
   "source": [
    "## 15. 合并词典\n",
    "\n",
    "将多个词典合并这一个词典的需求也是有的，只是凡合并就可能产生冲突，对冲突的不通解决方式也就有不同的合并策略。如果开发者只想用最简单的替换策略的话，下面这种合并就是比较合适了。"
   ]
  },
  {
   "cell_type": "code",
   "execution_count": 21,
   "metadata": {},
   "outputs": [
    {
     "name": "stdout",
     "output_type": "stream",
     "text": [
      "{1: 'today', 2: 'world', 3: 'is', 4: 'lucky', 5: 'day'}\n"
     ]
    }
   ],
   "source": [
    "dict1 = {1:'hello', 2:'world'}\n",
    "dict2 = {1:'today', 3:'is', 4:'lucky', 5:'day'}\n",
    "print({**dict1, **dict2})"
   ]
  },
  {
   "cell_type": "markdown",
   "metadata": {},
   "source": [
    "## 16. 计时\n",
    "我们常常需要统计一段代码的运行时间来评估该段代码的性能，内置的time模块可以满足这种需求。"
   ]
  },
  {
   "cell_type": "code",
   "execution_count": 23,
   "metadata": {},
   "outputs": [
    {
     "name": "stdout",
     "output_type": "stream",
     "text": [
      "cost time 0.00012421607971191406 secs\n"
     ]
    }
   ],
   "source": [
    "import time\n",
    "start = time.time()\n",
    "for i in range(1000):\n",
    "    pass\n",
    "print('cost time {} secs'.format(time.time() - start))"
   ]
  },
  {
   "cell_type": "markdown",
   "metadata": {},
   "source": [
    "## 17. 多维列表压平\n",
    "将多维列表压平成一维列表是一种数据预处理的方法，有时会给数据处理带来很大的便利。如果是结构不太清晰的多维列表，建议采用iteration_utilities，如果是格式化的多维列表可以构成数组的话，使用numpy会更高效一点。不过这两者都是第三方库，需要安装。对于一些公司开发机所在内网可能无法访问外网，那就没办法，只能手写多重循环进行unpack了。"
   ]
  },
  {
   "cell_type": "code",
   "execution_count": 37,
   "metadata": {},
   "outputs": [
    {
     "name": "stdout",
     "output_type": "stream",
     "text": [
      "1,2,3,4,5,6,7,8,9,10,\n",
      "[1 2 3 4]\n"
     ]
    }
   ],
   "source": [
    "# numpy和iteration_utilities是需要安装的第三方库\n",
    "import numpy as np\n",
    "from iteration_utilities import deepflatten\n",
    "a = [1,2, [3,4], [[5,6], [7,8], [[9], [10]]]]\n",
    "b = [[1,2], [3,4]]\n",
    "for i in deepflatten(a):\n",
    "    print(i, end=',')\n",
    "print()\n",
    "print(np.array(b).flatten())\n"
   ]
  },
  {
   "cell_type": "markdown",
   "metadata": {},
   "source": [
    "## 18. 列表随机采样\n",
    "对列表元素进行随机采用在一些机器学习的项目中可能会需要，实现起来倒也很简单。"
   ]
  },
  {
   "cell_type": "code",
   "execution_count": 39,
   "metadata": {},
   "outputs": [
    {
     "name": "stdout",
     "output_type": "stream",
     "text": [
      "[6, 4, 2]\n"
     ]
    }
   ],
   "source": [
    "import random\n",
    "print(random.sample([1,2,3,4,5,6], 3))"
   ]
  },
  {
   "cell_type": "markdown",
   "metadata": {},
   "source": [
    "## 19. 整数数字化\n",
    "分离出一个整数的各个数位的数字，这种需求使用python来实现那是最好不过，但是也千万别用循环求余和整除来完成，毕竟python还有更优雅的实现方式。"
   ]
  },
  {
   "cell_type": "code",
   "execution_count": 40,
   "metadata": {},
   "outputs": [
    {
     "name": "stdout",
     "output_type": "stream",
     "text": [
      "[1, 2, 3, 4, 5, 6, 7]\n"
     ]
    }
   ],
   "source": [
    "print(list(map(int, str(1234567))))"
   ]
  },
  {
   "cell_type": "markdown",
   "metadata": {},
   "source": [
    "## 20. 元素不重复性检查\n",
    "涉及的元素互异的操作基本就会联想到set这种数据结构，检查是否有重复元素自然也是用set更方便。"
   ]
  },
  {
   "cell_type": "code",
   "execution_count": 41,
   "metadata": {},
   "outputs": [
    {
     "name": "stdout",
     "output_type": "stream",
     "text": [
      "False\n"
     ]
    }
   ],
   "source": [
    "a = [1,2,3,4,5,6,2]\n",
    "print(len(a) == len(set(a)))"
   ]
  },
  {
   "cell_type": "markdown",
   "metadata": {},
   "source": [
    "到此，需要学会的20个python小技巧就介绍完毕。英文原版链接：https://medium.com/better-programming/20-python-snippets-you-should-learn-today-8328e26ff124 。 本文的notebbook版文件在github上cnbluegeek/notebook仓库中共享，欢迎感兴趣的朋友前往下载。"
   ]
  }
 ],
 "metadata": {
  "kernelspec": {
   "display_name": "Python 3",
   "language": "python",
   "name": "python3"
  },
  "language_info": {
   "codemirror_mode": {
    "name": "ipython",
    "version": 3
   },
   "file_extension": ".py",
   "mimetype": "text/x-python",
   "name": "python",
   "nbconvert_exporter": "python",
   "pygments_lexer": "ipython3",
   "version": "3.7.4"
  }
 },
 "nbformat": 4,
 "nbformat_minor": 2
}
