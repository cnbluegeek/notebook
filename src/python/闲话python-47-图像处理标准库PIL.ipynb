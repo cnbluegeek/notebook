{
 "cells": [
  {
   "cell_type": "markdown",
   "metadata": {},
   "source": [
    "# 闲话python 47: 图像处理标准库PIL\n",
    "\n",
    "使用python完成图像处理或者计算机视觉的任务时，常常需要一个封装好的图像读取和简单处理的库。很多朋友会使用opencv的python接口或者skimage等等模块，不过还有一个很不错的选择，那就是PIL(Python Image Library)。在python3中提供PIL功能的是Pillow模块，如果还没安装的话，可以直接使用pip指令安装。一些大型的机器学习库其实已经依赖了这个模块，所以在安装那些机器学习模块的时候就自动安装了Pillow。从目前一些著名的第三方库源码中可以看到，PIL的使用是非常广泛的，所以PIL也成为了事实上的python图像处理标准模块。如果需要在项目中使用图像，但是有不便于使用opencv这种庞大的库，那么PIL就是个非常不错的选择。本文根据Pillow的文档，简要介绍一些PIL中几个常用的操作接口，更多的功能可以直接查看文档。"
   ]
  },
  {
   "cell_type": "markdown",
   "metadata": {},
   "source": [
    "## 1. 读写图像\n",
    "\n",
    "如果只是需要读写图像，使用opencv的话就显得太沉重，在发布和部署时也不方便。这一功能需求完全可以使用PIL这个更加轻量级的模块实现。除了基本的读取图像文件和保存图像到文件这两个操作外，PIL还提供了缩略图生成的功能，这在一些图像展示的应用中比较常用。毕竟展示大量图片时，没有必要浪费存储空间来保留完整的分辨率信息，只需使用缩略图展示图片大体的内容即可。"
   ]
  },
  {
   "cell_type": "code",
   "execution_count": 24,
   "metadata": {},
   "outputs": [
    {
     "name": "stdout",
     "output_type": "stream",
     "text": [
      "img.format=PNG, img.size=(885, 885), img.mode=RGBA\n"
     ]
    }
   ],
   "source": [
    "from PIL import Image\n",
    "# 读取图像\n",
    "img = Image.open('../../data/lena.png')\n",
    "print('img.format={}, img.size={}, img.mode={}'.format(\n",
    "    img.format, img.size, img.mode))\n",
    "# 显示图像\n",
    "img.show()\n",
    "img.save('../../output/res_lena.png')"
   ]
  },
  {
   "cell_type": "markdown",
   "metadata": {},
   "source": [
    "![title](../../output/res_lena.png)"
   ]
  },
  {
   "cell_type": "code",
   "execution_count": 25,
   "metadata": {},
   "outputs": [
    {
     "name": "stdout",
     "output_type": "stream",
     "text": [
      "├── res_lena.png\r\n",
      "├── res_lena_thumbnail.png\r\n"
     ]
    }
   ],
   "source": [
    "# 获取缩略图\n",
    "img.thumbnail((100, 100))\n",
    "# 保存图像到jpg文件\n",
    "img.save('../../output/res_lena_thumbnail.png')\n",
    "# 查看保存结果路径\n",
    "!tree ../../output/ | grep \"lena\""
   ]
  },
  {
   "cell_type": "markdown",
   "metadata": {},
   "source": [
    "![title](../../output/res_lena_thumbnail.png)"
   ]
  },
  {
   "cell_type": "markdown",
   "metadata": {},
   "source": [
    "## 2. 简单图像操作\n",
    "\n",
    "简单的图像操作包括截图、粘贴以及合并通道。PIL提供了比较方便和直观的操作接口来完成这些简单的图像操作。"
   ]
  },
  {
   "cell_type": "code",
   "execution_count": 26,
   "metadata": {},
   "outputs": [],
   "source": [
    "# 截取一个区域\n",
    "img = Image.open('../../data/lena.png')\n",
    "box = (150, 150, 650, 650)\n",
    "reg = img.crop(box)\n",
    "# 旋转180度\n",
    "reg = reg.transpose(Image.ROTATE_180)\n",
    "# 粘贴到指定位置\n",
    "img.paste(reg, box)\n",
    "img.show()\n",
    "# 通道分离\n",
    "r,g,b,_ = img.split()\n",
    "# 合并RGB通道\n",
    "img = Image.merge('RGB', (r,g,b))\n",
    "img.save('../../output/res_lena_crop.jpg', 'JPEG')"
   ]
  },
  {
   "cell_type": "markdown",
   "metadata": {},
   "source": [
    "![title](../../output/res_lena_crop.jpg)"
   ]
  },
  {
   "cell_type": "markdown",
   "metadata": {},
   "source": [
    "## 3. 图像变换\n",
    "\n",
    "图像处理中常常需要进行几何变换和图像滤波，这种通用的底层操作是一些复杂图像处理功能的基础。下面演示大小变化、旋转变化、图像灰度化以及使用滤波器对图像进行增强。"
   ]
  },
  {
   "cell_type": "markdown",
   "metadata": {},
   "source": [
    "### (1) 大小变换"
   ]
  },
  {
   "cell_type": "code",
   "execution_count": 31,
   "metadata": {},
   "outputs": [],
   "source": [
    "from PIL import ImageFilter\n",
    "img = Image.open('../../data/lena.png')\n",
    "# 大小变换resize\n",
    "oim = img.resize((128, 128))\n",
    "oim.show()\n",
    "oim.save('../../output/res_lena_resize.png')"
   ]
  },
  {
   "cell_type": "markdown",
   "metadata": {},
   "source": [
    "![title](../../output/res_lena_resize.png)"
   ]
  },
  {
   "cell_type": "markdown",
   "metadata": {},
   "source": [
    "### (2) 旋转变换"
   ]
  },
  {
   "cell_type": "code",
   "execution_count": 28,
   "metadata": {},
   "outputs": [],
   "source": [
    "# 旋转变换\n",
    "oim = img.rotate(45)    #逆时针旋转45度\n",
    "oim.show()\n",
    "oim.save('../../output/res_lena_rotate.png')"
   ]
  },
  {
   "cell_type": "markdown",
   "metadata": {},
   "source": [
    "![title](../../output/res_lena_rotate.png)"
   ]
  },
  {
   "cell_type": "markdown",
   "metadata": {},
   "source": [
    "### (3) 颜色变换"
   ]
  },
  {
   "cell_type": "code",
   "execution_count": 29,
   "metadata": {},
   "outputs": [],
   "source": [
    "# 颜色空间变换\n",
    "oim = img.convert('L')  # 灰度化\n",
    "oim.show()\n",
    "oim.save('../../output/res_lena_L.png')"
   ]
  },
  {
   "cell_type": "markdown",
   "metadata": {},
   "source": [
    "![title](../../output/res_lena_L.png)"
   ]
  },
  {
   "cell_type": "markdown",
   "metadata": {},
   "source": [
    "### (4) 滤波器"
   ]
  },
  {
   "cell_type": "code",
   "execution_count": 30,
   "metadata": {},
   "outputs": [],
   "source": [
    "# 滤波器\n",
    "oim = img.filter(ImageFilter.EDGE_ENHANCE) # 边缘增强\n",
    "oim.show()\n",
    "oim.save('../../output/res_lena_filter.png')"
   ]
  },
  {
   "cell_type": "markdown",
   "metadata": {},
   "source": [
    "![title](../../output/res_lena_filter.png)"
   ]
  },
  {
   "cell_type": "markdown",
   "metadata": {},
   "source": [
    "关于PIL简单的使用介绍就到这里了。我曾经为加载图像寻找了好几个第三方库，只需要使用一点功能就把opencv搬出来实在是心有不甘。后来找到了skimage系列的工具，虽然也可以使用，但是由于各种原因总用得不太顺手。阅读本文的朋友就不需要再浪费时间在这些库的尝试中了，小功能直接使用PIL。本文的notebook版本在github上的cnbluegeek/notebook仓库中共享，欢迎感兴趣的朋友前往下载。"
   ]
  }
 ],
 "metadata": {
  "kernelspec": {
   "display_name": "Python 3",
   "language": "python",
   "name": "python3"
  },
  "language_info": {
   "codemirror_mode": {
    "name": "ipython",
    "version": 3
   },
   "file_extension": ".py",
   "mimetype": "text/x-python",
   "name": "python",
   "nbconvert_exporter": "python",
   "pygments_lexer": "ipython3",
   "version": "3.7.5"
  }
 },
 "nbformat": 4,
 "nbformat_minor": 2
}
