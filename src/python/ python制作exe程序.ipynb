{
 "cells": [
  {
   "cell_type": "markdown",
   "metadata": {},
   "source": [
    "#  python制作exe程序\n",
    "\n",
    "2017.03.26\\\\\n",
    "将python程序制作成独立的windows可执行文件exe在部署程序的时候比较方便，特别是在没有安装python开发环境的计算机上部署时。 下面我们展示一种将PyQt4的python程序打包成exe程序的具体操作。在此之前，我们需要先安装PyQt4和py2exe两个第三方库，可以从<http://www.lfd.uci.edu/~gohlke/pythonlibs/>下载相应的包。安装完成之后，我们可以进行如下操作\n",
    "\n",
    "(1) 编写my\\_python.py文件：\n",
    "```python\n",
    "# encoding: utf8\n",
    "import sys\n",
    "# from PyQt4.QtCore import *\n",
    "from PyQt4 import QtGui\n",
    "\n",
    "# Create app\n",
    "app = QtGui.QApplication(sys.argv)\n",
    "win = QtGui.QMainWindow()\n",
    "win.setWindowTitle('Hello EXE')\n",
    "win.show()\n",
    "# Execute app\n",
    "app.exec_()\n",
    "```\n",
    "\n",
    "(2) 编写setup\n",
    "```python\n",
    "# encoding: utf8\n",
    "\n",
    "from distutils.core import setup\n",
    "from py2exe.build_exe import py2exe\n",
    "\n",
    "py2exe_options = {\"includes\": [\"sip\", 'PyQt4.QtCore'], }\n",
    "script = [{\"script\": \"my_python.py\"}]\n",
    "setup(console=script, options={'py2exe': py2exe_options})\n",
    "```\n",
    "\n",
    "(3)进行转换\\\\\n",
    "在命令行模式下进入到setup.py所在目录，然后输入命令：\n",
    "```shell\n",
    "python setup.py py2exe\n",
    "```\n",
    "然后进入生成的dist目录下，执行生成的my\\_python.exe文件。"
   ]
  }
 ],
 "metadata": {
  "kernelspec": {
   "display_name": "Python 3",
   "language": "python",
   "name": "python3"
  },
  "language_info": {
   "codemirror_mode": {
    "name": "ipython",
    "version": 3
   },
   "file_extension": ".py",
   "mimetype": "text/x-python",
   "name": "python",
   "nbconvert_exporter": "python",
   "pygments_lexer": "ipython3",
   "version": "3.7.4"
  }
 },
 "nbformat": 4,
 "nbformat_minor": 2
}
