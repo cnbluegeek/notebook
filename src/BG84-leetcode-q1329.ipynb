{
 "cells": [
  {
   "cell_type": "markdown",
   "metadata": {},
   "source": [
    "# <center>面试刷题：矩阵对角线排序</center>"
   ]
  },
  {
   "cell_type": "markdown",
   "metadata": {},
   "source": [
    "By [青衣极客 Blue Geek]() In 2020-04-10"
   ]
  },
  {
   "cell_type": "markdown",
   "metadata": {},
   "source": [
    "排序作为一种基本算法，已经不太可能直接作为面试题，但是 ***以排序作为基础内核来解决问题仍然是一个不错的出题点***。Leetcode Q1329 就是一个很好的例子，难度并不大，却可以很好地检查开发者运用基础的排序算法解决问题的能力。***这远比手动写一个大顶堆或者红黑树有意义得多，毕竟真实工作中大家不太可能这样做。***"
   ]
  },
  {
   "cell_type": "markdown",
   "metadata": {},
   "source": [
    "## 1. 题目 Q1329 矩阵对角线排序\n",
    "\n",
    "给定一个 $m \\times n$ 整数矩阵，按从左上角到右下角的 ***升序对角*** 对其进行排序，然后返回排序后的数组。\n",
    "\n",
    "***约束条件：***\n",
    "\n",
    "    (a) m == mat.length\n",
    "    (b) n == mat[i].length\n",
    "    (c) 1 <= m, n <= 100\n",
    "    (d) 1 <= mat[i][j] <= 100\n",
    "    \n",
    "### 示例1\n",
    "\n",
    "```\n",
    "Input: mat = [[3,3,1,1],[2,2,1,2],[1,1,1,2]]\n",
    "Output: [[1,1,1,1],[1,2,2,2],[1,2,3,3]]\n",
    "```\n",
    "\n",
    "***解释：*** \n",
    "\n",
    "$$\\begin{matrix}3,3,1,1\\\\ 2,2,1,2\\\\ 1,1,1,2  \\end{matrix} \\rightarrow \\begin{matrix} 1,1,1,1\\\\ 1,2,2,2\\\\ 1,2,3,3 \\end{matrix} $$"
   ]
  },
  {
   "cell_type": "markdown",
   "metadata": {},
   "source": [
    "## 2. 解题思路\n",
    "\n",
    "题意已经描述地很清楚了，就是每个对角线单独进行升序的排序。不过我们需要知道一点，即矩阵并不一定就是方阵。我们可以 ***逐个取出对角线元素，然后针对这些元素使用快速排序算法按升序排列，最后再将排序完成的元素回填到矩阵之中的对应位置处***。\n",
    "\n",
    "![对角线排序示意图](images/bg84/q1329-idea.png)\n",
    "\n",
    "按照这个思路，排序已经不是难点了，真正的难点变成了按照对角线取元素和回填元素。从实现的角度来看，***对左上角的对角线和右下角的对角线提取元素的方式还稍有差别，因此需要分开处理***。\n",
    "\n",
    "![左上和右下对角线分开处理](images/bg84/q1329-left-right.png)"
   ]
  },
  {
   "cell_type": "markdown",
   "metadata": {},
   "source": [
    "## 3. C++解决方案\n",
    "\n",
    "按照以上的思路，这里给出C++的解决方案。\n",
    "\n",
    "```Cpp\n",
    "class Solution {\n",
    "public:\n",
    "    // Runtime: 28 ms, faster than 88.50%\n",
    "    // Memory Usage: 10.6 MB, less than 100.00%\n",
    "    vector<vector<int>> diagonalSort(vector<vector<int>>& mat) {\n",
    "        int m = mat.size();\n",
    "        int n = mat[0].size();\n",
    "        vector<int> buff;  // avoid creating object repeatedly\n",
    "        int r = 0, c = 0;\n",
    "        // sort right-up\n",
    "        for (int i=0; i<n; ++i) {\n",
    "            buff.clear();\n",
    "            r = 0, c = i;\n",
    "            while(r < m && c < n) {\n",
    "                buff.push_back(mat[r++][c++]);\n",
    "            }\n",
    "            // sort diag\n",
    "            sort(buff.begin(), buff.end());\n",
    "            // fill into mat\n",
    "            r = 0, c = i;\n",
    "            for (auto & v : buff) {\n",
    "                mat[r++][c++] = v;\n",
    "            }\n",
    "        }\n",
    "        // sort left-bottom\n",
    "        for (int i=1; i<m; ++i) {\n",
    "            buff.clear();\n",
    "            r = i, c = 0;\n",
    "            while (r < m && c < n) {\n",
    "                buff.push_back(mat[r++][c++]);\n",
    "            }\n",
    "            // sort diag\n",
    "            sort(buff.begin(), buff.end());\n",
    "            // fill into mat\n",
    "            r = i, c = 0;\n",
    "            for (auto & v : buff) {\n",
    "                mat[r++][c++] = v;\n",
    "            }\n",
    "        }\n",
    "        return mat;\n",
    "    }\n",
    "};\n",
    "```\n",
    "\n",
    "在实现上需要说明的是，***尽量减少零时变量的创建次数，尽量预先使用reserve()函数为vector分配内存***。对于“前++”和“后++”这两种语法的使用可以使代码更简洁，如果解决可读性下降，也可以拆分开编写。"
   ]
  },
  {
   "cell_type": "markdown",
   "metadata": {},
   "source": [
    "***题外：***\n",
    "\n",
    "本频道创建了一个代码库专门用于管理和自动化测试Leetcode刷题代码，如果需要更方便地获取源码或者贡献解决方案，可以查看仓库：[leetcode](https://github.com/jielyu/leetcode)"
   ]
  }
 ],
 "metadata": {
  "kernelspec": {
   "display_name": "Python 3",
   "language": "python",
   "name": "python3"
  },
  "language_info": {
   "codemirror_mode": {
    "name": "ipython",
    "version": 3
   },
   "file_extension": ".py",
   "mimetype": "text/x-python",
   "name": "python",
   "nbconvert_exporter": "python",
   "pygments_lexer": "ipython3",
   "version": "3.7.7"
  }
 },
 "nbformat": 4,
 "nbformat_minor": 2
}
