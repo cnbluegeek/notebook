{
 "cells": [
  {
   "cell_type": "markdown",
   "metadata": {},
   "source": [
    "# <center>pandas的21个基本操作</center>"
   ]
  },
  {
   "cell_type": "code",
   "execution_count": 1,
   "metadata": {},
   "outputs": [],
   "source": [
    "import os\n",
    "import pandas as pd\n",
    "import numpy as np"
   ]
  },
  {
   "cell_type": "markdown",
   "metadata": {},
   "source": [
    "## 1. 怎样读取csv文件或者文本文件？"
   ]
  },
  {
   "cell_type": "code",
   "execution_count": 2,
   "metadata": {},
   "outputs": [
    {
     "name": "stdout",
     "output_type": "stream",
     "text": [
      "   A   B   C   D\n",
      "0  1   2   3   4\n",
      "1  5   6   7   8\n",
      "2  9  10  11  12\n"
     ]
    }
   ],
   "source": [
    "''' data.csv\n",
    "A,B,C,D\n",
    "1,2,3,4\n",
    "5,6,7,8\n",
    "'''\n",
    "csv_path = '../data/data.csv'\n",
    "df = pd.read_csv(csv_path, sep=',', header=0, index_col=False, names=None)\n",
    "print(df)"
   ]
  },
  {
   "cell_type": "code",
   "execution_count": 3,
   "metadata": {},
   "outputs": [
    {
     "name": "stdout",
     "output_type": "stream",
     "text": [
      "   A   B   C   D\n",
      "0  1   2   3   4\n",
      "1  5   6   7   8\n",
      "2  9  10  11  12\n"
     ]
    }
   ],
   "source": [
    "''' data.txt\n",
    "A B C D\n",
    "1 2 3 4\n",
    "5 6 7 8\n",
    "'''\n",
    "txt_path = '../data/data.txt'\n",
    "df = pd.read_csv(txt_path, sep=' ', header=0, index_col=False, names=None)\n",
    "print(df)"
   ]
  },
  {
   "cell_type": "markdown",
   "metadata": {},
   "source": [
    "## 2. 怎样使用已有数据创建data frame？"
   ]
  },
  {
   "cell_type": "code",
   "execution_count": 4,
   "metadata": {},
   "outputs": [
    {
     "name": "stdout",
     "output_type": "stream",
     "text": [
      "   A   B   C   D\n",
      "0  1   2   3   4\n",
      "1  5   6   7   8\n",
      "2  9  10  11  12\n"
     ]
    }
   ],
   "source": [
    "# 从词典数据创建data frame\n",
    "d_dict = {'A':[1,5,9], 'B':[2,6,10], 'C':[3,7,11], 'D':[4,8,12]}\n",
    "df = pd.DataFrame(data=d_dict)\n",
    "print(df)"
   ]
  },
  {
   "cell_type": "code",
   "execution_count": 5,
   "metadata": {},
   "outputs": [
    {
     "name": "stdout",
     "output_type": "stream",
     "text": [
      "   A   B   C   D\n",
      "0  1   2   3   4\n",
      "1  5   6   7   8\n",
      "2  9  10  11  12\n"
     ]
    }
   ],
   "source": [
    "# 从numpy数组创建data frame\n",
    "np_data = np.array([[1,2,3,4],[5,6,7,8],[9,10,11,12]])\n",
    "col_names = ['A', 'B', 'C', 'D']\n",
    "df = pd.DataFrame(data=np_data, columns=col_names)\n",
    "print(df)"
   ]
  },
  {
   "cell_type": "markdown",
   "metadata": {},
   "source": [
    "## 3. 怎样可视化data frame的顶部和底部数值？"
   ]
  },
  {
   "cell_type": "code",
   "execution_count": 9,
   "metadata": {},
   "outputs": [
    {
     "data": {
      "text/html": [
       "<div>\n",
       "<style scoped>\n",
       "    .dataframe tbody tr th:only-of-type {\n",
       "        vertical-align: middle;\n",
       "    }\n",
       "\n",
       "    .dataframe tbody tr th {\n",
       "        vertical-align: top;\n",
       "    }\n",
       "\n",
       "    .dataframe thead th {\n",
       "        text-align: right;\n",
       "    }\n",
       "</style>\n",
       "<table border=\"1\" class=\"dataframe\">\n",
       "  <thead>\n",
       "    <tr style=\"text-align: right;\">\n",
       "      <th></th>\n",
       "      <th>A</th>\n",
       "    </tr>\n",
       "  </thead>\n",
       "  <tbody>\n",
       "    <tr>\n",
       "      <th>0</th>\n",
       "      <td>1</td>\n",
       "    </tr>\n",
       "    <tr>\n",
       "      <th>1</th>\n",
       "      <td>2</td>\n",
       "    </tr>\n",
       "    <tr>\n",
       "      <th>2</th>\n",
       "      <td>3</td>\n",
       "    </tr>\n",
       "    <tr>\n",
       "      <th>3</th>\n",
       "      <td>4</td>\n",
       "    </tr>\n",
       "    <tr>\n",
       "      <th>4</th>\n",
       "      <td>5</td>\n",
       "    </tr>\n",
       "  </tbody>\n",
       "</table>\n",
       "</div>"
      ],
      "text/plain": [
       "   A\n",
       "0  1\n",
       "1  2\n",
       "2  3\n",
       "3  4\n",
       "4  5"
      ]
     },
     "execution_count": 9,
     "metadata": {},
     "output_type": "execute_result"
    }
   ],
   "source": [
    "d_dict = {'A':[1,2,3,4,5,6,7,8,9,10,11,12]}\n",
    "df = pd.DataFrame(data=d_dict)\n",
    "\n",
    "df.head(5)"
   ]
  },
  {
   "cell_type": "code",
   "execution_count": 11,
   "metadata": {},
   "outputs": [
    {
     "data": {
      "text/html": [
       "<div>\n",
       "<style scoped>\n",
       "    .dataframe tbody tr th:only-of-type {\n",
       "        vertical-align: middle;\n",
       "    }\n",
       "\n",
       "    .dataframe tbody tr th {\n",
       "        vertical-align: top;\n",
       "    }\n",
       "\n",
       "    .dataframe thead th {\n",
       "        text-align: right;\n",
       "    }\n",
       "</style>\n",
       "<table border=\"1\" class=\"dataframe\">\n",
       "  <thead>\n",
       "    <tr style=\"text-align: right;\">\n",
       "      <th></th>\n",
       "      <th>A</th>\n",
       "    </tr>\n",
       "  </thead>\n",
       "  <tbody>\n",
       "    <tr>\n",
       "      <th>9</th>\n",
       "      <td>10</td>\n",
       "    </tr>\n",
       "    <tr>\n",
       "      <th>10</th>\n",
       "      <td>11</td>\n",
       "    </tr>\n",
       "    <tr>\n",
       "      <th>11</th>\n",
       "      <td>12</td>\n",
       "    </tr>\n",
       "  </tbody>\n",
       "</table>\n",
       "</div>"
      ],
      "text/plain": [
       "     A\n",
       "9   10\n",
       "10  11\n",
       "11  12"
      ]
     },
     "execution_count": 11,
     "metadata": {},
     "output_type": "execute_result"
    }
   ],
   "source": [
    "df.tail(3)"
   ]
  },
  {
   "cell_type": "markdown",
   "metadata": {},
   "source": [
    "## 4. 怎样重命名若干列？"
   ]
  },
  {
   "cell_type": "code",
   "execution_count": 12,
   "metadata": {},
   "outputs": [
    {
     "name": "stdout",
     "output_type": "stream",
     "text": [
      "   new_A  new_B  new_C   D\n",
      "0      1      2      3   4\n",
      "1      5      6      7   8\n",
      "2      9     10     11  12\n"
     ]
    }
   ],
   "source": [
    "d_dict = {'A':[1,5,9], 'B':[2,6,10], 'C':[3,7,11], 'D':[4,8,12]}\n",
    "df = pd.DataFrame(data=d_dict)\n",
    "\n",
    "new_df = df.rename(columns={'A':'new_A', 'B':'new_B', 'C':'new_C'})\n",
    "print(new_df)"
   ]
  },
  {
   "cell_type": "markdown",
   "metadata": {},
   "source": [
    "## 5. 怎样获取列的名字形成一个列表？"
   ]
  },
  {
   "cell_type": "code",
   "execution_count": 13,
   "metadata": {},
   "outputs": [
    {
     "name": "stdout",
     "output_type": "stream",
     "text": [
      "['A', 'B', 'C', 'D']\n"
     ]
    }
   ],
   "source": [
    "d_dict = {'A':[1,5,9], 'B':[2,6,10], 'C':[3,7,11], 'D':[4,8,12]}\n",
    "df = pd.DataFrame(data=d_dict)\n",
    "\n",
    "name_list = df.columns.tolist()\n",
    "print(name_list)"
   ]
  },
  {
   "cell_type": "markdown",
   "metadata": {},
   "source": [
    "## 6. 怎样获取一列数据的值出现频率？"
   ]
  },
  {
   "cell_type": "code",
   "execution_count": 15,
   "metadata": {},
   "outputs": [
    {
     "name": "stdout",
     "output_type": "stream",
     "text": [
      "1    2\n",
      "5    1\n",
      "Name: A, dtype: int64\n",
      "<class 'pandas.core.series.Series'>\n"
     ]
    }
   ],
   "source": [
    "d_dict = {'A':[1,5,1], 'B':[2,6,10], 'C':[3,7,11], 'D':[4,8,12]}\n",
    "df = pd.DataFrame(data=d_dict)\n",
    "A_cnt = df['A'].value_counts()\n",
    "print(A_cnt)\n",
    "print(type(A_cnt))"
   ]
  },
  {
   "cell_type": "markdown",
   "metadata": {},
   "source": [
    "## 7. 怎样删除行以及重置索引"
   ]
  },
  {
   "cell_type": "code",
   "execution_count": 17,
   "metadata": {},
   "outputs": [
    {
     "name": "stdout",
     "output_type": "stream",
     "text": [
      "   A   B   C   D\n",
      "0  1   2   3   4\n",
      "2  9  10  11  12\n",
      "   A   B   C   D\n",
      "0  1   2   3   4\n",
      "1  9  10  11  12\n"
     ]
    }
   ],
   "source": [
    "d_dict = {'A':[1,5,9], 'B':[2,6,10], 'C':[3,7,11], 'D':[4,8,12]}\n",
    "df = pd.DataFrame(data=d_dict)\n",
    "df = df.drop([1])  # 删除index为1的行\n",
    "print(df)\n",
    "\n",
    "new_df = df.reset_index(drop=True, inplace=False) # 重置索引\n",
    "print(new_df)"
   ]
  },
  {
   "cell_type": "markdown",
   "metadata": {},
   "source": [
    "## 8. 怎样移除一列？"
   ]
  },
  {
   "cell_type": "code",
   "execution_count": 18,
   "metadata": {},
   "outputs": [
    {
     "name": "stdout",
     "output_type": "stream",
     "text": [
      "   A   C   D\n",
      "0  1   3   4\n",
      "1  5   7   8\n",
      "2  9  11  12\n"
     ]
    }
   ],
   "source": [
    "d_dict = {'A':[1,5,9], 'B':[2,6,10], 'C':[3,7,11], 'D':[4,8,12]}\n",
    "df = pd.DataFrame(data=d_dict)\n",
    "df.drop(columns=['B'], inplace=True) #删除'B'列，原处修改\n",
    "print(df)"
   ]
  },
  {
   "cell_type": "markdown",
   "metadata": {},
   "source": [
    "## 9. 怎样在data frame中改变索引？"
   ]
  },
  {
   "cell_type": "code",
   "execution_count": 19,
   "metadata": {},
   "outputs": [
    {
     "name": "stdout",
     "output_type": "stream",
     "text": [
      "before:\r\n",
      "    A   B   C   D\n",
      "0  1   2   3   4\n",
      "1  5   6   7   8\n",
      "2  9  10  11  12\n",
      "after:\r\n",
      "     A   C   D\n",
      "B            \n",
      "2   1   3   4\n",
      "6   5   7   8\n",
      "10  9  11  12\n"
     ]
    }
   ],
   "source": [
    "d_dict = {'A':[1,5,9], 'B':[2,6,10], 'C':[3,7,11], 'D':[4,8,12]}\n",
    "df = pd.DataFrame(data=d_dict)\n",
    "print('before:\\r\\n', df)\n",
    "df.set_index(['B'], inplace=True)\n",
    "print('after:\\r\\n', df)"
   ]
  },
  {
   "cell_type": "markdown",
   "metadata": {},
   "source": [
    "## 10. 怎样移除包含nan值的行或者列？"
   ]
  },
  {
   "cell_type": "code",
   "execution_count": 21,
   "metadata": {},
   "outputs": [
    {
     "name": "stdout",
     "output_type": "stream",
     "text": [
      "before:\r\n",
      "      A   B   C   D\n",
      "0  1.0   2   3   4\n",
      "1  NaN   6   7   8\n",
      "2  9.0  10  11  12\n",
      "after:\r\n",
      "     B   C   D\n",
      "0   2   3   4\n",
      "1   6   7   8\n",
      "2  10  11  12\n"
     ]
    }
   ],
   "source": [
    "d_dict = {'A':[1,np.nan,9], 'B':[2,6,10], 'C':[3,7,11], 'D':[4,8,12]}\n",
    "df = pd.DataFrame(data=d_dict)\n",
    "print('before:\\r\\n', df)\n",
    "df.dropna(axis=1, inplace=True)\n",
    "print('after:\\r\\n', df)"
   ]
  },
  {
   "cell_type": "markdown",
   "metadata": {},
   "source": [
    "## 11. 怎样根据指定条件对data frame进行切片？"
   ]
  },
  {
   "cell_type": "code",
   "execution_count": 23,
   "metadata": {},
   "outputs": [
    {
     "name": "stdout",
     "output_type": "stream",
     "text": [
      "single condition:\r\n",
      "    A   B   C   D\n",
      "1  5   6   7   8\n",
      "2  9  10  11  12\n",
      "multiple condition:\r\n",
      "    A   B   C   D\n",
      "2  9  10  11  12\n"
     ]
    }
   ],
   "source": [
    "d_dict = {'A':[1,5,9], 'B':[2,6,10], 'C':[3,7,11], 'D':[4,8,12]}\n",
    "df = pd.DataFrame(data=d_dict)\n",
    "\n",
    "# 单个条件\n",
    "mask = df['A'] > 4\n",
    "slide_df = df[mask]\n",
    "print('single condition:\\r\\n', slide_df)\n",
    "\n",
    "# 多个条件\n",
    "mask = (df['A'] > 4) & (df['B'] > 7)\n",
    "print('multiple condition:\\r\\n', df[mask])"
   ]
  },
  {
   "cell_type": "markdown",
   "metadata": {},
   "source": [
    "## 12. 怎样根据给定的索引或者列名进行切片？"
   ]
  },
  {
   "cell_type": "code",
   "execution_count": 27,
   "metadata": {},
   "outputs": [
    {
     "name": "stdout",
     "output_type": "stream",
     "text": [
      "7\n",
      "7\n",
      "   A   D\n",
      "0  1   4\n",
      "2  9  12\n",
      "   A   D\n",
      "0  1   4\n",
      "2  9  12\n"
     ]
    }
   ],
   "source": [
    "d_dict = {'A':[1,5,9], 'B':[2,6,10], 'C':[3,7,11], 'D':[4,8,12]}\n",
    "df = pd.DataFrame(data=d_dict)\n",
    "\n",
    "print(df.iat[1,2])   # 根据整数索引进行切片\n",
    "print(df.at[1, 'C']) # 根据列名进行切片\n",
    "print(df.loc[[0,2], ['A', 'D']]) # 根据列名就行切片\n",
    "print(df.iloc[[0,2], [0,3]])     # 根据整数索引进行切片"
   ]
  },
  {
   "cell_type": "markdown",
   "metadata": {},
   "source": [
    "## 13. 怎样逐行迭代?"
   ]
  },
  {
   "cell_type": "code",
   "execution_count": 29,
   "metadata": {},
   "outputs": [
    {
     "name": "stdout",
     "output_type": "stream",
     "text": [
      "15\n",
      "15\n"
     ]
    }
   ],
   "source": [
    "d_dict = {'A':[1,5,9], 'B':[2,6,10], 'C':[3,7,11], 'D':[4,8,12]}\n",
    "df = pd.DataFrame(data=d_dict)\n",
    "\n",
    "# 逐行迭代\n",
    "sum = 0\n",
    "for i, row in df.iterrows():\n",
    "    sum += row['A']\n",
    "print(sum)\n",
    "\n",
    "# 元组迭代器\n",
    "sum = 0\n",
    "for row in df.itertuples():\n",
    "    sum += row.A\n",
    "print(sum)"
   ]
  },
  {
   "cell_type": "markdown",
   "metadata": {},
   "source": [
    "## 14. 怎样根据列进行排序？"
   ]
  },
  {
   "cell_type": "code",
   "execution_count": 31,
   "metadata": {},
   "outputs": [
    {
     "name": "stdout",
     "output_type": "stream",
     "text": [
      "   A   B   C   D\n",
      "2  9  10  11  12\n",
      "1  5   6   7   8\n",
      "0  1   2   3   4\n"
     ]
    }
   ],
   "source": [
    "d_dict = {'A':[1,5,9], 'B':[2,6,10], 'C':[3,7,11], 'D':[4,8,12]}\n",
    "df = pd.DataFrame(data=d_dict)\n",
    "\n",
    "df.sort_values(by=['A'], ascending=False, inplace=True)\n",
    "print(df)"
   ]
  },
  {
   "cell_type": "markdown",
   "metadata": {},
   "source": [
    "## 15. 怎样将一个函数应用到一系列元素？"
   ]
  },
  {
   "cell_type": "code",
   "execution_count": 33,
   "metadata": {},
   "outputs": [
    {
     "name": "stdout",
     "output_type": "stream",
     "text": [
      "0     1\n",
      "1    25\n",
      "2    81\n",
      "Name: A, dtype: int64\n",
      "0     3\n",
      "1    15\n",
      "2    27\n",
      "Name: A, dtype: int64\n"
     ]
    }
   ],
   "source": [
    "d_dict = {'A':[1,5,9], 'B':[2,6,10], 'C':[3,7,11], 'D':[4,8,12]}\n",
    "df = pd.DataFrame(data=d_dict)\n",
    "\n",
    "def func_square(x):\n",
    "    return x*x\n",
    "new = df['A'].apply(func_square)\n",
    "print(new)\n",
    "\n",
    "def func_mul(x, **kwargs):\n",
    "    return x*kwargs['a']\n",
    "new = df['A'].apply(func_mul, a=3)\n",
    "print(new)"
   ]
  },
  {
   "cell_type": "markdown",
   "metadata": {},
   "source": [
    "## 16. 怎样对所有元素应用函数？"
   ]
  },
  {
   "cell_type": "code",
   "execution_count": 34,
   "metadata": {},
   "outputs": [
    {
     "name": "stdout",
     "output_type": "stream",
     "text": [
      "    A    B    C    D\n",
      "0   1    4    9   16\n",
      "1  25   36   49   64\n",
      "2  81  100  121  144\n"
     ]
    }
   ],
   "source": [
    "d_dict = {'A':[1,5,9], 'B':[2,6,10], 'C':[3,7,11], 'D':[4,8,12]}\n",
    "df = pd.DataFrame(data=d_dict)\n",
    "\n",
    "def func(x):\n",
    "    return x ** 2\n",
    "new = df.applymap(func)\n",
    "print(new)"
   ]
  },
  {
   "cell_type": "markdown",
   "metadata": {},
   "source": [
    "## 17. 怎样对指定list中的列元素进行切片？"
   ]
  },
  {
   "cell_type": "code",
   "execution_count": 36,
   "metadata": {},
   "outputs": [
    {
     "name": "stdout",
     "output_type": "stream",
     "text": [
      "   A  B  C  D\n",
      "0  1  2  3  4\n",
      "1  5  6  7  8\n",
      "   A   B   C   D\n",
      "2  9  10  11  12\n"
     ]
    }
   ],
   "source": [
    "d_dict = {'A':[1,5,9], 'B':[2,6,10], 'C':[3,7,11], 'D':[4,8,12]}\n",
    "df = pd.DataFrame(data=d_dict)\n",
    "\n",
    "value_list = list(range(9))\n",
    "print(df[df['D'].isin(value_list)])\n",
    "print(df[~df['D'].isin(value_list)])"
   ]
  },
  {
   "cell_type": "markdown",
   "metadata": {},
   "source": [
    "## 18. 怎样融合列并应用函数？"
   ]
  },
  {
   "cell_type": "code",
   "execution_count": 39,
   "metadata": {},
   "outputs": [
    {
     "name": "stdout",
     "output_type": "stream",
     "text": [
      "   B\n",
      "A   \n",
      "1  6\n",
      "5  6\n",
      "         B        C        D\n",
      "A                           \n",
      "1  [2, 10]  [3, 11]  [4, 12]\n",
      "5      [6]      [7]      [8]\n"
     ]
    }
   ],
   "source": [
    "d_dict = {'A':[1,5,1], 'B':[2,6,10], 'C':[3,7,11], 'D':[4,8,12]}\n",
    "df = pd.DataFrame(data=d_dict)\n",
    "\n",
    "new = df.groupby(['A']).agg({'B':'mean'})\n",
    "print(new)\n",
    "print(df.groupby(['A']).agg(list))"
   ]
  },
  {
   "cell_type": "markdown",
   "metadata": {},
   "source": [
    "## 19. 怎样将一列元素为list的列拆为多行？"
   ]
  },
  {
   "cell_type": "code",
   "execution_count": 41,
   "metadata": {},
   "outputs": [
    {
     "name": "stdout",
     "output_type": "stream",
     "text": [
      "         B        C        D\n",
      "A                           \n",
      "1  [2, 10]  [3, 11]  [4, 12]\n",
      "5      [6]      [7]      [8]\n",
      "A\n",
      "1     2\n",
      "1    10\n",
      "5     6\n",
      "Name: B, dtype: object\n"
     ]
    }
   ],
   "source": [
    "d_dict = {'A':[1,5,1], 'B':[2,6,10], 'C':[3,7,11], 'D':[4,8,12]}\n",
    "df = pd.DataFrame(data=d_dict)\n",
    "new = df.groupby(['A']).agg(list)\n",
    "print(new)\n",
    "print(new['B'].explode())"
   ]
  },
  {
   "cell_type": "markdown",
   "metadata": {},
   "source": [
    "## 20. 怎样拼接两个data frame？"
   ]
  },
  {
   "cell_type": "code",
   "execution_count": 43,
   "metadata": {},
   "outputs": [
    {
     "name": "stdout",
     "output_type": "stream",
     "text": [
      "   A   B   C   D\n",
      "0  1   2   3   4\n",
      "1  5   6   7   8\n",
      "2  1  10  11  12\n",
      "0  1   2   3   4\n",
      "1  5   6   7   8\n",
      "2  1  10  11  12\n",
      "   A   B   C   D  A   B   C   D\n",
      "0  1   2   3   4  1   2   3   4\n",
      "1  5   6   7   8  5   6   7   8\n",
      "2  1  10  11  12  1  10  11  12\n"
     ]
    }
   ],
   "source": [
    "d_dict = {'A':[1,5,1], 'B':[2,6,10], 'C':[3,7,11], 'D':[4,8,12]}\n",
    "df1 = pd.DataFrame(data=d_dict)\n",
    "d_dict = {'A':[1,5,1], 'B':[2,6,10], 'C':[3,7,11], 'D':[4,8,12]}\n",
    "df2 = pd.DataFrame(data=d_dict)\n",
    "\n",
    "print(pd.concat([df1, df2], axis=0))\n",
    "print(pd.concat([df1, df2], axis=1))"
   ]
  },
  {
   "cell_type": "markdown",
   "metadata": {},
   "source": [
    "## 21. 怎样合并两个data frame?"
   ]
  },
  {
   "cell_type": "code",
   "execution_count": 44,
   "metadata": {},
   "outputs": [
    {
     "name": "stdout",
     "output_type": "stream",
     "text": [
      "   A   B   C   D   e   f   g\n",
      "0  1   2   3   4   2   3   4\n",
      "1  5   6   7   8   6   7   8\n",
      "2  9  10  11  12  10  11  12\n"
     ]
    }
   ],
   "source": [
    "d_dict = {'A':[1,5,9], 'B':[2,6,10], 'C':[3,7,11], 'D':[4,8,12]}\n",
    "df1 = pd.DataFrame(data=d_dict)\n",
    "d_dict = {'A':[1,5,9], 'e':[2,6,10], 'f':[3,7,11], 'g':[4,8,12]}\n",
    "df2 = pd.DataFrame(data=d_dict)\n",
    "\n",
    "new = df1.merge(df2, on=['A'], how='inner')\n",
    "print(new)"
   ]
  }
 ],
 "metadata": {
  "kernelspec": {
   "display_name": "Python 3",
   "language": "python",
   "name": "python3"
  },
  "language_info": {
   "codemirror_mode": {
    "name": "ipython",
    "version": 3
   },
   "file_extension": ".py",
   "mimetype": "text/x-python",
   "name": "python",
   "nbconvert_exporter": "python",
   "pygments_lexer": "ipython3",
   "version": "3.7.4"
  }
 },
 "nbformat": 4,
 "nbformat_minor": 2
}
