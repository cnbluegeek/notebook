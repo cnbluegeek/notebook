{
 "cells": [
  {
   "cell_type": "markdown",
   "metadata": {},
   "source": [
    "# ubuntu永久挂载分区\n",
    "非原创\n",
    "\n",
    "Ubuntu Linux 永久挂载(mount)分区：\n",
    "\n",
    "首先我们得到到/dev/sda3这个分区的UUID,使用以下命令:\n",
    "\n",
    "sudo blkid /dev/sda3\n",
    "\n",
    "然后,我们按照/etc/fstab文件中的格式添加一行如下内容:\n",
    "\n",
    "UUID=904C23B64C23964E /media/aborn/data ntfs defaults        0      2\n",
    "\n",
    "其中第一列为UUID,第二列为挂载目录（该目录必须为空目录），第三列为文件系统类型，第四列为参数，第五列0表示不备份，最后一列必须为２或0(除非引导分区为1)"
   ]
  }
 ],
 "metadata": {
  "kernelspec": {
   "display_name": "Python 3",
   "language": "python",
   "name": "python3"
  },
  "language_info": {
   "codemirror_mode": {
    "name": "ipython",
    "version": 3
   },
   "file_extension": ".py",
   "mimetype": "text/x-python",
   "name": "python",
   "nbconvert_exporter": "python",
   "pygments_lexer": "ipython3",
   "version": "3.7.4"
  }
 },
 "nbformat": 4,
 "nbformat_minor": 2
}
