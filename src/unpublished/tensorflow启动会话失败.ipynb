{
 "cells": [
  {
   "cell_type": "markdown",
   "metadata": {},
   "source": [
    "# tensorflow启动会话失败\n",
    "非原创\n",
    "\n",
    "2017.03.28\n",
    "本答案适用于满足以下两个条件的情况：(1)计算图的创建过程正确，(2)单主机多GPU并且有程序大量占用某个GPU。在开启Session的时候报错“creating context when one is currently active”，最终“Failed to create session”, 该问题可以通过设置程序可见GPU来解决， 前提是有空闲的资源可供使用，我们假设“0”号GPU有空闲资源，则在代码开始加上如下配置：\n",
    "```\n",
    "import os\n",
    "os.environ[\"CUDA_DEVICE_ORDER\"]=\"PCI_BUS_ID\"\n",
    "os.environ[\"CUDA_VISIBLE_DEVICES\"]=\"0\"\n",
    "```\n",
    "原始描述见网页\n",
    "<http://stackoverflow.com/questions/37893755/tensorflow-set-cuda-visible-devices-within-jupyter>."
   ]
  }
 ],
 "metadata": {
  "kernelspec": {
   "display_name": "Python 3",
   "language": "python",
   "name": "python3"
  },
  "language_info": {
   "codemirror_mode": {
    "name": "ipython",
    "version": 3
   },
   "file_extension": ".py",
   "mimetype": "text/x-python",
   "name": "python",
   "nbconvert_exporter": "python",
   "pygments_lexer": "ipython3",
   "version": "3.7.4"
  }
 },
 "nbformat": 4,
 "nbformat_minor": 2
}
