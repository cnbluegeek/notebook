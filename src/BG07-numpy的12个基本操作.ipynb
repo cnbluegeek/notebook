{
 "cells": [
  {
   "cell_type": "markdown",
   "metadata": {},
   "source": [
    "# <center>numpy的12个基本操作</center>"
   ]
  },
  {
   "cell_type": "markdown",
   "metadata": {},
   "source": [
    "By [青衣极客 Blue Geek](https://mp.weixin.qq.com/s/JgSmnhg9MqVrcdJurkk-wg)\n",
    "\n",
    "In 2019-09-17"
   ]
  },
  {
   "cell_type": "markdown",
   "metadata": {},
   "source": [
    "1. 创建数组\n",
    "2. 数组索引\n",
    "3. 扩展矩阵\n",
    "4. 改变形状\n",
    "5. 转置类操作\n",
    "6. 改变维度\n",
    "7. 拼接数组\n",
    "8. 切分数组\n",
    "9. 增加和移除元素\n",
    "10. 广播\n",
    "11. 基本运算\n",
    "12. save和load"
   ]
  },
  {
   "cell_type": "code",
   "execution_count": 77,
   "metadata": {},
   "outputs": [],
   "source": [
    "import os\n",
    "import sys\n",
    "import numpy as np"
   ]
  },
  {
   "cell_type": "markdown",
   "metadata": {},
   "source": [
    "## 1. 创建数组"
   ]
  },
  {
   "cell_type": "code",
   "execution_count": 78,
   "metadata": {},
   "outputs": [
    {
     "name": "stdout",
     "output_type": "stream",
     "text": [
      "[1 2 3 4 5]\n",
      "[[1 2 3]\n",
      " [4 5 6]]\n",
      "[1. 2. 3.]\n",
      "[[0 0 0]]\n",
      "[[1. 1. 1.]]\n",
      "[[1. 0.]\n",
      " [0. 1.]]\n",
      "[1 3 5 7 9]\n",
      "[1.         1.66666667 2.33333333 3.        ]\n",
      "[[0.5003854  0.59875968 0.79207667]]\n"
     ]
    }
   ],
   "source": [
    "# 从list创建数组\n",
    "print(np.array([1,2,3,4,5]))             # 一维数组\n",
    "print(np.array([[1,2,3], [4,5,6]]))      # 二维数组\n",
    "print(np.array([1,2,3], dtype=np.float)) # 指定元素数据类型\n",
    "print(np.zeros((1,3), dtype=np.int64))   # 创建全0的数组\n",
    "print(np.ones((1,3), dtype=np.float))    # 创建全1的数组\n",
    "print(np.eye(2, dtype=np.float))         # 创建单位矩阵\n",
    "print(np.arange(1, 10, 2))               # 创建均匀的整数数组\n",
    "print(np.linspace(1, 3, 4))              # 创建线性数组\n",
    "print(np.random.random((1,3)))           # 创建随机数组"
   ]
  },
  {
   "cell_type": "markdown",
   "metadata": {},
   "source": [
    "## 2. 数组索引"
   ]
  },
  {
   "cell_type": "code",
   "execution_count": 79,
   "metadata": {},
   "outputs": [
    {
     "name": "stdout",
     "output_type": "stream",
     "text": [
      "0.4059516560746701\n",
      "[[False False False]\n",
      " [ True False  True]\n",
      " [ True False  True]]\n",
      "[0.95266423 0.88453931 0.72445232 0.90560359]\n",
      "0.8845393115697767\n"
     ]
    }
   ],
   "source": [
    "a = np.random.random((3,3))\n",
    "print(a[0][0])      # 直接索引\n",
    "print(a>0.5)        # 条件蒙版\n",
    "print(a[a>0.5])     # 蒙版索引\n",
    "print(a[1, 2])      # 切片索引"
   ]
  },
  {
   "cell_type": "markdown",
   "metadata": {},
   "source": [
    "## 3. 扩展矩阵"
   ]
  },
  {
   "cell_type": "code",
   "execution_count": 80,
   "metadata": {},
   "outputs": [
    {
     "name": "stdout",
     "output_type": "stream",
     "text": [
      "[[1 2 3]\n",
      " [1 2 3]\n",
      " [1 2 3]]\n",
      "[[1 2 3]\n",
      " [1 2 3]\n",
      " [1 2 3]]\n"
     ]
    }
   ],
   "source": [
    "a = np.array([[1,2,3]])\n",
    "print(np.tile(a, [3,1]))\n",
    "print(a.repeat(3, axis=0))"
   ]
  },
  {
   "cell_type": "markdown",
   "metadata": {},
   "source": [
    "## 4. 改变形状"
   ]
  },
  {
   "cell_type": "code",
   "execution_count": 81,
   "metadata": {},
   "outputs": [
    {
     "name": "stdout",
     "output_type": "stream",
     "text": [
      "[[1 2]\n",
      " [3 4]]\n",
      "[1 2 3 4]\n",
      "[[1 2]\n",
      " [3 4]]\n"
     ]
    }
   ],
   "source": [
    "a = np.array([1,2,3,4])\n",
    "b = a.reshape((2,2))       # 指定目标形状\n",
    "print(b)\n",
    "print(b.flatten())         # 压平成一维数组\n",
    "a.resize(2,2)              # 直接修改\n",
    "print(a)"
   ]
  },
  {
   "cell_type": "markdown",
   "metadata": {},
   "source": [
    "## 5. 转置类的操作"
   ]
  },
  {
   "cell_type": "code",
   "execution_count": 90,
   "metadata": {},
   "outputs": [
    {
     "name": "stdout",
     "output_type": "stream",
     "text": [
      "a.transpose() =  [[1. 3.]\n",
      " [2. 4.]]\n",
      "a.T =  [[1. 3.]\n",
      " [2. 4.]]\n",
      "b =  [[[ 0  1  2  3]\n",
      "  [ 4  5  6  7]]\n",
      "\n",
      " [[ 8  9 10 11]\n",
      "  [12 13 14 15]]]\n",
      "c =  [[[ 0  4]\n",
      "  [ 8 12]]\n",
      "\n",
      " [[ 1  5]\n",
      "  [ 9 13]]\n",
      "\n",
      " [[ 2  6]\n",
      "  [10 14]]\n",
      "\n",
      " [[ 3  7]\n",
      "  [11 15]]]\n",
      "np.mean(b, axis=2) =  [[ 1.5  5.5]\n",
      " [ 9.5 13.5]]\n",
      "c - np.mean(b, axis=2) =  [[[-1.5 -1.5]\n",
      "  [-1.5 -1.5]]\n",
      "\n",
      " [[-0.5 -0.5]\n",
      "  [-0.5 -0.5]]\n",
      "\n",
      " [[ 0.5  0.5]\n",
      "  [ 0.5  0.5]]\n",
      "\n",
      " [[ 1.5  1.5]\n",
      "  [ 1.5  1.5]]]\n",
      "d =  [[[ 0  4]\n",
      "  [ 1  5]\n",
      "  [ 2  6]\n",
      "  [ 3  7]]\n",
      "\n",
      " [[ 8 12]\n",
      "  [ 9 13]\n",
      "  [10 14]\n",
      "  [11 15]]]\n"
     ]
    }
   ],
   "source": [
    "a = np.array([[1,2], [3,4]], dtype=np.float)\n",
    "print('a.transpose() = ', a.transpose())    # 计算数组转置\n",
    "print('a.T = ', a.T)                        # 同样是转置\n",
    "\n",
    "b = np.array(list(range(16)))\n",
    "b = b.reshape([2,2,4])\n",
    "print('b = ', b)\n",
    "c = np.rollaxis(b, 2)          # 将坐标轴axis=2转到axis=0\n",
    "print('c = ', c)\n",
    "print('np.mean(b, axis=2) = ', np.mean(b, axis=2))\n",
    "# 对axis=2的坐标轴上所有元素减去该轴上的均值\n",
    "print('c - np.mean(b, axis=2) = ', c - np.mean(b, axis=2))\n",
    "\n",
    "d = np.swapaxes(b, 2, 1)\n",
    "print('d = ', d)"
   ]
  },
  {
   "cell_type": "markdown",
   "metadata": {},
   "source": [
    "## 6. 改变维度"
   ]
  },
  {
   "cell_type": "code",
   "execution_count": 83,
   "metadata": {},
   "outputs": [
    {
     "name": "stdout",
     "output_type": "stream",
     "text": [
      "b.shape =  (1, 4)\n",
      "c.shape =  (4,)\n",
      "d.shape =  (4, 1)\n"
     ]
    }
   ],
   "source": [
    "a = np.array([[1,2], [3,4]])\n",
    "b = a.reshape((1, -1))\n",
    "print('b.shape = ', b.shape)\n",
    "c = b.squeeze()                # 去掉维度为1的坐标轴\n",
    "print('c.shape = ', c.shape)\n",
    "d = np.expand_dims(c, axis=1)  # 在扩展指定坐标轴的维度为1\n",
    "print('d.shape = ', d.shape)"
   ]
  },
  {
   "cell_type": "markdown",
   "metadata": {},
   "source": [
    "## 7. 拼接数组"
   ]
  },
  {
   "cell_type": "code",
   "execution_count": 84,
   "metadata": {},
   "outputs": [
    {
     "name": "stdout",
     "output_type": "stream",
     "text": [
      "c =  [[1 2 5 6]\n",
      " [3 4 7 8]]\n",
      "[[[1 2]\n",
      "  [3 4]]\n",
      "\n",
      " [[5 6]\n",
      "  [7 8]]]\n"
     ]
    }
   ],
   "source": [
    "a = np.array([[1,2],[3,4]])\n",
    "b = np.array([[5,6], [7,8]])\n",
    "c = np.concatenate((a, b), axis=1)  # 在指定坐标轴上拼接数组\n",
    "print('c = ', c)\n",
    "d = np.stack([a,b])                 # 拼接数组到一个新的坐标轴\n",
    "print(d)\n"
   ]
  },
  {
   "cell_type": "markdown",
   "metadata": {},
   "source": [
    "## 8. 切分数组"
   ]
  },
  {
   "cell_type": "code",
   "execution_count": 85,
   "metadata": {
    "scrolled": true
   },
   "outputs": [
    {
     "name": "stdout",
     "output_type": "stream",
     "text": [
      "[array([0, 1, 2]), array([3, 4]), array([5]), array([6, 7]), array([8])]\n"
     ]
    }
   ],
   "source": [
    "a = np.arange(9)\n",
    "print(np.split(a, [3,5,6,8]))  # 按照指定切分点对原数组进行切分"
   ]
  },
  {
   "cell_type": "markdown",
   "metadata": {},
   "source": [
    "## 9. 增加和移除元素"
   ]
  },
  {
   "cell_type": "code",
   "execution_count": 86,
   "metadata": {},
   "outputs": [
    {
     "name": "stdout",
     "output_type": "stream",
     "text": [
      "c =  [[1 3]\n",
      " [5 7]]\n",
      "d =  [[0 5 1 2 3]\n",
      " [4 5 5 6 7]]\n"
     ]
    }
   ],
   "source": [
    "a = np.arange(8)\n",
    "a = a.reshape((2,4))\n",
    "\n",
    "c = np.delete(a, [0,2], axis=1)  # 在指定坐标轴上删除指定切片\n",
    "print('c = ', c)\n",
    "\n",
    "d = np.insert(a, 1, 5, axis=1)   # 在指定坐标轴的指定切片处插入指定数值  \n",
    "print('d = ', d)"
   ]
  },
  {
   "cell_type": "markdown",
   "metadata": {},
   "source": [
    "## 10. 广播\n",
    "1. 坐标轴不足的向最标轴最多的看齐\n",
    "2. 结果数组的形状由参与计算的各数组各坐标轴维度最大的确定\n",
    "3. 在对应坐标轴上，只有输入数组的维度为1，或者与输出数组相同才可计算\n",
    "4. 对坐标轴维度为1的数组进行扩展时，就是不断复制该维度"
   ]
  },
  {
   "cell_type": "code",
   "execution_count": 87,
   "metadata": {},
   "outputs": [
    {
     "name": "stdout",
     "output_type": "stream",
     "text": [
      "[[5 6 7]\n",
      " [6 7 8]\n",
      " [7 8 9]]\n"
     ]
    }
   ],
   "source": [
    "a = np.array([1,2,3])\n",
    "b = np.array([[4],[5],[6]])\n",
    "print(a+b)    # 相当于先调用repeat函数把两个输入数组变成同样形状，然后计算"
   ]
  },
  {
   "cell_type": "markdown",
   "metadata": {},
   "source": [
    "## 11. 基本运算"
   ]
  },
  {
   "cell_type": "code",
   "execution_count": 91,
   "metadata": {},
   "outputs": [
    {
     "name": "stdout",
     "output_type": "stream",
     "text": [
      "a+b =  [[ 6  8]\n",
      " [10 12]]\n",
      "[[19 22]\n",
      " [43 50]]\n",
      "a*b =  [[ 5 12]\n",
      " [21 32]]\n",
      "[[-2.   1. ]\n",
      " [ 1.5 -0.5]]\n",
      "[[1.0000000e+00 0.0000000e+00]\n",
      " [8.8817842e-16 1.0000000e+00]]\n"
     ]
    }
   ],
   "source": [
    "a = np.array([[1,2],[3,4]])\n",
    "b = np.array([[5,6],[7,8]])\n",
    "\n",
    "# 加法\n",
    "print('a+b = ', a+b)\n",
    "\n",
    "# 乘法\n",
    "print(a.dot(b))            # 矩阵乘法\n",
    "print('a*b = ', a*b)       # 元素乘法\n",
    "\n",
    "# 矩阵求逆\n",
    "print(np.linalg.inv(a))  # 矩阵求逆\n",
    "print(a.dot(np.linalg.inv(a)))"
   ]
  },
  {
   "cell_type": "markdown",
   "metadata": {},
   "source": [
    "## 12. save和load"
   ]
  },
  {
   "cell_type": "code",
   "execution_count": 89,
   "metadata": {},
   "outputs": [
    {
     "name": "stdout",
     "output_type": "stream",
     "text": [
      "a =  [ 0  1  2  3  4  5  6  7  8  9 10 11 12 13 14 15]\n",
      "b =  [ 0  1  2  3  4  5  6  7  8  9 10 11 12 13 14 15]\n"
     ]
    }
   ],
   "source": [
    "a = np.arange(16)\n",
    "print('a = ', a)\n",
    "save_path = '../output/np_save.npy'\n",
    "np.save(save_path, a)    # 将数组写入到文件\n",
    "\n",
    "b = np.load(save_path)   # 从文件中载入\n",
    "print('b = ', b)"
   ]
  }
 ],
 "metadata": {
  "kernelspec": {
   "display_name": "Python 3",
   "language": "python",
   "name": "python3"
  },
  "language_info": {
   "codemirror_mode": {
    "name": "ipython",
    "version": 3
   },
   "file_extension": ".py",
   "mimetype": "text/x-python",
   "name": "python",
   "nbconvert_exporter": "python",
   "pygments_lexer": "ipython3",
   "version": "3.7.7"
  }
 },
 "nbformat": 4,
 "nbformat_minor": 2
}
