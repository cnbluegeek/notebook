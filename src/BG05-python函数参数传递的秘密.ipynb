{
 "cells": [
  {
   "cell_type": "markdown",
   "metadata": {},
   "source": [
    "# python函数参数传递的秘密"
   ]
  },
  {
   "cell_type": "markdown",
   "metadata": {},
   "source": [
    "## 1. 基本类型参数传递\n",
    "\n",
    "结论： 基础类型直接实参值传递，函数内部使用一份复制品"
   ]
  },
  {
   "cell_type": "code",
   "execution_count": 2,
   "metadata": {},
   "outputs": [
    {
     "name": "stdout",
     "output_type": "stream",
     "text": [
      "a =  1\n",
      "new_a =  2\n"
     ]
    }
   ],
   "source": [
    "a = 1\n",
    "def func(a):\n",
    "    a = 2\n",
    "    return a\n",
    "new_a = func(a)\n",
    "print('a = ', a)\n",
    "print('new_a = ', new_a)"
   ]
  },
  {
   "cell_type": "markdown",
   "metadata": {},
   "source": [
    "## 2. 复合类型参数传递\n",
    "结论：复合类型传递该数据的引用，函数内部使用引用操作"
   ]
  },
  {
   "cell_type": "code",
   "execution_count": 4,
   "metadata": {},
   "outputs": [
    {
     "name": "stdout",
     "output_type": "stream",
     "text": [
      "a =  [1, 10, 3, 4]\n",
      "new_a =  [1, 10, 3, 4]\n"
     ]
    }
   ],
   "source": [
    "a = [1,2,3,4]\n",
    "def func(a):\n",
    "    a[1] = 10\n",
    "    return a\n",
    "new_a = func(a)\n",
    "print('a = ', a)\n",
    "print('new_a = ', new_a)"
   ]
  },
  {
   "cell_type": "markdown",
   "metadata": {},
   "source": [
    "## 3. 键值对传参\n",
    "结论：使用键值对传参时，参数顺序无效"
   ]
  },
  {
   "cell_type": "code",
   "execution_count": 5,
   "metadata": {},
   "outputs": [
    {
     "name": "stdout",
     "output_type": "stream",
     "text": [
      "a=1, b=2\n",
      "a=1, b=2\n",
      "a=1, b=2\n"
     ]
    }
   ],
   "source": [
    "def func(a, b):\n",
    "    print('a={}, b={}'.format(a, b))\n",
    "func(1, 2)\n",
    "func(a=1, b=2)\n",
    "func(b=2, a=1)"
   ]
  },
  {
   "cell_type": "markdown",
   "metadata": {},
   "source": [
    "## 4. 元组传参\n",
    "结论： 使用“*args”这种方式定义形参列表时，可以传任意参数，函数内部使用元组操作"
   ]
  },
  {
   "cell_type": "code",
   "execution_count": 6,
   "metadata": {},
   "outputs": [
    {
     "name": "stdout",
     "output_type": "stream",
     "text": [
      "type(a)=<class 'tuple'>, a=(1, 2, 3, 4)\n"
     ]
    }
   ],
   "source": [
    "def func(*a):\n",
    "    print('type(a)={}, a={}'.format(type(a), a))\n",
    "func(1,2,3,4)"
   ]
  },
  {
   "cell_type": "markdown",
   "metadata": {},
   "source": [
    "## 5. 词典传参\n",
    "使用\"**kwargs\"这种方式定义形参列表时，使用键值对的方式传参，函数内部使用词典操作"
   ]
  },
  {
   "cell_type": "code",
   "execution_count": 9,
   "metadata": {},
   "outputs": [
    {
     "name": "stdout",
     "output_type": "stream",
     "text": [
      "type(a)=<class 'dict'>, a={'a': 1, 'b': 2}\n"
     ]
    }
   ],
   "source": [
    "def func(**a):\n",
    "    print('type(a)={}, a={}'.format(type(a), a))\n",
    "func(a=1, b=2)"
   ]
  }
 ],
 "metadata": {
  "kernelspec": {
   "display_name": "Python 3",
   "language": "python",
   "name": "python3"
  },
  "language_info": {
   "codemirror_mode": {
    "name": "ipython",
    "version": 3
   },
   "file_extension": ".py",
   "mimetype": "text/x-python",
   "name": "python",
   "nbconvert_exporter": "python",
   "pygments_lexer": "ipython3",
   "version": "3.7.5"
  }
 },
 "nbformat": 4,
 "nbformat_minor": 2
}
