{
 "cells": [
  {
   "cell_type": "markdown",
   "metadata": {},
   "source": [
    "# <center>面试刷题：分裂二叉树的最大乘积</center>"
   ]
  },
  {
   "cell_type": "markdown",
   "metadata": {},
   "source": [
    "By [青衣极客 Blue Geek]()\n",
    "\n",
    "In 2020-04-02"
   ]
  },
  {
   "cell_type": "markdown",
   "metadata": {},
   "source": [
    "“递归”是一个会让每个初学计算机编程的人都头晕的概念，但是它简单的形式又让我们在描述和解决问题时有了极大的便利。大家理解“递归”通常就是指“自己调用自己”这种很绕口的逻辑，其实质是子问题与父级问题具有相同的逻辑结构，只是数据内容存在差异，所以在求解子问题上适用父问题的解决方案。在处理树形结构时，“递归”是一种常用的算法。二叉树作为最简单也是最常用的树形结构，在Leetcode中也是频繁出现。这里就以Q1339问题简要讨论一下“递归”。"
   ]
  },
  {
   "cell_type": "markdown",
   "metadata": {},
   "source": [
    "## 1. 题目 Q1339 分裂二叉树的最大乘积"
   ]
  },
  {
   "cell_type": "markdown",
   "metadata": {},
   "source": [
    "给定二叉树的root。通过删除一个边，将二叉树分成两个子树，以使子树之和的乘积最大化。\n",
    "由于答案可能太大，请以10 ^ 9 + 7为模返回。\n",
    "\n",
    "***约束条件：***\n",
    "```\n",
    "(a) 每棵树的节点数量在[2,50000]范围内\n",
    "(b) 每棵树存储的值在[1,10000]范围内\n",
    "```\n",
    "\n",
    "### 示例1\n",
    "```\n",
    "Input: root = [1,2,3,4,5,6]\n",
    "Output: 110\n",
    "```\n",
    "***解释：*** 移除“1”和“2”之间的边，所得的两个子树的和分别为11、10，它们的乘积是110。\n",
    "\n",
    "### 示例2\n",
    "```\n",
    "Input: root = [1,null,2,3,4,null,null,5,6]\n",
    "Output: 90\n",
    "```\n",
    "***解释：*** 移除“2”与“4”之间的边，所得两个子树的和分别为6、15，他们的乘积是90.\n",
    "\n",
    "### 示例3\n",
    "```\n",
    "Input: root = [2,3,9,10,7,8,6,5,4,11,1]\n",
    "Output: 1025\n",
    "```\n",
    "\n",
    "### 示例4\n",
    "```\n",
    "Input: root = [1,1]\n",
    "Output: 1\n",
    "```"
   ]
  },
  {
   "cell_type": "markdown",
   "metadata": {},
   "source": [
    "## 2. 求解思路"
   ]
  },
  {
   "cell_type": "markdown",
   "metadata": {},
   "source": [
    "很快有了一个最直观的思路：在移除一条边时，分别计算新形成的两棵树中元素之和，然后记录乘积；遍历所有的边，尝试移除操作，最后选择出最大的乘积即可。\n",
    "\n",
    "这个思路是否有可以优化的点呢？至少有一点，可以先将每个节点上所记录的数组修改为其所在子树上所有节点的和，这样一次遍历即可完成，而不需每次都重复计算。这个预处理操作使用“递归”来实现也是非常简单的。每个节点的值应当是其本身存储的值以及其左右子树各自和的叠加，这一描述构成了逻辑上的重复和递推。以下代码可以准确描述这种逻辑：\n",
    "\n",
    "```C++\n",
    "int _total_sum(TreeNode * root) {\n",
    "    if (!root) {\n",
    "        return 0;\n",
    "    }\n",
    "    root->val += _total_sum(root->left);\n",
    "    root->val += _total_sum(root->right);\n",
    "    return root->val;\n",
    "}\n",
    "```"
   ]
  },
  {
   "cell_type": "markdown",
   "metadata": {},
   "source": [
    "接着需要进行操作就是尝试移除每一个边，然后保存乘积最大的值即可，这一步也可以使用递归完成。"
   ]
  },
  {
   "cell_type": "markdown",
   "metadata": {},
   "source": [
    "## 3. 解决方案"
   ]
  },
  {
   "cell_type": "markdown",
   "metadata": {},
   "source": [
    "这里提供一种使用递归求解的C++解决方案。\n",
    "\n",
    "```C++\n",
    "class Solution {\n",
    "private:\n",
    "    int _total_sum(TreeNode * root) {\n",
    "        if (!root) {\n",
    "            return 0;\n",
    "        }\n",
    "        root->val += _total_sum(root->left);\n",
    "        root->val += _total_sum(root->right);\n",
    "        return root->val;\n",
    "    }\n",
    "    \n",
    "    long _find_max_prod(TreeNode * root, const int & total) {\n",
    "        if ((!root->left) && (!root->right)) {\n",
    "            return 0;\n",
    "        }\n",
    "        long left = 0, right = 0;\n",
    "        if (root->left) {\n",
    "            left = (long)(root->left->val) * (total - root->left->val);\n",
    "            left = max(left, _find_max_prod(root->left, total));\n",
    "        }\n",
    "        if (root->right) {\n",
    "            right = (long)(root->right->val) * (total - root->right->val);\n",
    "            right = max(right, _find_max_prod(root->right, total));\n",
    "        }\n",
    "        return max(left, right);\n",
    "    }\n",
    "    \n",
    "public:\n",
    "    // Runtime: 160 ms, faster than 76.35% \n",
    "    // Memory Usage: 68.8 MB, less than 100.00%\n",
    "    int maxProduct(TreeNode* root) {\n",
    "        int total = _total_sum(root);\n",
    "        long ret = _find_max_prod(root, total);\n",
    "        return ret % (1000000000 + 7);\n",
    "        \n",
    "    }\n",
    "};\n",
    "```\n",
    "\n",
    "从这个解决方案来看，两个子函数分别完成“子树求和”与“枚举所有边”这两个功能。从代码中可以看出，虽然这两个子函数完成的功能不同，但是其逻辑结构是非常相似的。都是先确定“递归”结束条件，然后分别对左子树和右子树进行同样的逻辑操作。这也说明了“递归”的两大重点：(1)设置结束条件，(2)针对子结构重复调用。如果没有正确设置重点(1)，可能会出现无穷递归，从而导致堆栈溢出的错误；如果没有正确编写重点(2)，则会造成最终结果可能不正确。"
   ]
  },
  {
   "cell_type": "markdown",
   "metadata": {},
   "source": [
    "当提到“重复调用”时，我们很容易联想到“循环”，事实上“循环”的作用就是为了简化重复逻辑的，那么“循环”与“递归”有什么区别呢？简单来说，“循环”是指时间上的重复，“递归”是指结构上的重复。事实上，所有的“递归逻辑”都可以使用“循环”来实现。而且由于避免了频繁的压入和弹出堆栈，还能有不少执行效率上的提升。但其缺点也很明显，即逻辑的实现形式非常复杂，有时还具有很强的技巧，不是那么容易实现的。通常只有在资源极其紧缺的情况下才考虑使用“循环”来实现“递归逻辑”。在Leetcode中，我们还是最好直接使用“递归”形式的实现，毕竟刷题追求的是训练解决问题的算法设计思路。"
   ]
  }
 ],
 "metadata": {
  "kernelspec": {
   "display_name": "Python 3",
   "language": "python",
   "name": "python3"
  },
  "language_info": {
   "codemirror_mode": {
    "name": "ipython",
    "version": 3
   },
   "file_extension": ".py",
   "mimetype": "text/x-python",
   "name": "python",
   "nbconvert_exporter": "python",
   "pygments_lexer": "ipython3",
   "version": "3.7.7"
  }
 },
 "nbformat": 4,
 "nbformat_minor": 2
}
