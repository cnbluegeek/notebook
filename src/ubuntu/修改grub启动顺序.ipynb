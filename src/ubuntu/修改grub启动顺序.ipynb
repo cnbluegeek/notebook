{
 "cells": [
  {
   "cell_type": "markdown",
   "metadata": {},
   "source": [
    "# 修改grub启动顺序\n",
    "\n",
    "\n",
    "文件 /etc/default/grub 内容如下：\n",
    "```shell\n",
    "# If you change this file, run 'update-grub' afterwards to update\n",
    "\n",
    "# /boot/grub/grub.cfg.\n",
    "\n",
    "GRUB_DEFAULT=0\n",
    "\n",
    "GRUB_HIDDEN_TIMEOUT_QUIET=true\n",
    "\n",
    "GRUB_TIMEOUT=10\n",
    "\n",
    "GRUB_DISTRIBUTOR=`lsb_release -i -s 2> /dev/null || echo Debian`\n",
    "\n",
    "GRUB_CMDLINE_LINUX_DEFAULT=\"quiet splash\"\n",
    "\n",
    "GRUB_CMDLINE_LINUX=\"\"\n",
    "```\n",
    "GRUB\\_DEFAULT代表的就是启动项的顺序，从数字0开始.\n",
    "一般WIndows在第5个，也就是标号4."
   ]
  }
 ],
 "metadata": {
  "kernelspec": {
   "display_name": "Python 3",
   "language": "python",
   "name": "python3"
  },
  "language_info": {
   "codemirror_mode": {
    "name": "ipython",
    "version": 3
   },
   "file_extension": ".py",
   "mimetype": "text/x-python",
   "name": "python",
   "nbconvert_exporter": "python",
   "pygments_lexer": "ipython3",
   "version": "3.7.4"
  }
 },
 "nbformat": 4,
 "nbformat_minor": 2
}
