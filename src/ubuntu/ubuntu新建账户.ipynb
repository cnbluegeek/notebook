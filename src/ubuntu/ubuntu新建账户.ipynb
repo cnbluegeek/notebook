{
 "cells": [
  {
   "cell_type": "markdown",
   "metadata": {},
   "source": [
    "# ubuntu新建账户\n",
    "非原创\n",
    "\n",
    "Ubuntu新建账户步骤如下：\n",
    "\n",
    "1、添加用户\n",
    "\n",
    "（1）创建一个新的用户username\n",
    "\n",
    "sudo useradd username\n",
    "\n",
    "（2）设置用户username 的密码\n",
    "\n",
    "sudo passwd username\n",
    "\n",
    "2、添加用户组\n",
    "\n",
    "创建一个新的组groupname\n",
    "\n",
    "sudo groupadd groupname\n",
    "\n",
    "3、修改账号\n",
    "\n",
    "（1）把用户username 加入到组groupname 中\n",
    "\n",
    "sudo usermod -g groupname username\n",
    "\n",
    "（2）更改用户密码\n",
    "\n",
    "先使用户的密码过期\n",
    "\n",
    "sudo passwd -e username\n",
    "\n",
    "用户登录后，会提示要更改密码\n",
    "\n",
    "（3）修改文件夹的权限\n",
    "\n",
    "sudo chown username:groupname dirname\n",
    "\n",
    "以上是基本的 \n",
    "\n",
    "必须建立    /home/you  文件夹\n",
    "\n",
    "sudo  chmod 700 -R /home//you      别人不能访问了 \n",
    "\n",
    "sudo chown you:you you    不改登录不了\n"
   ]
  }
 ],
 "metadata": {
  "kernelspec": {
   "display_name": "Python 3",
   "language": "python",
   "name": "python3"
  },
  "language_info": {
   "codemirror_mode": {
    "name": "ipython",
    "version": 3
   },
   "file_extension": ".py",
   "mimetype": "text/x-python",
   "name": "python",
   "nbconvert_exporter": "python",
   "pygments_lexer": "ipython3",
   "version": "3.7.4"
  }
 },
 "nbformat": 4,
 "nbformat_minor": 2
}
