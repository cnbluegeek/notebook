{
 "cells": [
  {
   "cell_type": "markdown",
   "metadata": {},
   "source": [
    "# 重装WIn7后Ubuntu无法启动\n",
    "非原创\n",
    "\n",
    "解决方法如下\n",
    "\n",
    "1、用安装Ubuntu的光盘启动live cd(即试用Ubuntu)\n",
    "\n",
    "2、打开终端，输入命令\n",
    "\n",
    "```shell\n",
    "sudo　-i\n",
    "fdisk -l (注意是字母l，不是数字1)\n",
    "```\n",
    "3、看终端出现的信息，记住自己的Ubuntu系统是装在哪个分区（如果有root分区也记下）。\n",
    "\n",
    "4、假如你的Ubuntu的 / 分区是 sda7 又假如 /boot分区是 sda6，在终端下输入\n",
    "\n",
    "```shell\n",
    "mount /dev/sda7 /mnt\n",
    "mount /dev/sda6 /mnt/boot （如果没 /boot 单独分区这步跳过）\n",
    "grub-install --root-directory=/mnt/ /dev/sda\n",
    "exit\n",
    "```\n",
    "5.重启\n",
    "\n",
    "6.重启可能会出现grub选项， grub>\n",
    "\n",
    "7.输入命令\n",
    "\n",
    "```shell\n",
    "kernel /boot/grub/core.img\n",
    "boot\n",
    "```\n",
    "这时就可以启动Ubuntu系统了。\n",
    "\n",
    "8.进入Ubuntu系统后，联网后，到新立德软件包那里（系统－管理－新立德软件包），标记安装grub-pc。\n",
    "如果新德里软件包，已经安转了grub-pc,建议卸载掉重新安装，否则重启可能还是回先出现gurb>.\n",
    "\n",
    "9.接着，打开终端输入命令：\n",
    "\n",
    "```shell\n",
    "sudo -i\n",
    "update-grub2\n",
    "```"
   ]
  }
 ],
 "metadata": {
  "kernelspec": {
   "display_name": "Python 3",
   "language": "python",
   "name": "python3"
  },
  "language_info": {
   "codemirror_mode": {
    "name": "ipython",
    "version": 3
   },
   "file_extension": ".py",
   "mimetype": "text/x-python",
   "name": "python",
   "nbconvert_exporter": "python",
   "pygments_lexer": "ipython3",
   "version": "3.7.4"
  }
 },
 "nbformat": 4,
 "nbformat_minor": 2
}
