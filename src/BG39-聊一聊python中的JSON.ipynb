{
 "cells": [
  {
   "cell_type": "markdown",
   "metadata": {},
   "source": [
    "# <center>聊一聊python中的JSON</center>"
   ]
  },
  {
   "cell_type": "markdown",
   "metadata": {},
   "source": [
    "By [青衣极客 Blue Geek](https://mp.weixin.qq.com/s/l85HqtzgzHg7lfx_TPvSvA)\n",
    "\n",
    "In 2019-10-25"
   ]
  },
  {
   "cell_type": "markdown",
   "metadata": {},
   "source": [
    "json的使用已经非常广泛了，主要原因在于这种简洁高效的编码方式。特别是作为配置文件，对人阅读文件而言比较直观，也更有利于维护，同时解析json的模块也是比较轻量级。但是，必须指出的一点是，由于json编写的随意性，在规范的通信协议中并不适合使用json，否则需要进行大量的字段安全性校验，这种情况下使用protobuf更合适一些。而对于日常不太严肃的场合或者配置文件的使用而言，json仍然是一种非常不错的选择。python提供了一个json模块，可以很方便地完成python对象与json格式数据的相互转换，这对于一些配置参数较多的工程而言是一个很不错的消息。本文就讨论一下python中json的使用以及相关数据结构的对应关系。"
   ]
  },
  {
   "cell_type": "markdown",
   "metadata": {},
   "source": [
    "## 1. python对象与JSON对象\n",
    "在导入json模块之后，直接使用dumps函数就可以将python对象转换成json格式数据字符串。以下演示说明了dumps函数的使用方式，从输出可以看到，dumps函数得到的字符串是str类型。"
   ]
  },
  {
   "cell_type": "code",
   "execution_count": 2,
   "metadata": {},
   "outputs": [
    {
     "name": "stdout",
     "output_type": "stream",
     "text": [
      "d_json={\"a\": 1, \"b\": 2, \"c\": 3}, dtype(d_json)=<class 'str'>\n"
     ]
    }
   ],
   "source": [
    "import json\n",
    "\n",
    "d = {'a':1, 'b':2, 'c':3}\n",
    "d_json = json.dumps(d)\n",
    "print('d_json={}, dtype(d_json)={}'.format(d_json, type(d_json)))"
   ]
  },
  {
   "cell_type": "markdown",
   "metadata": {},
   "source": [
    "使用loads函数可以将json格式数据字符串转换为python对象。不过需要注意的是，在实际使用中，可能会由于各种原因造成json格式字符串被修改，从而导致解析异常。因此，在实际使用中，最好使用try...except将loads函数包围起来，避免因为异常而导致程序停机。"
   ]
  },
  {
   "cell_type": "code",
   "execution_count": 3,
   "metadata": {},
   "outputs": [
    {
     "name": "stdout",
     "output_type": "stream",
     "text": [
      "new_d={'a': 1, 'b': 2, 'c': 3}, type(new_d)=<class 'dict'>\n"
     ]
    }
   ],
   "source": [
    "new_d = json.loads(d_json)\n",
    "print('new_d={}, type(new_d)={}'.format(new_d, type(new_d)))"
   ]
  },
  {
   "cell_type": "markdown",
   "metadata": {},
   "source": [
    "## 2. 类型对应关系\n",
    "\n",
    "dumps和loads这一对函数可以完成python对象和json数据之间的相互转换，那么python对象和json数据类型之间具有怎样的对应关系呢？以下演示正是试图说明这一点。"
   ]
  },
  {
   "cell_type": "code",
   "execution_count": 4,
   "metadata": {},
   "outputs": [
    {
     "name": "stdout",
     "output_type": "stream",
     "text": [
      "{\"a_list\": [1, 2, 3], \"b_tuple\": [1, 2, 3], \"c_str\": \"hello stirng\", \"d_int\": 12, \"e_float\": 1.2, \"f_bool\": true, \"g_none\": null}\n"
     ]
    }
   ],
   "source": [
    "dic = {'a_list':[1,2,3],'b_tuple':(1,2,3), 'c_str':'hello stirng',\n",
    "       'd_int': 12, 'e_float':1.2, 'f_bool':True, 'g_none':None}\n",
    "dic_json = json.dumps(dic)\n",
    "print(dic_json)"
   ]
  },
  {
   "cell_type": "markdown",
   "metadata": {},
   "source": [
    "从以上演示的输出结果可以看出，python对象与json数据格式具有如下对应关系：\n",
    "\n",
    "|python|json|\n",
    "|:---|---:|\n",
    "|dict|对象object|\n",
    "|list,tuple|数组array|\n",
    "|str|字符串string|\n",
    "|int, float|数值number|\n",
    "|True/False|true/false|\n",
    "|None|null|\n",
    "\n",
    "需要注意的是：1.python中list和tuple对应这json中数组array，这意味着json对于list和tuple这两种数据没有区分能力，所以从json转换到python对象时，数组array都转换成list。另外，在json中bool类型和空类型的表示符号与python中存在差异，这对于编写json文件的朋友需要稍加注意。"
   ]
  },
  {
   "cell_type": "markdown",
   "metadata": {},
   "source": [
    "## 3. 存取JSON文件\n",
    "\n",
    "我们使用json比较常见的场合还是json文件，接下来就讨论一下python中将对象写入到json文件以及将json文件载入成python对象的方式。json模块提供了dump函数，可以直接将python对象写入到文件中，只是需要先获得一个文件的迭代对象，并且该文件打开的方式是可写入的。以下演示说明了具体的使用方法。"
   ]
  },
  {
   "cell_type": "code",
   "execution_count": 7,
   "metadata": {},
   "outputs": [
    {
     "name": "stdout",
     "output_type": "stream",
     "text": [
      "{\"a_list\": [1, 2, 3], \"b_tuple\": [1, 2, 3], \"c_str\": \"hello stirng\", \"d_int\": 12, \"e_float\": 1.2, \"f_bool\": true, \"g_none\": null}"
     ]
    }
   ],
   "source": [
    "with open('../../output/test_json.json', 'w') as fid:\n",
    "    json.dump(dic, fid)\n",
    "!cat ../../output/test_json.json"
   ]
  },
  {
   "cell_type": "markdown",
   "metadata": {},
   "source": [
    "json模块提供了load函数直接从一个json文件载入成python对象，要求打开文件的方式为可读的。以下演示说明了load函数的具体使用方式。"
   ]
  },
  {
   "cell_type": "code",
   "execution_count": 8,
   "metadata": {},
   "outputs": [
    {
     "name": "stdout",
     "output_type": "stream",
     "text": [
      "{'a_list': [1, 2, 3], 'b_tuple': [1, 2, 3], 'c_str': 'hello stirng', 'd_int': 12, 'e_float': 1.2, 'f_bool': True, 'g_none': None}\n"
     ]
    }
   ],
   "source": [
    "with open('../../output/test_json.json', 'r') as fid:\n",
    "    new_dic = json.load(fid)\n",
    "print(new_dic)"
   ]
  },
  {
   "cell_type": "markdown",
   "metadata": {},
   "source": [
    "到此，关于python中的json就讨论完毕，本文在编写时参考的英文网页如下：https://medium.com/python-pandemonium/json-the-python-way-91aac95d4041 。这个英文网页中讨论得更多一点的内容，不过日常使用很少用到， 感兴趣的朋友可以阅读这份英文网页的描述。"
   ]
  }
 ],
 "metadata": {
  "kernelspec": {
   "display_name": "Python 3",
   "language": "python",
   "name": "python3"
  },
  "language_info": {
   "codemirror_mode": {
    "name": "ipython",
    "version": 3
   },
   "file_extension": ".py",
   "mimetype": "text/x-python",
   "name": "python",
   "nbconvert_exporter": "python",
   "pygments_lexer": "ipython3",
   "version": "3.7.7"
  }
 },
 "nbformat": 4,
 "nbformat_minor": 2
}
