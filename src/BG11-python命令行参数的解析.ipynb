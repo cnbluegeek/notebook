{
 "cells": [
  {
   "cell_type": "markdown",
   "metadata": {},
   "source": [
    "# <center>python命令行参数的解析</center>"
   ]
  },
  {
   "cell_type": "markdown",
   "metadata": {},
   "source": [
    "By [青衣极客 Blue Geek](https://mp.weixin.qq.com/s/lEJPJYrLYbQ7nTEzpFc-8g)\n",
    "\n",
    "In 2019-09-20"
   ]
  },
  {
   "cell_type": "markdown",
   "metadata": {},
   "source": [
    "在编写python程序的时候，如果参数是固定不动的可能就直接写入到代码中，如果是需要调整变动的，或者要提供多种可选择的功能时就需要在运行时指定参数。如果参数极多当然可以通过文件的方式来载入，但是在实际开发中发现，大多数时候需要调整的参数并不太多，却也不得不频繁变化。这时，命令行参数的解析就派上用场了，不仅会提高效率，而且显得更加专业。\n",
    "\n",
    "python中提供命令行解析的模块是argparse，该模块基本完成支持了目前常用的对命令汗参数解析的需求。"
   ]
  },
  {
   "cell_type": "markdown",
   "metadata": {},
   "source": [
    "## 1. 编写python文件"
   ]
  },
  {
   "cell_type": "markdown",
   "metadata": {},
   "source": [
    "下面我们就一起看一下使用argparse进行参数解析的代码编写。"
   ]
  },
  {
   "cell_type": "code",
   "execution_count": 9,
   "metadata": {},
   "outputs": [
    {
     "name": "stdout",
     "output_type": "stream",
     "text": [
      "# encoding: utf-8\r\n",
      "\r\n",
      "import sys\r\n",
      "import argparse\r\n",
      "\r\n",
      "def main():\r\n",
      "    args = argparse.ArgumentParser(description='Test argparse function')\r\n",
      "    # 添加一个参数用于获取姓名\r\n",
      "    args.add_argument('name', type=str, help='你的名字')\r\n",
      "    # 添加一个参数用于获取年龄\r\n",
      "    args.add_argument('age', type=int, help='你的年龄')\r\n",
      "    # 添加一个参数用于获取身份证号\r\n",
      "    args.add_argument('-i', \"--id\", type=str, dest='id', help='身份编码')\r\n",
      "    # 添加一个参数用于获取性别，并限制选择范围\r\n",
      "    args.add_argument(\"--sex\", type=str, help='性别', default='男', choices=['男', '女'])\r\n",
      "    # 添加一个参数用户获取其他参数，不要求存在，参数个数不限制\r\n",
      "    args.add_argument('-o', '--other', type=str, dest='other', help='其他参数', required=False, nargs='*')\r\n",
      "    # 解析参数\r\n",
      "    args = args.parse_args()\r\n",
      "\r\n",
      "    print('args.name = ', args.name)\r\n",
      "    print('args.age = ', args.age)\r\n",
      "    print('args.id = ', args.id)\r\n",
      "    print('args.sex = ', args.sex)\r\n",
      "    print('args.other = ', args.other)\r\n",
      "\r\n",
      "\r\n",
      "if __name__ == '__main__':\r\n",
      "    main()\r\n"
     ]
    }
   ],
   "source": [
    "!cat ./code/test_argparse.py"
   ]
  },
  {
   "cell_type": "markdown",
   "metadata": {},
   "source": [
    "其实命令参数分为两大类：位置参数和可选参数。其中位置参数是根据参数传入的位置确定的，因此必须完全指定，否则位置就无法确定而导致报错。而可选参数就要求宽松一些，可以不用传递，而使用设置的默认值，或者自动默认的空值。"
   ]
  },
  {
   "cell_type": "markdown",
   "metadata": {},
   "source": [
    "## 2. 查看帮助信息"
   ]
  },
  {
   "cell_type": "markdown",
   "metadata": {},
   "source": [
    "如果代码防止时间比较长，自己也忘记了传参的方式和内容，可以直接调用help参数来查看帮助信息。"
   ]
  },
  {
   "cell_type": "code",
   "execution_count": 7,
   "metadata": {},
   "outputs": [
    {
     "name": "stdout",
     "output_type": "stream",
     "text": [
      "usage: test_argparse.py [-h] [-i ID] [--sex {男,女}] [-o [OTHER [OTHER ...]]]\r\n",
      "                        name age\r\n",
      "\r\n",
      "Test argparse function\r\n",
      "\r\n",
      "positional arguments:\r\n",
      "  name                  你的名字\r\n",
      "  age                   你的年龄\r\n",
      "\r\n",
      "optional arguments:\r\n",
      "  -h, --help            show this help message and exit\r\n",
      "  -i ID, --id ID        身份编码\r\n",
      "  --sex {男,女}           性别\r\n",
      "  -o [OTHER [OTHER ...]], --other [OTHER [OTHER ...]]\r\n",
      "                        其他参数\r\n"
     ]
    }
   ],
   "source": [
    "!python3 ./code/test_argparse.py -h"
   ]
  },
  {
   "cell_type": "markdown",
   "metadata": {},
   "source": [
    "这些帮助信息是argparse模块根据代码中添加的参数自动生成的，当然也是可以手动定制的，但是不建议自行修改。从帮助信息可以很清晰地看出所有的参数，以及各个参数的说明和约束条件。"
   ]
  },
  {
   "cell_type": "markdown",
   "metadata": {},
   "source": [
    "## 3. 完整传参"
   ]
  },
  {
   "cell_type": "markdown",
   "metadata": {},
   "source": [
    "我们先来讲参数完整地传递一次看看会有什么表现。"
   ]
  },
  {
   "cell_type": "code",
   "execution_count": 15,
   "metadata": {
    "scrolled": true
   },
   "outputs": [
    {
     "name": "stdout",
     "output_type": "stream",
     "text": [
      "args.name =  张三\r\n",
      "args.age =  18\r\n",
      "args.id =  12345678901\r\n",
      "args.sex =  女\r\n",
      "args.other =  ['12', '34', '5', '67']\r\n"
     ]
    }
   ],
   "source": [
    "!python3 ./code/test_argparse.py 张三 18 -i=12345678901 --sex 女 -o 12 34 5 67 "
   ]
  },
  {
   "cell_type": "markdown",
   "metadata": {},
   "source": [
    "完整传参之后，姓名、号码和性别都是完全按照预期执行，其他参数被编入一个列表中。"
   ]
  },
  {
   "cell_type": "markdown",
   "metadata": {},
   "source": [
    "## 4. 只传必要的参数"
   ]
  },
  {
   "cell_type": "markdown",
   "metadata": {},
   "source": [
    "接下来，我们看一下不传那些可选的参数，只传必要的位置参数会是什么结果。"
   ]
  },
  {
   "cell_type": "code",
   "execution_count": 13,
   "metadata": {},
   "outputs": [
    {
     "name": "stdout",
     "output_type": "stream",
     "text": [
      "args.name =  张三\r\n",
      "args.age =  18\r\n",
      "args.id =  None\r\n",
      "args.sex =  男\r\n",
      "args.other =  None\r\n"
     ]
    }
   ],
   "source": [
    "!python3 ./code/test_argparse.py 张三 18"
   ]
  },
  {
   "cell_type": "markdown",
   "metadata": {},
   "source": [
    "可以看出，姓名和年龄都正常传入，编码id由于缺失，所以使用自动默认的空值，性别使用了设置的默认男性，other参数也是空值。"
   ]
  },
  {
   "cell_type": "markdown",
   "metadata": {},
   "source": [
    "## 5. 必要参数传输不完全"
   ]
  },
  {
   "cell_type": "markdown",
   "metadata": {},
   "source": [
    "如果连必要的位置参数都传不完全的话，会是什么结果呢？下面就演示一下。"
   ]
  },
  {
   "cell_type": "code",
   "execution_count": 14,
   "metadata": {},
   "outputs": [
    {
     "name": "stdout",
     "output_type": "stream",
     "text": [
      "usage: test_argparse.py [-h] [-i ID] [--sex {男,女}] [-o [OTHER [OTHER ...]]]\r\n",
      "                        name age\r\n",
      "test_argparse.py: error: the following arguments are required: age\r\n"
     ]
    }
   ],
   "source": [
    "!python3 ./code/test_argparse.py 张三"
   ]
  },
  {
   "cell_type": "markdown",
   "metadata": {},
   "source": [
    "与之前的描述一致，位置参数不完全就会报错，而且报错信息还会指出是哪个参数没有传递。不得不说这样的设计也是很贴心，完全考虑到了使用过程中可能出现的任何问题。\n",
    "\n",
    "当然，这个模块可定制的功能还有很多，但是作为使用而言，很多定制的地方是不建议的。因为自动处理地已经很不错了，自行修改可能会使得整体风格不搭，而且让人困惑。"
   ]
  }
 ],
 "metadata": {
  "kernelspec": {
   "display_name": "Python 3",
   "language": "python",
   "name": "python3"
  },
  "language_info": {
   "codemirror_mode": {
    "name": "ipython",
    "version": 3
   },
   "file_extension": ".py",
   "mimetype": "text/x-python",
   "name": "python",
   "nbconvert_exporter": "python",
   "pygments_lexer": "ipython3",
   "version": "3.7.7"
  }
 },
 "nbformat": 4,
 "nbformat_minor": 2
}
