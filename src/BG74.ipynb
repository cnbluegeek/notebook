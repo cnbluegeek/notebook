{
 "cells": [
  {
   "cell_type": "markdown",
   "metadata": {},
   "source": [
    "## 1. 基础类型的拷贝"
   ]
  },
  {
   "cell_type": "code",
   "execution_count": 1,
   "metadata": {},
   "outputs": [
    {
     "name": "stdout",
     "output_type": "stream",
     "text": [
      "id(a)=4309896976, id(b)=4309896976\n"
     ]
    }
   ],
   "source": [
    "a = 1\n",
    "b = a\n",
    "print('id(a)={}, id(b)={}'.format(id(a), id(b)))"
   ]
  },
  {
   "cell_type": "code",
   "execution_count": 2,
   "metadata": {},
   "outputs": [
    {
     "name": "stdout",
     "output_type": "stream",
     "text": [
      "a=1, b=2\n"
     ]
    }
   ],
   "source": [
    "b = 2\n",
    "print('a={}, b={}'.format(a, b))"
   ]
  },
  {
   "cell_type": "code",
   "execution_count": 5,
   "metadata": {},
   "outputs": [
    {
     "ename": "TypeError",
     "evalue": "'str' object does not support item assignment",
     "output_type": "error",
     "traceback": [
      "\u001b[0;31m---------------------------------------------------------------------------\u001b[0m",
      "\u001b[0;31mTypeError\u001b[0m                                 Traceback (most recent call last)",
      "\u001b[0;32m<ipython-input-5-e0ac949badbe>\u001b[0m in \u001b[0;36m<module>\u001b[0;34m\u001b[0m\n\u001b[1;32m      1\u001b[0m \u001b[0mc\u001b[0m \u001b[0;34m=\u001b[0m \u001b[0;34m'123'\u001b[0m\u001b[0;34m\u001b[0m\u001b[0;34m\u001b[0m\u001b[0m\n\u001b[0;32m----> 2\u001b[0;31m \u001b[0mc\u001b[0m\u001b[0;34m[\u001b[0m\u001b[0;36m1\u001b[0m\u001b[0;34m]\u001b[0m \u001b[0;34m=\u001b[0m \u001b[0;34m'4'\u001b[0m\u001b[0;34m\u001b[0m\u001b[0;34m\u001b[0m\u001b[0m\n\u001b[0m\u001b[1;32m      3\u001b[0m \u001b[0mprint\u001b[0m\u001b[0;34m(\u001b[0m\u001b[0mc\u001b[0m\u001b[0;34m)\u001b[0m\u001b[0;34m\u001b[0m\u001b[0;34m\u001b[0m\u001b[0m\n",
      "\u001b[0;31mTypeError\u001b[0m: 'str' object does not support item assignment"
     ]
    }
   ],
   "source": [
    "c = '123'\n",
    "c[1] = '4'\n",
    "print(c)"
   ]
  },
  {
   "cell_type": "markdown",
   "metadata": {},
   "source": [
    "## 2. 复合类型浅拷贝"
   ]
  },
  {
   "cell_type": "code",
   "execution_count": 6,
   "metadata": {},
   "outputs": [
    {
     "name": "stdout",
     "output_type": "stream",
     "text": [
      "4353845920\n",
      "4353845920\n"
     ]
    }
   ],
   "source": [
    "list_a = [1,2,3,4,5]\n",
    "list_b = list_a\n",
    "print(id(list_a))\n",
    "print(id(list_b))"
   ]
  },
  {
   "cell_type": "code",
   "execution_count": 7,
   "metadata": {},
   "outputs": [
    {
     "name": "stdout",
     "output_type": "stream",
     "text": [
      "list_a=[1, 6, 3, 4, 5]\n",
      "list_b=[1, 6, 3, 4, 5]\n",
      "id(list_a)=4353845920\n",
      "id(list_b)=4353845920\n"
     ]
    }
   ],
   "source": [
    "list_b[1] = 6\n",
    "print('list_a={}'.format(list_a))\n",
    "print('list_b={}'.format(list_b))\n",
    "print('id(list_a)={}'.format(id(list_a)))\n",
    "print('id(list_b)={}'.format(id(list_b)))"
   ]
  },
  {
   "cell_type": "code",
   "execution_count": 8,
   "metadata": {},
   "outputs": [
    {
     "name": "stdout",
     "output_type": "stream",
     "text": [
      "list_a=[1, 6, 3, 4, 5]\n",
      "list_b=[6, 5, 4, 3, 2, 1]\n",
      "id(list_a)=4353845920\n",
      "id(list_b)=4354747120\n"
     ]
    }
   ],
   "source": [
    "list_b = [6,5,4,3,2,1]\n",
    "print('list_a={}'.format(list_a))\n",
    "print('list_b={}'.format(list_b))\n",
    "print('id(list_a)={}'.format(id(list_a)))\n",
    "print('id(list_b)={}'.format(id(list_b)))"
   ]
  },
  {
   "cell_type": "code",
   "execution_count": 10,
   "metadata": {},
   "outputs": [
    {
     "name": "stdout",
     "output_type": "stream",
     "text": [
      "list_a=[1, 6, 3, 4, 5]\n",
      "list_c=[1, 9, 3, 4, 5]\n",
      "id(list_a)=4353845920\n",
      "id(list_c)=4353922464\n"
     ]
    }
   ],
   "source": [
    "import copy\n",
    "list_c = copy.copy(list_a)\n",
    "list_c[1] = 9\n",
    "print('list_a={}'.format(list_a))\n",
    "print('list_c={}'.format(list_c))\n",
    "print('id(list_a)={}'.format(id(list_a)))\n",
    "print('id(list_c)={}'.format(id(list_c)))"
   ]
  },
  {
   "cell_type": "code",
   "execution_count": 11,
   "metadata": {},
   "outputs": [
    {
     "name": "stdout",
     "output_type": "stream",
     "text": [
      "list_a=[1, 6, 3, 4, 5]\n",
      "list_c=[6, 5, 4, 3, 2, 1]\n",
      "id(list_a)=4353845920\n",
      "id(list_c)=4356210768\n"
     ]
    }
   ],
   "source": [
    "list_c = [6,5,4,3,2,1]\n",
    "print('list_a={}'.format(list_a))\n",
    "print('list_c={}'.format(list_c))\n",
    "print('id(list_a)={}'.format(id(list_a)))\n",
    "print('id(list_c)={}'.format(id(list_c)))"
   ]
  },
  {
   "cell_type": "markdown",
   "metadata": {},
   "source": [
    "## 3. 复合类型深拷贝"
   ]
  },
  {
   "cell_type": "code",
   "execution_count": 13,
   "metadata": {},
   "outputs": [
    {
     "name": "stdout",
     "output_type": "stream",
     "text": [
      "4355914880\n",
      "4356592656\n"
     ]
    }
   ],
   "source": [
    "list_a = [1,2,3,4,5]\n",
    "list_b = list(list_a)\n",
    "print(id(list_a))\n",
    "print(id(list_b))"
   ]
  },
  {
   "cell_type": "markdown",
   "metadata": {},
   "source": [
    "## 4. 多层复合类型的拷贝"
   ]
  },
  {
   "cell_type": "code",
   "execution_count": 1,
   "metadata": {},
   "outputs": [
    {
     "name": "stdout",
     "output_type": "stream",
     "text": [
      "4489601584\n",
      "4490545264\n"
     ]
    }
   ],
   "source": [
    "list_a = [[1,2], [3,4], [5,6]]\n",
    "list_b = list(list_a)\n",
    "print(id(list_a))\n",
    "print(id(list_b))"
   ]
  },
  {
   "cell_type": "code",
   "execution_count": 2,
   "metadata": {},
   "outputs": [
    {
     "name": "stdout",
     "output_type": "stream",
     "text": [
      "[[100, 2], [3, 4], [5, 6]]\n"
     ]
    }
   ],
   "source": [
    "list_b[0][0] = 100\n",
    "print(list_a)"
   ]
  },
  {
   "cell_type": "code",
   "execution_count": 3,
   "metadata": {},
   "outputs": [
    {
     "name": "stdout",
     "output_type": "stream",
     "text": [
      "4489536608\n",
      "4489536608\n"
     ]
    }
   ],
   "source": [
    "print(id(list_a[0]))\n",
    "print(id(list_b[0]))"
   ]
  },
  {
   "cell_type": "code",
   "execution_count": 4,
   "metadata": {},
   "outputs": [
    {
     "name": "stdout",
     "output_type": "stream",
     "text": [
      "4489536608\n",
      "4489536608\n"
     ]
    }
   ],
   "source": [
    "import copy\n",
    "list_b = copy.copy(list_a)\n",
    "print(id(list_a[0]))\n",
    "print(id(list_b[0]))"
   ]
  },
  {
   "cell_type": "code",
   "execution_count": 5,
   "metadata": {},
   "outputs": [
    {
     "name": "stdout",
     "output_type": "stream",
     "text": [
      "4489536608\n",
      "4495039056\n"
     ]
    }
   ],
   "source": [
    "import copy\n",
    "list_b = copy.deepcopy(list_a)\n",
    "print(id(list_a[0]))\n",
    "print(id(list_b[0]))"
   ]
  },
  {
   "cell_type": "code",
   "execution_count": 6,
   "metadata": {},
   "outputs": [
    {
     "name": "stdout",
     "output_type": "stream",
     "text": [
      "[[100, 2], [3, 4], [5, 6]]\n"
     ]
    }
   ],
   "source": [
    "list_b[0][0] = -100\n",
    "print(list_a)"
   ]
  }
 ],
 "metadata": {
  "kernelspec": {
   "display_name": "Python 3",
   "language": "python",
   "name": "python3"
  },
  "language_info": {
   "codemirror_mode": {
    "name": "ipython",
    "version": 3
   },
   "file_extension": ".py",
   "mimetype": "text/x-python",
   "name": "python",
   "nbconvert_exporter": "python",
   "pygments_lexer": "ipython3",
   "version": "3.7.5"
  }
 },
 "nbformat": 4,
 "nbformat_minor": 2
}
