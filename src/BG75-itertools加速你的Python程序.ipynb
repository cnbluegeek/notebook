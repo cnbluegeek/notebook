{
 "cells": [
  {
   "cell_type": "markdown",
   "metadata": {},
   "source": [
    "## 1. 无穷生成器"
   ]
  },
  {
   "cell_type": "code",
   "execution_count": 1,
   "metadata": {},
   "outputs": [
    {
     "name": "stdout",
     "output_type": "stream",
     "text": [
      "type(it_count)=<class 'itertools.count'>\n",
      "[12, 14.5, 17.0, 19.5, 22.0]\n"
     ]
    }
   ],
   "source": [
    "import itertools as it\n",
    "\n",
    "it_count = it.count(12, 2.5)\n",
    "print('type(it_count)={}'.format(type(it_count)))\n",
    "\n",
    "ret = []\n",
    "for i in it_count:\n",
    "    ret.append(i)\n",
    "    # 如果不加这一行就是死循环\n",
    "    if i > 20:\n",
    "        break\n",
    "print(ret)"
   ]
  },
  {
   "cell_type": "code",
   "execution_count": 2,
   "metadata": {},
   "outputs": [
    {
     "name": "stdout",
     "output_type": "stream",
     "text": [
      "type(it_cycle)=<class 'itertools.cycle'>\n",
      "[1, 2, 3, 4, 1, 2, 3, 4, 1, 2]\n"
     ]
    }
   ],
   "source": [
    "it_cycle = it.cycle([1,2,3,4])\n",
    "print('type(it_cycle)={}'.format(type(it_cycle)))\n",
    "\n",
    "ret = []\n",
    "for i in it_cycle:\n",
    "    ret.append(i)\n",
    "    if len(ret) >= 10:\n",
    "        break\n",
    "print(ret)"
   ]
  },
  {
   "cell_type": "code",
   "execution_count": 3,
   "metadata": {
    "scrolled": true
   },
   "outputs": [
    {
     "name": "stdout",
     "output_type": "stream",
     "text": [
      "type(it_repeat)=<class 'itertools.repeat'>\n",
      "[2, 2, 2, 2, 2, 2, 2, 2, 2, 2]\n"
     ]
    }
   ],
   "source": [
    "it_repeat = it.repeat(2)\n",
    "print('type(it_repeat)={}'.format(type(it_repeat)))\n",
    "\n",
    "ret = []\n",
    "for i in it_repeat:\n",
    "    ret.append(i)\n",
    "    if len(ret) >= 10:\n",
    "        break\n",
    "print(ret)"
   ]
  },
  {
   "cell_type": "code",
   "execution_count": 4,
   "metadata": {},
   "outputs": [],
   "source": [
    "def my_count(n, step):\n",
    "    \"\"\"使用python代码实现itertools.count的功能\n",
    "    \"\"\"\n",
    "    while True:\n",
    "        yield n\n",
    "        n += step\n",
    "        \n",
    "def test_count(it_count):\n",
    "    \"\"\"用于测试count生成器的性能\n",
    "    \"\"\"\n",
    "    for i in it_count: \n",
    "        if i > 20: \n",
    "            break"
   ]
  },
  {
   "cell_type": "code",
   "execution_count": 5,
   "metadata": {},
   "outputs": [
    {
     "name": "stdout",
     "output_type": "stream",
     "text": [
      "177 ns ± 2.3 ns per loop (mean ± std. dev. of 7 runs, 10000000 loops each)\n",
      "220 ns ± 2.57 ns per loop (mean ± std. dev. of 7 runs, 1000000 loops each)\n"
     ]
    }
   ],
   "source": [
    "# 测试itertools提供的函数    \n",
    "it_mycount = my_count(12, 2.5)\n",
    "%timeit test_count(it_count)\n",
    "it_count = it.count(12, 2.5)\n",
    "%timeit test_count(it_mycount)"
   ]
  },
  {
   "cell_type": "markdown",
   "metadata": {},
   "source": [
    "## 2. 有限迭代器"
   ]
  },
  {
   "cell_type": "code",
   "execution_count": 5,
   "metadata": {},
   "outputs": [
    {
     "name": "stdout",
     "output_type": "stream",
     "text": [
      "type(it_acc)=<class 'itertools.accumulate'>\n",
      "[0, 1, 3, 6, 10, 15, 21, 28, 36, 45]\n"
     ]
    }
   ],
   "source": [
    "a = list(range(10))\n",
    "\n",
    "it_acc = it.accumulate(a)\n",
    "print('type(it_acc)={}'.format(type(it_acc)))\n",
    "print(list(it_acc))"
   ]
  },
  {
   "cell_type": "code",
   "execution_count": 6,
   "metadata": {},
   "outputs": [
    {
     "name": "stdout",
     "output_type": "stream",
     "text": [
      "type(it_chain)=<class 'itertools.chain'>\n",
      "[1, 2, 3, 4, 5]\n"
     ]
    }
   ],
   "source": [
    "it_chain = it.chain([1,2,3], [4,5])\n",
    "print('type(it_chain)={}'.format(type(it_chain)))\n",
    "print(list(it_chain))"
   ]
  },
  {
   "cell_type": "code",
   "execution_count": 7,
   "metadata": {},
   "outputs": [
    {
     "name": "stdout",
     "output_type": "stream",
     "text": [
      "type(it_comp)=<class 'itertools.compress'>\n",
      "[2, 3]\n"
     ]
    }
   ],
   "source": [
    "it_comp = it.compress([1,2,3,4,5], [0,1,1,0,0])\n",
    "print('type(it_comp)={}'.format(type(it_comp)))\n",
    "print(list(it_comp))"
   ]
  },
  {
   "cell_type": "code",
   "execution_count": 8,
   "metadata": {},
   "outputs": [
    {
     "name": "stdout",
     "output_type": "stream",
     "text": [
      "type(it_dw)=<class 'itertools.dropwhile'>\n",
      "[3, 4, 5, 6]\n"
     ]
    }
   ],
   "source": [
    "it_dw = it.dropwhile(lambda x:x<3, [1,2,3,4,5,6])\n",
    "print('type(it_dw)={}'.format(type(it_dw)))\n",
    "print(list(it_dw))"
   ]
  },
  {
   "cell_type": "code",
   "execution_count": 9,
   "metadata": {},
   "outputs": [
    {
     "name": "stdout",
     "output_type": "stream",
     "text": [
      "type(it_ff)=<class 'itertools.filterfalse'>\n",
      "[3, 4, 5, 6]\n"
     ]
    }
   ],
   "source": [
    "it_ff = it.filterfalse(lambda x:x<3, [1,2,3,4,5,6])\n",
    "print('type(it_ff)={}'.format(type(it_ff)))\n",
    "print(list(it_ff))"
   ]
  },
  {
   "cell_type": "code",
   "execution_count": 12,
   "metadata": {},
   "outputs": [
    {
     "name": "stdout",
     "output_type": "stream",
     "text": [
      "type(it_gb)=<class 'itertools.groupby'>\n",
      "[1, 2, 3, 4, 5]\n",
      "[[1], [2, 2], [3, 3, 3], [4], [5, 5, 5]]\n"
     ]
    }
   ],
   "source": [
    "it_gb = it.groupby([1,2,2,3,3,3,4,5,5,5])\n",
    "print('type(it_gb)={}'.format(type(it_gb)))\n",
    "print([k for k,g in it_gb])\n",
    "it_gb = it.groupby([1,2,2,3,3,3,4,5,5,5])\n",
    "print([list(g) for k,g in it_gb])"
   ]
  },
  {
   "cell_type": "code",
   "execution_count": 15,
   "metadata": {},
   "outputs": [
    {
     "name": "stdout",
     "output_type": "stream",
     "text": [
      "type(it_is)=<class 'itertools.islice'>\n",
      "[2, 3]\n"
     ]
    }
   ],
   "source": [
    "# 传参顺序：sequence, start, end, step\n",
    "it_is = it.islice([1,2,3,4,5], 1, 3, 1)\n",
    "print('type(it_is)={}'.format(type(it_is)))\n",
    "print(list(it_is))"
   ]
  },
  {
   "cell_type": "code",
   "execution_count": 21,
   "metadata": {},
   "outputs": [
    {
     "name": "stdout",
     "output_type": "stream",
     "text": [
      "type(it_sm)=<class 'itertools.starmap'>\n",
      "[2, 12, 30]\n"
     ]
    }
   ],
   "source": [
    "it_sm = it.starmap(lambda x,y: x*y, [(1,2),(3,4),(5, 6)])\n",
    "print('type(it_sm)={}'.format(type(it_sm)))\n",
    "print(list(it_sm))"
   ]
  },
  {
   "cell_type": "code",
   "execution_count": 23,
   "metadata": {},
   "outputs": [
    {
     "name": "stdout",
     "output_type": "stream",
     "text": [
      "type(it_tw)=<class 'itertools.takewhile'>\n",
      "[1, 2]\n"
     ]
    }
   ],
   "source": [
    "it_tw = it.takewhile(lambda x: x<3, [1,2,3,4,5])\n",
    "print('type(it_tw)={}'.format(type(it_tw)))\n",
    "print(list(it_tw))"
   ]
  },
  {
   "cell_type": "code",
   "execution_count": 24,
   "metadata": {},
   "outputs": [
    {
     "name": "stdout",
     "output_type": "stream",
     "text": [
      "type(it_zl)=<class 'itertools.zip_longest'>\n",
      "[(1, 5), (2, 6), (3, 0), (4, 0)]\n"
     ]
    }
   ],
   "source": [
    "it_zl = it.zip_longest([1,2,3,4], [5,6], fillvalue=0)\n",
    "print('type(it_zl)={}'.format(type(it_zl)))\n",
    "print(list(it_zl))"
   ]
  },
  {
   "cell_type": "code",
   "execution_count": 36,
   "metadata": {},
   "outputs": [],
   "source": [
    "def my_zip_longest(seq_1, seq_2, fillvalue):\n",
    "    length = max(len(seq_1), len(seq_2))\n",
    "    for i in range(length):\n",
    "        first = seq_1[i] if i<len(seq_1) else fillvalue\n",
    "        second = seq_2[i] if i<len(seq_2) else fillvalue \n",
    "        yield first,second"
   ]
  },
  {
   "cell_type": "code",
   "execution_count": 34,
   "metadata": {},
   "outputs": [
    {
     "name": "stdout",
     "output_type": "stream",
     "text": [
      "968 ns ± 5.16 ns per loop (mean ± std. dev. of 7 runs, 1000000 loops each)\n",
      "3.58 µs ± 37.3 ns per loop (mean ± std. dev. of 7 runs, 100000 loops each)\n"
     ]
    }
   ],
   "source": [
    "%timeit list(it.zip_longest([1,2,3,4,5,6,7,8,9], [1,2,3,4,5], fillvalue=0))\n",
    "%timeit list(my_zip_longest([1,2,3,4,5,6,7,8,9], [1,2,3,4,5], fillvalue=0))"
   ]
  },
  {
   "cell_type": "markdown",
   "metadata": {},
   "source": [
    "## 3. 排列组合"
   ]
  },
  {
   "cell_type": "code",
   "execution_count": 25,
   "metadata": {},
   "outputs": [
    {
     "name": "stdout",
     "output_type": "stream",
     "text": [
      "type(it_prod)=<class 'itertools.product'>\n",
      "[(1, 4), (1, 5), (1, 6), (2, 4), (2, 5), (2, 6), (3, 4), (3, 5), (3, 6)]\n"
     ]
    }
   ],
   "source": [
    "it_prod = it.product([1,2,3], [4,5,6])\n",
    "print('type(it_prod)={}'.format(type(it_prod)))\n",
    "print(list(it_prod))"
   ]
  },
  {
   "cell_type": "code",
   "execution_count": 28,
   "metadata": {},
   "outputs": [
    {
     "name": "stdout",
     "output_type": "stream",
     "text": [
      "type(it_perm)=<class 'itertools.permutations'>\n",
      "[(1, 2), (1, 3), (2, 1), (2, 3), (3, 1), (3, 2)]\n"
     ]
    }
   ],
   "source": [
    "it_perm = it.permutations([1,2,3], 2)\n",
    "print('type(it_perm)={}'.format(type(it_perm)))\n",
    "print(list(it_perm))"
   ]
  },
  {
   "cell_type": "code",
   "execution_count": 29,
   "metadata": {},
   "outputs": [
    {
     "name": "stdout",
     "output_type": "stream",
     "text": [
      "type(it_comb)=<class 'itertools.combinations'>\n",
      "[(1, 2), (1, 3), (2, 3)]\n"
     ]
    }
   ],
   "source": [
    "it_comb = it.combinations([1,2,3], 2)\n",
    "print('type(it_comb)={}'.format(type(it_comb)))\n",
    "print(list(it_comb))"
   ]
  },
  {
   "cell_type": "code",
   "execution_count": 30,
   "metadata": {},
   "outputs": [
    {
     "name": "stdout",
     "output_type": "stream",
     "text": [
      "type(it_cwr)=<class 'itertools.combinations_with_replacement'>\n",
      "[(1, 1), (1, 2), (1, 3), (2, 2), (2, 3), (3, 3)]\n"
     ]
    }
   ],
   "source": [
    "it_cwr = it.combinations_with_replacement([1,2,3], 2)\n",
    "print('type(it_cwr)={}'.format(type(it_cwr)))\n",
    "print(list(it_cwr))"
   ]
  },
  {
   "cell_type": "code",
   "execution_count": 44,
   "metadata": {},
   "outputs": [
    {
     "name": "stdout",
     "output_type": "stream",
     "text": [
      "[(1, 2, 3), (1, 2, 4), (1, 3, 4), (2, 3, 4)]\n"
     ]
    }
   ],
   "source": [
    "def my_combinations(seq, times):\n",
    "    length = len(seq)\n",
    "    if length < times:\n",
    "        return\n",
    "    idx = list(range(times))\n",
    "    yield tuple(seq[i] for i in idx)\n",
    "    \n",
    "    def find_idx_i(idx, times, length):\n",
    "        for i in range(times-1, -1, -1):\n",
    "            if idx[i] != i + length - times:\n",
    "                return i\n",
    "        return None\n",
    "    \n",
    "    while True:\n",
    "        i = find_idx_i(idx, times, length)\n",
    "        if i is not None:\n",
    "            idx[i] += 1\n",
    "            for j in range(i+1, times):\n",
    "                idx[j] = idx[j-1]+1\n",
    "            yield tuple(seq[k] for k in idx)\n",
    "        else:\n",
    "            return\n",
    "print(list(my_combinations([1,2,3, 4], 3)))"
   ]
  },
  {
   "cell_type": "code",
   "execution_count": 45,
   "metadata": {},
   "outputs": [
    {
     "name": "stdout",
     "output_type": "stream",
     "text": [
      "576 ns ± 12.7 ns per loop (mean ± std. dev. of 7 runs, 1000000 loops each)\n",
      "7.52 µs ± 96.8 ns per loop (mean ± std. dev. of 7 runs, 100000 loops each)\n"
     ]
    }
   ],
   "source": [
    "%timeit list(it.combinations([1,2,3,4], 3))\n",
    "%timeit list(my_combinations([1,2,3,4], 3))"
   ]
  }
 ],
 "metadata": {
  "kernelspec": {
   "display_name": "Python 3",
   "language": "python",
   "name": "python3"
  },
  "language_info": {
   "codemirror_mode": {
    "name": "ipython",
    "version": 3
   },
   "file_extension": ".py",
   "mimetype": "text/x-python",
   "name": "python",
   "nbconvert_exporter": "python",
   "pygments_lexer": "ipython3",
   "version": "3.7.5"
  }
 },
 "nbformat": 4,
 "nbformat_minor": 2
}
