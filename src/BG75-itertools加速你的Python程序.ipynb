{
 "cells": [
  {
   "cell_type": "markdown",
   "metadata": {},
   "source": [
    "# <center>itertools加速你的Python程序</center>\n"
   ]
  },
  {
   "cell_type": "markdown",
   "metadata": {},
   "source": [
    "By [青衣极客 Blue Geek](https://mp.weixin.qq.com/s/fVZrLGcJeB00spdaYkpCsQ)\n",
    "\n",
    "In 2020-03-11"
   ]
  },
  {
   "cell_type": "markdown",
   "metadata": {},
   "source": [
    "如果你听到有一个人在抱怨Python，那么他十有八九正在承受Python程序运行速度慢的煎熬。如果你也感觉到了Python程序运行时的低效，那么是时候作出一些改变了，优化循环结构可能是收益比较大的一项工作。使用何种工具来优化呢？itertools是一个不错的选择，它提供了很多常用功能的迭代器，不仅能加速，还能让你的程序更简洁，甚至提升开发效率。\n",
    "\n",
    "如果有需要实现任意多步的循环，那么“无穷迭代器”会很有帮助；如果想对序列数据进行一些常规操作，那么“有限迭代器”会比较有用；如果需要实现一些排列组合的需求，那么“排列组合迭代器”会是不二的选择。除了介绍这三种迭代器的常用功能，下文还会对每一类迭代器与自己手动实现相同功能的程序进行性能的对比。可以先剧透一下结论，用过itertools提供的迭代器之后，你再也不想自己实现这些功能了。\n"
   ]
  },
  {
   "cell_type": "markdown",
   "metadata": {},
   "source": [
    "## 1. 无穷迭代器\n",
    "\n",
    "所谓“无穷迭代器”是指，可以从迭代器中取值任意次数。如果直接对这样的迭代器进行遍历，而不进行跳出操作，那么将会是一个死循环。\n",
    "\n",
    "|函数名|功能解释|\n",
    "|:---:|:---:|\n",
    "|count|等差数列|\n",
    "|cycle|循环遍历序列元素|\n",
    "|repeat|重复数值任意次数|\n",
    "\n",
    "### (1). count()\n",
    "\n",
    "如果需要生成一个任意长度的等差数列，count()函数是一个比range()更好的选择，因为它支持浮点数步长。下面的例子可以说明这一点。\n",
    "\n",
    "```Python\n",
    "import itertools as it\n",
    "\n",
    "it_count = it.count(12, 2.5)\n",
    "print('type(it_count)={}'.format(type(it_count)))\n",
    "\n",
    "ret = []\n",
    "for i in it_count:\n",
    "    ret.append(i)\n",
    "    # 如果不加这一行就是死循环\n",
    "    if i > 20:\n",
    "        break\n",
    "print(ret)\n",
    "```\n",
    "\n",
    "Output:\n",
    "\n",
    "```\n",
    "type(it_count)=<class 'itertools.count'>\n",
    "[12, 14.5, 17.0, 19.5, 22.0]\n",
    "```\n",
    "\n",
    "### (2). cycle()\n",
    "\n",
    "如果需要循环获取一个有效序列中的每一个元素，cycle()会很有帮助。\n",
    "\n",
    "```Python\n",
    "it_cycle = it.cycle([1,2,3,4])\n",
    "print('type(it_cycle)={}'.format(type(it_cycle)))\n",
    "\n",
    "ret = []\n",
    "for i in it_cycle:\n",
    "    ret.append(i)\n",
    "    if len(ret) >= 10:\n",
    "        break\n",
    "print(ret)\n",
    "```\n",
    "\n",
    "Output:\n",
    "\n",
    "```\n",
    "type(it_cycle)=<class 'itertools.cycle'>\n",
    "[1, 2, 3, 4, 1, 2, 3, 4, 1, 2]\n",
    "```\n",
    "\n",
    "### (3). repeat()\n",
    "\n",
    "如果需要重复一个数值任意次数，可以使用repeat()函数；如果需要重复有限次，可以将次数作为第二个参数传入。\n",
    "\n",
    "```Python\n",
    "it_repeat = it.repeat(2)\n",
    "print('type(it_repeat)={}'.format(type(it_repeat)))\n",
    "\n",
    "ret = []\n",
    "for i in it_repeat:\n",
    "    ret.append(i)\n",
    "    if len(ret) >= 10:\n",
    "        break\n",
    "print(ret)\n",
    "```\n",
    "\n",
    "Output:\n",
    "\n",
    "```\n",
    "type(it_repeat)=<class 'itertools.repeat'>\n",
    "[2, 2, 2, 2, 2, 2, 2, 2, 2, 2]\n",
    "```\n",
    "\n",
    "### (4). 性能对比\n",
    "\n",
    "要说这三个函数所提供的功能更加高效，那总不能空开说白话，需要给出实验数据才有说服力。我们先实现一个与count()功能一致的函数。\n",
    "\n",
    "```Python\n",
    "def my_count(n, step):\n",
    "    \"\"\"使用python代码实现itertools.count的功能\n",
    "    \"\"\"\n",
    "    while True:\n",
    "        yield n\n",
    "        n += step\n",
    "```\n",
    "\n",
    "为了便于测试，我们还需要实现一个测试函数，用于完成正常的功能调用。\n",
    "\n",
    "```Python\n",
    "def test_count(it_count):\n",
    "    \"\"\"用于测试count生成器的性能\n",
    "    \"\"\"\n",
    "    for i in it_count: \n",
    "        if i > 20: \n",
    "            break\n",
    "```\n",
    "\n",
    "借助notebook的魔术方法，我们测试一下itertools提供的count()和自己动手实现的my_count()在相同参数下的运行耗时。\n",
    "\n",
    "```Python\n",
    "# 测试itertools提供的函数    \n",
    "it_mycount = my_count(12, 2.5)\n",
    "%timeit test_count(it_count)\n",
    "it_count = it.count(12, 2.5)\n",
    "%timeit test_count(it_mycount)\n",
    "```\n",
    "\n",
    "Output:\n",
    "\n",
    "```\n",
    "177 ns ± 2.3 ns per loop (mean ± std. dev. of 7 runs, 10000000 loops each)\n",
    "220 ns ± 2.57 ns per loop (mean ± std. dev. of 7 runs, 1000000 loops each)\n",
    "```\n",
    "\n",
    "评测数据说明，自己实现的my_count()至少比itertools提供的count()慢了16%。结论也就显而易见了，能用已有的，千万别瞎动手。\n"
   ]
  },
  {
   "cell_type": "markdown",
   "metadata": {},
   "source": [
    "## 2. 有限迭代器\n",
    "\n",
    "相比于“无穷迭代器”，更常用的还是“有限迭代器”。在日常开发的代码中使用这些接口，会比自己实现省事得多。\n",
    "\n",
    "|函数名|功能解释|函数名|功能解释|\n",
    "|:---:|:---:|:---:|:---:|\n",
    "|accumulate|累加|chain|序列融合|\n",
    "|compress|元素掩膜|dropwhile|从第一个false开始|\n",
    "|takewhile|到第一个不满足结束|filterfalse|保留false|\n",
    "|groupby|相邻同值元素分组|islice|切片|\n",
    "|starmap|处理序列的序列|zip_longest|逐个依次组合|\n",
    "\n",
    "### (1). accumulate()\n",
    "\n",
    "累加，这是一个常用的数学操作，自己实现起来也不复杂，但在这里，我们还是先看看itertools的接口。\n",
    "\n",
    "```Python\n",
    "a = list(range(10))\n",
    "\n",
    "it_acc = it.accumulate(a)\n",
    "print('type(it_acc)={}'.format(type(it_acc)))\n",
    "print(list(it_acc))\n",
    "```\n",
    "\n",
    "Output:\n",
    "\n",
    "```\n",
    "type(it_acc)=<class 'itertools.accumulate'>\n",
    "[0, 1, 3, 6, 10, 15, 21, 28, 36, 45]\n",
    "```\n",
    "\n",
    "### (2). chain()\n",
    "\n",
    "如果需要把若干个序列融合成一个序列的时候，chain()函数可以解决。\n",
    "\n",
    "```Python\n",
    "it_chain = it.chain([1,2,3], [4,5])\n",
    "print('type(it_chain)={}'.format(type(it_chain)))\n",
    "print(list(it_chain))\n",
    "```\n",
    "\n",
    "Output:\n",
    "\n",
    "```\n",
    "type(it_chain)=<class 'itertools.chain'>\n",
    "[1, 2, 3, 4, 5]\n",
    "```\n",
    "\n",
    "### (3). compress()\n",
    "\n",
    "想要使用掩膜板从一个序列中提取若干元素形成一个新的序列，compress()函数可以实现。\n",
    "\n",
    "```Python\n",
    "it_comp = it.compress([1,2,3,4,5], [0,1,1,0,0])\n",
    "print('type(it_comp)={}'.format(type(it_comp)))\n",
    "print(list(it_comp))\n",
    "```\n",
    "\n",
    "Output:\n",
    "\n",
    "```\n",
    "type(it_comp)=<class 'itertools.compress'>\n",
    "[2, 3]\n",
    "```\n",
    "\n",
    "### (4). dropwhile()\n",
    "\n",
    "有一个奇怪的需求，对序列的元素逐个遍历，遇到第一个不满足条件的元素时，接受该元素及其以后的所有元素形成一个新的序列。这个拗口的描述就是dropwhile()函数实现的功能。\n",
    "\n",
    "```Python\n",
    "it_dw = it.dropwhile(lambda x:x<3, [1,2,3,4,5,6])\n",
    "print('type(it_dw)={}'.format(type(it_dw)))\n",
    "print(list(it_dw))\n",
    "```\n",
    "\n",
    "Output:\n",
    "\n",
    "```\n",
    "type(it_dw)=<class 'itertools.dropwhile'>\n",
    "[3, 4, 5, 6]\n",
    "```\n",
    "\n",
    "\n",
    "### (5). takewhile()\n",
    "\n",
    "takewhile()函数提供的功能与dropwhile()刚好相反，即接受第一个不满足条件的元素之前的所有元素。\n",
    "\n",
    "```Python\n",
    "it_tw = it.takewhile(lambda x: x<3, [1,2,3,4,5])\n",
    "print('type(it_tw)={}'.format(type(it_tw)))\n",
    "print(list(it_tw))\n",
    "```\n",
    "\n",
    "Output:\n",
    "\n",
    "```\n",
    "type(it_tw)=<class 'itertools.takewhile'>\n",
    "[1, 2]\n",
    "```\n",
    "\n",
    "### (6). filterfalse()\n",
    "\n",
    "如果需要删除序列中满足条件的元素，可以选择filterfalse()函数。\n",
    "\n",
    "```Python\n",
    "it_ff = it.filterfalse(lambda x:x<3, [1,2,3,4,5,6])\n",
    "print('type(it_ff)={}'.format(type(it_ff)))\n",
    "print(list(it_ff))\n",
    "```\n",
    "\n",
    "Output:\n",
    "\n",
    "```\n",
    "type(it_ff)=<class 'itertools.filterfalse'>\n",
    "[3, 4, 5, 6]\n",
    "```\n",
    "\n",
    "### (7). groupby()\n",
    "\n",
    "将序列中排放在相邻位置的相同元素归为同一组,并以该元素为key，以该组元素为value生成词典，这是groupby()函数的功能。\n",
    "\n",
    "```Python\n",
    "it_gb = it.groupby([1,2,2,3,3,3,4,5,5,5])\n",
    "print('type(it_gb)={}'.format(type(it_gb)))\n",
    "print([k for k,g in it_gb])\n",
    "it_gb = it.groupby([1,2,2,3,3,3,4,5,5,5])\n",
    "print([list(g) for k,g in it_gb])\n",
    "```\n",
    "\n",
    "Output:\n",
    "\n",
    "```\n",
    "type(it_gb)=<class 'itertools.groupby'>\n",
    "[1, 2, 3, 4, 5]\n",
    "[[1], [2, 2], [3, 3, 3], [4], [5, 5, 5]]\n",
    "```\n",
    "\n",
    "### (8). islice()\n",
    "\n",
    "如果需要对序列进行切片，可以使用islice()函数，虽然比Python自带的切片复杂一点。\n",
    "\n",
    "```Python\n",
    "# 传参顺序：sequence, start, end, step\n",
    "it_is = it.islice([1,2,3,4,5], 1, 3, 1)\n",
    "print('type(it_is)={}'.format(type(it_is)))\n",
    "print(list(it_is))\n",
    "```\n",
    "\n",
    "Output:\n",
    "\n",
    "```\n",
    "type(it_is)=<class 'itertools.islice'>\n",
    "[2, 3]\n",
    "```\n",
    "\n",
    "### (9). starmap()\n",
    "\n",
    "如果需要对元素为序列的序列进行处理，starmap()可以提供对应的功能。\n",
    "\n",
    "```Python\n",
    "it_sm = it.starmap(lambda x,y: x*y, [(1,2),(3,4),(5, 6)])\n",
    "print('type(it_sm)={}'.format(type(it_sm)))\n",
    "print(list(it_sm))\n",
    "```\n",
    "\n",
    "Output:\n",
    "\n",
    "```\n",
    "type(it_sm)=<class 'itertools.starmap'>\n",
    "[2, 12, 30]\n",
    "```\n",
    "\n",
    "### (10). zip_longest()\n",
    "\n",
    "将两个序列逐个元素组合起来进行处理也是比较常用的操作，zip_longest()可以提供更加通用的功能。\n",
    "\n",
    "```Python\n",
    "it_zl = it.zip_longest([1,2,3,4], [5,6], fillvalue=0)\n",
    "print('type(it_zl)={}'.format(type(it_zl)))\n",
    "print(list(it_zl))\n",
    "```\n",
    "\n",
    "Output:\n",
    "\n",
    "```\n",
    "type(it_zl)=<class 'itertools.zip_longest'>\n",
    "[(1, 5), (2, 6), (3, 0), (4, 0)]\n",
    "```\n",
    "\n",
    "### (11). 性能对比\n",
    "\n",
    "就以zip_longest()函数的为例来进行性能对比，我们需要先实现一下提供相同功能的函数。\n",
    "\n",
    "```Python\n",
    "def my_zip_longest(seq_1, seq_2, fillvalue):\n",
    "    length = max(len(seq_1), len(seq_2))\n",
    "    for i in range(length):\n",
    "        first = seq_1[i] if i<len(seq_1) else fillvalue\n",
    "        second = seq_2[i] if i<len(seq_2) else fillvalue \n",
    "        yield first,second\n",
    "```\n",
    "\n",
    "然后使用notebook的魔术方法来进行如下评测：\n",
    "\n",
    "```Python\n",
    "%timeit list(it.zip_longest([1,2,3,4,5,6,7,8,9], [1,2,3,4,5], fillvalue=0))\n",
    "%timeit list(my_zip_longest([1,2,3,4,5,6,7,8,9], [1,2,3,4,5], fillvalue=0))\n",
    "```\n",
    "\n",
    "Output:\n",
    "\n",
    "```\n",
    "968 ns ± 5.16 ns per loop (mean ± std. dev. of 7 runs, 1000000 loops each)\n",
    "3.58 µs ± 37.3 ns per loop (mean ± std. dev. of 7 runs, 100000 loops each)\n",
    "```\n",
    "\n",
    "评测数据告诉我们，itertools提供的zip_longest()比自己动手实现的my_zip_longest()要快3倍左右。\n"
   ]
  },
  {
   "cell_type": "markdown",
   "metadata": {},
   "source": [
    "## 3. 排列组合迭代器\n",
    "\n",
    "“排列组合迭代器”大概是性价比最高的一组接口，因为这些功能要是自己动手实现，且不说速度慢，代码不易读，甚至有些实现起来还不那么容易。\n",
    "\n",
    "|函数名|功能解释|\n",
    "|:---:|:---:|\n",
    "|product|笛卡尔积|\n",
    "|permutations|排列|\n",
    "|combinations|组合|\n",
    "|combinations_with_replacement|有重复组合|\n",
    "\n",
    "### (1). product()\n",
    "\n",
    "product()函数可以用于计算两个序列的笛卡尔积。\n",
    "\n",
    "```Python\n",
    "it_prod = it.product([1,2,3], [4,5,6])\n",
    "print('type(it_prod)={}'.format(type(it_prod)))\n",
    "print(list(it_prod))\n",
    "```\n",
    "\n",
    "Output:\n",
    "\n",
    "```\n",
    "type(it_prod)=<class 'itertools.product'>\n",
    "[(1, 4), (1, 5), (1, 6), (2, 4), (2, 5), (2, 6), (3, 4), (3, 5), (3, 6)]\n",
    "```\n",
    "\n",
    "### (2). permutations()\n",
    "\n",
    "如果需要对序列元素进行无重复元素的排列，可以使用permutations()，这里的无重复可不是针对数值而言，而是针对对象的。所以如果想要数值不重复，需要保证输入序列数值不重复。\n",
    "\n",
    "```Python\n",
    "it_perm = it.permutations([1,2,3], 2)\n",
    "print('type(it_perm)={}'.format(type(it_perm)))\n",
    "print(list(it_perm))\n",
    "```\n",
    "\n",
    "Output:\n",
    "\n",
    "```\n",
    "type(it_perm)=<class 'itertools.permutations'>\n",
    "[(1, 2), (1, 3), (2, 1), (2, 3), (3, 1), (3, 2)]\n",
    "```\n",
    "\n",
    "### (3). combinations()\n",
    "\n",
    "有排列就有组合，combinations()函数就是用来提供组合功能的。\n",
    "\n",
    "```Python\n",
    "it_comb = it.combinations([1,2,3], 2)\n",
    "print('type(it_comb)={}'.format(type(it_comb)))\n",
    "print(list(it_comb))\n",
    "```\n",
    "\n",
    "Output:\n",
    "\n",
    "```\n",
    "type(it_comb)=<class 'itertools.combinations'>\n",
    "[(1, 2), (1, 3), (2, 3)]\n",
    "```\n",
    "\n",
    "### (4). combinations_with_replacement()\n",
    "\n",
    "如果想要进行有重复元素的组合，该怎么办？使用combinations_with_replacement()解决。\n",
    "\n",
    "```Python\n",
    "it_cwr = it.combinations_with_replacement([1,2,3], 2)\n",
    "print('type(it_cwr)={}'.format(type(it_cwr)))\n",
    "print(list(it_cwr))\n",
    "```\n",
    "\n",
    "Output:\n",
    "\n",
    "```\n",
    "type(it_cwr)=<class 'itertools.combinations_with_replacement'>\n",
    "[(1, 1), (1, 2), (1, 3), (2, 2), (2, 3), (3, 3)]\n",
    "```\n",
    "\n",
    "### (5). 性能对比\n",
    "\n",
    "组合功能实现起来稍微复杂一点，我们就以组合功能来对比一下itertools提供的工具与手动实现的接口。首先实现一个与combinations()函数功能大体一致的函数。\n",
    "\n",
    "```Python\n",
    "def my_combinations(seq, times):\n",
    "    length = len(seq)\n",
    "    if length < times:\n",
    "        return\n",
    "    idx = list(range(times))\n",
    "    yield tuple(seq[i] for i in idx)\n",
    "    \n",
    "    def find_idx_i(idx, times, length):\n",
    "        for i in range(times-1, -1, -1):\n",
    "            if idx[i] != i + length - times:\n",
    "                return i\n",
    "        return None\n",
    "    \n",
    "    while True:\n",
    "        i = find_idx_i(idx, times, length)\n",
    "        if i is not None:\n",
    "            idx[i] += 1\n",
    "            for j in range(i+1, times):\n",
    "                idx[j] = idx[j-1]+1\n",
    "            yield tuple(seq[k] for k in idx)\n",
    "        else:\n",
    "            return\n",
    "print(list(my_combinations([1,2,3, 4], 3)))\n",
    "```\n",
    "\n",
    "Output:\n",
    "\n",
    "```\n",
    "[(1, 2, 3), (1, 2, 4), (1, 3, 4), (2, 3, 4)]\n",
    "```\n",
    "\n",
    "从输出结果来看，实现的功能正常。\n",
    "\n",
    "接下来使用notebook提供的魔术方法测试一下运行时间。\n",
    "\n",
    "```Python\n",
    "%timeit list(it.combinations([1,2,3,4], 3))\n",
    "%timeit list(my_combinations([1,2,3,4], 3))\n",
    "```\n",
    "\n",
    "Output:\n",
    "\n",
    "```\n",
    "576 ns ± 12.7 ns per loop (mean ± std. dev. of 7 runs, 1000000 loops each)\n",
    "7.52 µs ± 96.8 ns per loop (mean ± std. dev. of 7 runs, 100000 loops each)\n",
    "```\n",
    "\n",
    "从对比评测的数据来看，itertools提供的combinations()比自行实现的my_combinations()要快13倍左右。或许是我的实现方案有问题，大家也可以自己实现一个试试看。\n",
    "\n",
    "经过三个性能评测的对比，很明显地，itertools提供的接口比自己实现的要快很多，而且调用简单，代码易读。因此，学会itertools工具优化程序中的循环结构，大概可以拯救那些低效缓慢的Python程序。"
   ]
  },
  {
   "cell_type": "markdown",
   "metadata": {},
   "source": [
    "# 实验演示代码"
   ]
  },
  {
   "cell_type": "markdown",
   "metadata": {},
   "source": [
    "## 1. 无穷生成器"
   ]
  },
  {
   "cell_type": "code",
   "execution_count": 1,
   "metadata": {},
   "outputs": [
    {
     "name": "stdout",
     "output_type": "stream",
     "text": [
      "type(it_count)=<class 'itertools.count'>\n",
      "[12, 14.5, 17.0, 19.5, 22.0]\n"
     ]
    }
   ],
   "source": [
    "import itertools as it\n",
    "\n",
    "it_count = it.count(12, 2.5)\n",
    "print('type(it_count)={}'.format(type(it_count)))\n",
    "\n",
    "ret = []\n",
    "for i in it_count:\n",
    "    ret.append(i)\n",
    "    # 如果不加这一行就是死循环\n",
    "    if i > 20:\n",
    "        break\n",
    "print(ret)"
   ]
  },
  {
   "cell_type": "code",
   "execution_count": 2,
   "metadata": {},
   "outputs": [
    {
     "name": "stdout",
     "output_type": "stream",
     "text": [
      "type(it_cycle)=<class 'itertools.cycle'>\n",
      "[1, 2, 3, 4, 1, 2, 3, 4, 1, 2]\n"
     ]
    }
   ],
   "source": [
    "it_cycle = it.cycle([1,2,3,4])\n",
    "print('type(it_cycle)={}'.format(type(it_cycle)))\n",
    "\n",
    "ret = []\n",
    "for i in it_cycle:\n",
    "    ret.append(i)\n",
    "    if len(ret) >= 10:\n",
    "        break\n",
    "print(ret)"
   ]
  },
  {
   "cell_type": "code",
   "execution_count": 3,
   "metadata": {
    "scrolled": true
   },
   "outputs": [
    {
     "name": "stdout",
     "output_type": "stream",
     "text": [
      "type(it_repeat)=<class 'itertools.repeat'>\n",
      "[2, 2, 2, 2, 2, 2, 2, 2, 2, 2]\n"
     ]
    }
   ],
   "source": [
    "it_repeat = it.repeat(2)\n",
    "print('type(it_repeat)={}'.format(type(it_repeat)))\n",
    "\n",
    "ret = []\n",
    "for i in it_repeat:\n",
    "    ret.append(i)\n",
    "    if len(ret) >= 10:\n",
    "        break\n",
    "print(ret)"
   ]
  },
  {
   "cell_type": "code",
   "execution_count": 4,
   "metadata": {},
   "outputs": [],
   "source": [
    "def my_count(n, step):\n",
    "    \"\"\"使用python代码实现itertools.count的功能\n",
    "    \"\"\"\n",
    "    while True:\n",
    "        yield n\n",
    "        n += step\n",
    "        \n",
    "def test_count(it_count):\n",
    "    \"\"\"用于测试count生成器的性能\n",
    "    \"\"\"\n",
    "    for i in it_count: \n",
    "        if i > 20: \n",
    "            break"
   ]
  },
  {
   "cell_type": "code",
   "execution_count": 5,
   "metadata": {},
   "outputs": [
    {
     "name": "stdout",
     "output_type": "stream",
     "text": [
      "177 ns ± 2.3 ns per loop (mean ± std. dev. of 7 runs, 10000000 loops each)\n",
      "220 ns ± 2.57 ns per loop (mean ± std. dev. of 7 runs, 1000000 loops each)\n"
     ]
    }
   ],
   "source": [
    "# 测试itertools提供的函数    \n",
    "it_mycount = my_count(12, 2.5)\n",
    "%timeit test_count(it_count)\n",
    "it_count = it.count(12, 2.5)\n",
    "%timeit test_count(it_mycount)"
   ]
  },
  {
   "cell_type": "markdown",
   "metadata": {},
   "source": [
    "## 2. 有限迭代器"
   ]
  },
  {
   "cell_type": "code",
   "execution_count": 5,
   "metadata": {},
   "outputs": [
    {
     "name": "stdout",
     "output_type": "stream",
     "text": [
      "type(it_acc)=<class 'itertools.accumulate'>\n",
      "[0, 1, 3, 6, 10, 15, 21, 28, 36, 45]\n"
     ]
    }
   ],
   "source": [
    "a = list(range(10))\n",
    "\n",
    "it_acc = it.accumulate(a)\n",
    "print('type(it_acc)={}'.format(type(it_acc)))\n",
    "print(list(it_acc))"
   ]
  },
  {
   "cell_type": "code",
   "execution_count": 6,
   "metadata": {},
   "outputs": [
    {
     "name": "stdout",
     "output_type": "stream",
     "text": [
      "type(it_chain)=<class 'itertools.chain'>\n",
      "[1, 2, 3, 4, 5]\n"
     ]
    }
   ],
   "source": [
    "it_chain = it.chain([1,2,3], [4,5])\n",
    "print('type(it_chain)={}'.format(type(it_chain)))\n",
    "print(list(it_chain))"
   ]
  },
  {
   "cell_type": "code",
   "execution_count": 7,
   "metadata": {},
   "outputs": [
    {
     "name": "stdout",
     "output_type": "stream",
     "text": [
      "type(it_comp)=<class 'itertools.compress'>\n",
      "[2, 3]\n"
     ]
    }
   ],
   "source": [
    "it_comp = it.compress([1,2,3,4,5], [0,1,1,0,0])\n",
    "print('type(it_comp)={}'.format(type(it_comp)))\n",
    "print(list(it_comp))"
   ]
  },
  {
   "cell_type": "code",
   "execution_count": 8,
   "metadata": {},
   "outputs": [
    {
     "name": "stdout",
     "output_type": "stream",
     "text": [
      "type(it_dw)=<class 'itertools.dropwhile'>\n",
      "[3, 4, 5, 6]\n"
     ]
    }
   ],
   "source": [
    "it_dw = it.dropwhile(lambda x:x<3, [1,2,3,4,5,6])\n",
    "print('type(it_dw)={}'.format(type(it_dw)))\n",
    "print(list(it_dw))"
   ]
  },
  {
   "cell_type": "code",
   "execution_count": 9,
   "metadata": {},
   "outputs": [
    {
     "name": "stdout",
     "output_type": "stream",
     "text": [
      "type(it_ff)=<class 'itertools.filterfalse'>\n",
      "[3, 4, 5, 6]\n"
     ]
    }
   ],
   "source": [
    "it_ff = it.filterfalse(lambda x:x<3, [1,2,3,4,5,6])\n",
    "print('type(it_ff)={}'.format(type(it_ff)))\n",
    "print(list(it_ff))"
   ]
  },
  {
   "cell_type": "code",
   "execution_count": 12,
   "metadata": {},
   "outputs": [
    {
     "name": "stdout",
     "output_type": "stream",
     "text": [
      "type(it_gb)=<class 'itertools.groupby'>\n",
      "[1, 2, 3, 4, 5]\n",
      "[[1], [2, 2], [3, 3, 3], [4], [5, 5, 5]]\n"
     ]
    }
   ],
   "source": [
    "it_gb = it.groupby([1,2,2,3,3,3,4,5,5,5])\n",
    "print('type(it_gb)={}'.format(type(it_gb)))\n",
    "print([k for k,g in it_gb])\n",
    "it_gb = it.groupby([1,2,2,3,3,3,4,5,5,5])\n",
    "print([list(g) for k,g in it_gb])"
   ]
  },
  {
   "cell_type": "code",
   "execution_count": 15,
   "metadata": {},
   "outputs": [
    {
     "name": "stdout",
     "output_type": "stream",
     "text": [
      "type(it_is)=<class 'itertools.islice'>\n",
      "[2, 3]\n"
     ]
    }
   ],
   "source": [
    "# 传参顺序：sequence, start, end, step\n",
    "it_is = it.islice([1,2,3,4,5], 1, 3, 1)\n",
    "print('type(it_is)={}'.format(type(it_is)))\n",
    "print(list(it_is))"
   ]
  },
  {
   "cell_type": "code",
   "execution_count": 21,
   "metadata": {},
   "outputs": [
    {
     "name": "stdout",
     "output_type": "stream",
     "text": [
      "type(it_sm)=<class 'itertools.starmap'>\n",
      "[2, 12, 30]\n"
     ]
    }
   ],
   "source": [
    "it_sm = it.starmap(lambda x,y: x*y, [(1,2),(3,4),(5, 6)])\n",
    "print('type(it_sm)={}'.format(type(it_sm)))\n",
    "print(list(it_sm))"
   ]
  },
  {
   "cell_type": "code",
   "execution_count": 23,
   "metadata": {},
   "outputs": [
    {
     "name": "stdout",
     "output_type": "stream",
     "text": [
      "type(it_tw)=<class 'itertools.takewhile'>\n",
      "[1, 2]\n"
     ]
    }
   ],
   "source": [
    "it_tw = it.takewhile(lambda x: x<3, [1,2,3,4,5])\n",
    "print('type(it_tw)={}'.format(type(it_tw)))\n",
    "print(list(it_tw))"
   ]
  },
  {
   "cell_type": "code",
   "execution_count": 24,
   "metadata": {},
   "outputs": [
    {
     "name": "stdout",
     "output_type": "stream",
     "text": [
      "type(it_zl)=<class 'itertools.zip_longest'>\n",
      "[(1, 5), (2, 6), (3, 0), (4, 0)]\n"
     ]
    }
   ],
   "source": [
    "it_zl = it.zip_longest([1,2,3,4], [5,6], fillvalue=0)\n",
    "print('type(it_zl)={}'.format(type(it_zl)))\n",
    "print(list(it_zl))"
   ]
  },
  {
   "cell_type": "code",
   "execution_count": 36,
   "metadata": {},
   "outputs": [],
   "source": [
    "def my_zip_longest(seq_1, seq_2, fillvalue):\n",
    "    length = max(len(seq_1), len(seq_2))\n",
    "    for i in range(length):\n",
    "        first = seq_1[i] if i<len(seq_1) else fillvalue\n",
    "        second = seq_2[i] if i<len(seq_2) else fillvalue \n",
    "        yield first,second"
   ]
  },
  {
   "cell_type": "code",
   "execution_count": 34,
   "metadata": {},
   "outputs": [
    {
     "name": "stdout",
     "output_type": "stream",
     "text": [
      "968 ns ± 5.16 ns per loop (mean ± std. dev. of 7 runs, 1000000 loops each)\n",
      "3.58 µs ± 37.3 ns per loop (mean ± std. dev. of 7 runs, 100000 loops each)\n"
     ]
    }
   ],
   "source": [
    "%timeit list(it.zip_longest([1,2,3,4,5,6,7,8,9], [1,2,3,4,5], fillvalue=0))\n",
    "%timeit list(my_zip_longest([1,2,3,4,5,6,7,8,9], [1,2,3,4,5], fillvalue=0))"
   ]
  },
  {
   "cell_type": "markdown",
   "metadata": {},
   "source": [
    "## 3. 排列组合"
   ]
  },
  {
   "cell_type": "code",
   "execution_count": 25,
   "metadata": {},
   "outputs": [
    {
     "name": "stdout",
     "output_type": "stream",
     "text": [
      "type(it_prod)=<class 'itertools.product'>\n",
      "[(1, 4), (1, 5), (1, 6), (2, 4), (2, 5), (2, 6), (3, 4), (3, 5), (3, 6)]\n"
     ]
    }
   ],
   "source": [
    "it_prod = it.product([1,2,3], [4,5,6])\n",
    "print('type(it_prod)={}'.format(type(it_prod)))\n",
    "print(list(it_prod))"
   ]
  },
  {
   "cell_type": "code",
   "execution_count": 28,
   "metadata": {},
   "outputs": [
    {
     "name": "stdout",
     "output_type": "stream",
     "text": [
      "type(it_perm)=<class 'itertools.permutations'>\n",
      "[(1, 2), (1, 3), (2, 1), (2, 3), (3, 1), (3, 2)]\n"
     ]
    }
   ],
   "source": [
    "it_perm = it.permutations([1,2,3], 2)\n",
    "print('type(it_perm)={}'.format(type(it_perm)))\n",
    "print(list(it_perm))"
   ]
  },
  {
   "cell_type": "code",
   "execution_count": 29,
   "metadata": {},
   "outputs": [
    {
     "name": "stdout",
     "output_type": "stream",
     "text": [
      "type(it_comb)=<class 'itertools.combinations'>\n",
      "[(1, 2), (1, 3), (2, 3)]\n"
     ]
    }
   ],
   "source": [
    "it_comb = it.combinations([1,2,3], 2)\n",
    "print('type(it_comb)={}'.format(type(it_comb)))\n",
    "print(list(it_comb))"
   ]
  },
  {
   "cell_type": "code",
   "execution_count": 30,
   "metadata": {},
   "outputs": [
    {
     "name": "stdout",
     "output_type": "stream",
     "text": [
      "type(it_cwr)=<class 'itertools.combinations_with_replacement'>\n",
      "[(1, 1), (1, 2), (1, 3), (2, 2), (2, 3), (3, 3)]\n"
     ]
    }
   ],
   "source": [
    "it_cwr = it.combinations_with_replacement([1,2,3], 2)\n",
    "print('type(it_cwr)={}'.format(type(it_cwr)))\n",
    "print(list(it_cwr))"
   ]
  },
  {
   "cell_type": "code",
   "execution_count": 44,
   "metadata": {},
   "outputs": [
    {
     "name": "stdout",
     "output_type": "stream",
     "text": [
      "[(1, 2, 3), (1, 2, 4), (1, 3, 4), (2, 3, 4)]\n"
     ]
    }
   ],
   "source": [
    "def my_combinations(seq, times):\n",
    "    length = len(seq)\n",
    "    if length < times:\n",
    "        return\n",
    "    idx = list(range(times))\n",
    "    yield tuple(seq[i] for i in idx)\n",
    "    \n",
    "    def find_idx_i(idx, times, length):\n",
    "        for i in range(times-1, -1, -1):\n",
    "            if idx[i] != i + length - times:\n",
    "                return i\n",
    "        return None\n",
    "    \n",
    "    while True:\n",
    "        i = find_idx_i(idx, times, length)\n",
    "        if i is not None:\n",
    "            idx[i] += 1\n",
    "            for j in range(i+1, times):\n",
    "                idx[j] = idx[j-1]+1\n",
    "            yield tuple(seq[k] for k in idx)\n",
    "        else:\n",
    "            return\n",
    "print(list(my_combinations([1,2,3, 4], 3)))"
   ]
  },
  {
   "cell_type": "code",
   "execution_count": 45,
   "metadata": {},
   "outputs": [
    {
     "name": "stdout",
     "output_type": "stream",
     "text": [
      "576 ns ± 12.7 ns per loop (mean ± std. dev. of 7 runs, 1000000 loops each)\n",
      "7.52 µs ± 96.8 ns per loop (mean ± std. dev. of 7 runs, 100000 loops each)\n"
     ]
    }
   ],
   "source": [
    "%timeit list(it.combinations([1,2,3,4], 3))\n",
    "%timeit list(my_combinations([1,2,3,4], 3))"
   ]
  }
 ],
 "metadata": {
  "kernelspec": {
   "display_name": "Python 3",
   "language": "python",
   "name": "python3"
  },
  "language_info": {
   "codemirror_mode": {
    "name": "ipython",
    "version": 3
   },
   "file_extension": ".py",
   "mimetype": "text/x-python",
   "name": "python",
   "nbconvert_exporter": "python",
   "pygments_lexer": "ipython3",
   "version": "3.7.7"
  }
 },
 "nbformat": 4,
 "nbformat_minor": 2
}
