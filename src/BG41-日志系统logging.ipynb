{
 "cells": [
  {
   "cell_type": "markdown",
   "metadata": {},
   "source": [
    "# 闲话python 39: 日志系统logging\n",
    "\n",
    "在比较大型的项目中，没有日志系统简直是无法想象的。在出现不符合预期的问题之后，一般都是需要利用日志信息来定位问题点，毕竟不太可能逐行将项目代码查看。也就是说，掌握日志系统是构建大型系统的一种基础能力。在自己平时科研或者开发的小项目中，学会使用日志系统往往也能提高排错的效率。应该没有任何一个开发者会声称自己开发的程序完全没有bug，即使是一般科研项目中用到的小规模程序也是需要经常修复一些问题，或者由于一些简单错误而导致浪费大量时间。python提供了一个简单易用的日志系统，只需要稍加配置即可使用，即使不明白各其中理，比如四大组件、过滤器、消息传播等等，仍然可以很好地利用日志来提升自己的工作。事实上，我们也确实不需要对这个日志系统的原理深入剖析，在python中，我们只需要关注自己研究的问题，至于其他的模块只需会使用就行。本文就来讨论一下python中的logging模块，希望能够对想要构建日志系统的朋友有所帮助。"
   ]
  },
  {
   "cell_type": "markdown",
   "metadata": {},
   "source": [
    "## 1. 尝试日志\n",
    "\n",
    "我们先以最简单的方式调用一下logging模块中的接口尝试一下日志系统的运作。在python中，获取日志对象的接口称为Logger，它也是我们打印日志的基础对象。日志的打印途径的不同决定了需要使用不同的Handler，如果是打印到控制台就使用StreamHandler，如果是打印到文件就用FileHandler，当然也可以将日志循环依次在多个文件中打印以保证每个文件大小合适。以下演示说明了使用logging模块在控制台打印日志的方式。这种日志只是演示以下logging的基本用法，并不适合在实际系统中使用。"
   ]
  },
  {
   "cell_type": "code",
   "execution_count": 4,
   "metadata": {},
   "outputs": [
    {
     "name": "stderr",
     "output_type": "stream",
     "text": [
      "debug prompt\n",
      "info prompt\n",
      "warning prompt\n",
      "error prompt\n",
      "critical prompt\n"
     ]
    }
   ],
   "source": [
    "import logging\n",
    "# 创建日志接口对象\n",
    "logger = logging.getLogger('Test')\n",
    "logger.setLevel(logging.DEBUG)\n",
    "# 创建handler\n",
    "ch = logging.StreamHandler()\n",
    "ch.setLevel(logging.DEBUG)\n",
    "logger.addHandler(ch)\n",
    "# 打印日志\n",
    "logger.debug('debug prompt')\n",
    "logger.info('info prompt')\n",
    "logger.warning('warning prompt')\n",
    "logger.error('error prompt')\n",
    "logger.critical('critical prompt')"
   ]
  },
  {
   "cell_type": "markdown",
   "metadata": {},
   "source": [
    "## 2. 定制日志\n",
    "\n",
    "通常，我们需要定制日志打印的格式、日志打印位置以及不同日志级别的过滤。日志格式既Formatter使用一些关键字定义日志中需要打印的信息以及表现形式。本文摘录一些关键字的意义如下：\n",
    "\n",
    "|格式控制字|含义描述|\n",
    "|---|---|\n",
    "|%(filename)s|当前执行文件的名字|\n",
    "|%(lineno)d|当前执行的行号|\n",
    "|%(asctime)s|当前时间|\n",
    "|%(levelno)s|当前日志级别编号|\n",
    "|%(levelname)s|当前日志级别名字|\n",
    "\n",
    "还有更多的格式控制关键字可以使用，不过以上列出的基本够用。\n",
    "\n",
    "一般而言，我们在打印日志时希望有些日志打印到控制到，有些日志打印到文件，这是就可以添加两个Handler，并可以分别控制每个Handler的日志显示最低级别和格式。在以下演示中，两个Handler的最低级别和格式设置为相同的。由于本文编写时使用jupyter notebook环境，因此文件名与一般项目中显示地不太一样。"
   ]
  },
  {
   "cell_type": "code",
   "execution_count": 5,
   "metadata": {},
   "outputs": [
    {
     "name": "stderr",
     "output_type": "stream",
     "text": [
      "debug prompt\n",
      "2019-10-22 22:56:53,905 <ipython-input-5-e6a2c3f9a623>:19, 10: debug prompt\n",
      "info prompt\n",
      "2019-10-22 22:56:53,908 <ipython-input-5-e6a2c3f9a623>:20, 20: info prompt\n",
      "warning prompt\n",
      "2019-10-22 22:56:53,909 <ipython-input-5-e6a2c3f9a623>:21, 30: warning prompt\n",
      "error prompt\n",
      "2019-10-22 22:56:53,911 <ipython-input-5-e6a2c3f9a623>:22, 40: error prompt\n",
      "critical prompt\n",
      "2019-10-22 22:56:53,913 <ipython-input-5-e6a2c3f9a623>:23, 50: critical prompt\n"
     ]
    }
   ],
   "source": [
    "import logging\n",
    "# 创建日志接口对象\n",
    "logger = logging.getLogger('Test')\n",
    "logger.setLevel(logging.DEBUG)\n",
    "# 定制日志格式\n",
    "fmt = logging.Formatter('%(asctime)s %(filename)s:%(lineno)d, %(levelno)s: %(message)s')\n",
    "# 创建控制台handler\n",
    "ch = logging.StreamHandler()\n",
    "ch.setLevel(logging.DEBUG)\n",
    "ch.setFormatter(fmt)\n",
    "logger.addHandler(ch)\n",
    "# 创建文件handler\n",
    "fh = logging.FileHandler('../../output/py_test.log')\n",
    "fh.setLevel(logging.DEBUG)\n",
    "fh.setFormatter(fmt)\n",
    "logger.addHandler(fh)\n",
    "\n",
    "# 打印日志\n",
    "logger.debug('debug prompt')\n",
    "logger.info('info prompt')\n",
    "logger.warning('warning prompt')\n",
    "logger.error('error prompt')\n",
    "logger.critical('critical prompt')"
   ]
  },
  {
   "cell_type": "code",
   "execution_count": 6,
   "metadata": {},
   "outputs": [
    {
     "name": "stdout",
     "output_type": "stream",
     "text": [
      "2019-10-22 22:56:53,905 <ipython-input-5-e6a2c3f9a623>:19, 10: debug prompt\r\n",
      "2019-10-22 22:56:53,908 <ipython-input-5-e6a2c3f9a623>:20, 20: info prompt\r\n",
      "2019-10-22 22:56:53,909 <ipython-input-5-e6a2c3f9a623>:21, 30: warning prompt\r\n",
      "2019-10-22 22:56:53,911 <ipython-input-5-e6a2c3f9a623>:22, 40: error prompt\r\n",
      "2019-10-22 22:56:53,913 <ipython-input-5-e6a2c3f9a623>:23, 50: critical prompt\r\n"
     ]
    }
   ],
   "source": [
    "!cat ../../output/py_test.log"
   ]
  },
  {
   "cell_type": "markdown",
   "metadata": {},
   "source": [
    "## 3. 配置方式\n",
    "\n",
    "除了以上使用python代码直接配置logging模块之外，还可以使用文件配置和词典配置来定制化logging模块。以下给出了文件指定配置的基本格式，其主要配置项还是Logger、Formatter和Handler，还有FIlter过滤器的使用可以使控制更加精细，不过一般系统中并不需要那么精细。"
   ]
  },
  {
   "cell_type": "code",
   "execution_count": 7,
   "metadata": {},
   "outputs": [
    {
     "name": "stdout",
     "output_type": "stream",
     "text": [
      "[loggers]\r\n",
      "keys=root,Test\r\n",
      "\r\n",
      "[logger_root]\r\n",
      "level=DEBUG\r\n",
      "handlers=hand01, hand02\r\n",
      "\r\n",
      "[logger_Test]\r\n",
      "handlers=hand01, hand02\r\n",
      "level=DEBUG\r\n",
      "qualname=Test\r\n",
      "propagate=0\r\n",
      "\r\n",
      "[handlers]\r\n",
      "keys=hand01, hand02\r\n",
      "\r\n",
      "[handler_hand01]\r\n",
      "class=StreamHandler\r\n",
      "level=DEBUG\r\n",
      "formatter=form01\r\n",
      "args=(sys.stderr,)\r\n",
      "\r\n",
      "[handler_hand02]\r\n",
      "class = FileHandler\r\n",
      "level=DEBUG\r\n",
      "formatter=form01\r\n",
      "args=('../../output/py_file.log', 'a')\r\n",
      "\r\n",
      "[formatters]\r\n",
      "keys=form01\r\n",
      "\r\n",
      "[formatter_form01]\r\n",
      "format=%(asctime)s-%(filename)s:%(lineno)d, %(levelno)s: %(message)s\r\n"
     ]
    }
   ],
   "source": [
    "!cat ../../data/test_log.conf"
   ]
  },
  {
   "cell_type": "markdown",
   "metadata": {},
   "source": [
    "配置logging的文件编写完成之后，可以在python程序中使用logging.config.fileConfig函数来进行载入，之后就跟普通使用日志没差别了。"
   ]
  },
  {
   "cell_type": "code",
   "execution_count": 5,
   "metadata": {},
   "outputs": [
    {
     "name": "stderr",
     "output_type": "stream",
     "text": [
      "2019-10-22 23:38:07,876-<ipython-input-5-e7036f305f53>:5, 10: debug prompt\n",
      "2019-10-22 23:38:07,877-<ipython-input-5-e7036f305f53>:6, 20: info prompt\n",
      "2019-10-22 23:38:07,878-<ipython-input-5-e7036f305f53>:7, 30: warning prompt\n",
      "2019-10-22 23:38:07,879-<ipython-input-5-e7036f305f53>:8, 40: error prompt\n",
      "2019-10-22 23:38:07,881-<ipython-input-5-e7036f305f53>:9, 50: critical prompt\n"
     ]
    }
   ],
   "source": [
    "import logging\n",
    "import logging.config\n",
    "logging.config.fileConfig('../../data/test_log.conf')\n",
    "logger = logging.getLogger('Test')\n",
    "logger.debug('debug prompt')\n",
    "logger.info('info prompt')\n",
    "logger.warning('warning prompt')\n",
    "logger.error('error prompt')\n",
    "logger.critical('critical prompt')"
   ]
  },
  {
   "cell_type": "markdown",
   "metadata": {},
   "source": [
    "将打印到文件中的日志展示出来如下："
   ]
  },
  {
   "cell_type": "code",
   "execution_count": 6,
   "metadata": {},
   "outputs": [
    {
     "name": "stdout",
     "output_type": "stream",
     "text": [
      "2019-10-22 23:38:07,876-<ipython-input-5-e7036f305f53>:5, 10: debug prompt\r\n",
      "2019-10-22 23:38:07,877-<ipython-input-5-e7036f305f53>:6, 20: info prompt\r\n",
      "2019-10-22 23:38:07,878-<ipython-input-5-e7036f305f53>:7, 30: warning prompt\r\n",
      "2019-10-22 23:38:07,879-<ipython-input-5-e7036f305f53>:8, 40: error prompt\r\n",
      "2019-10-22 23:38:07,881-<ipython-input-5-e7036f305f53>:9, 50: critical prompt\r\n"
     ]
    }
   ],
   "source": [
    "!cat ../../output/py_file.log"
   ]
  },
  {
   "cell_type": "markdown",
   "metadata": {},
   "source": [
    "除此之外，还可以使用词典的方式来配置logging模块。基本的配置项与文件配置和python代码配置是一致的，格式在以下演示中展示。"
   ]
  },
  {
   "cell_type": "code",
   "execution_count": 1,
   "metadata": {},
   "outputs": [
    {
     "name": "stderr",
     "output_type": "stream",
     "text": [
      "2019-10-22 23:36:20,374:<ipython-input-1-730663d2f95e>:39, 10: debug prompt\n",
      "2019-10-22 23:36:20,375:<ipython-input-1-730663d2f95e>:40, 20: info prompt\n",
      "2019-10-22 23:36:20,376:<ipython-input-1-730663d2f95e>:41, 30: warning prompt\n",
      "2019-10-22 23:36:20,377:<ipython-input-1-730663d2f95e>:42, 40: error prompt\n",
      "2019-10-22 23:36:20,378:<ipython-input-1-730663d2f95e>:43, 50: critical prompt\n"
     ]
    }
   ],
   "source": [
    "import logging\n",
    "import logging.config\n",
    "\n",
    "log_dict = {\n",
    "    'version':1,\n",
    "    'disable_existing_loggers': False,\n",
    "    'formatters':{\n",
    "        'form01':{\n",
    "            'format':'%(asctime)s:%(filename)s:%(lineno)d, %(levelno)s: %(message)s'\n",
    "        }\n",
    "    },\n",
    "    'handlers':{\n",
    "        'ch':{\n",
    "            'class':'logging.StreamHandler',\n",
    "            'level':'DEBUG',\n",
    "            'formatter':'form01',\n",
    "            'stream':'ext://sys.stderr'\n",
    "        },\n",
    "        'fh':{\n",
    "            'class':'logging.FileHandler',\n",
    "            'level':'DEBUG',\n",
    "            'formatter':'form01',\n",
    "            'filename':'../../output/py_dict.log',\n",
    "            'mode':'w+'\n",
    "        }\n",
    "    },\n",
    "    'Test':{\n",
    "        'handlers':['ch', 'fh'],\n",
    "        'level':'DEBUG',\n",
    "        'propagate':False\n",
    "    },\n",
    "    'root':{\n",
    "        'handlers':['ch', 'fh'],\n",
    "        'level':'DEBUG',\n",
    "    }\n",
    "}\n",
    "logging.config.dictConfig(log_dict)\n",
    "logger = logging.getLogger('Test')\n",
    "logger.debug('debug prompt')\n",
    "logger.info('info prompt')\n",
    "logger.warning('warning prompt')\n",
    "logger.error('error prompt')\n",
    "logger.critical('critical prompt')"
   ]
  },
  {
   "cell_type": "code",
   "execution_count": 2,
   "metadata": {},
   "outputs": [
    {
     "name": "stdout",
     "output_type": "stream",
     "text": [
      "2019-10-22 23:36:20,374:<ipython-input-1-730663d2f95e>:39, 10: debug prompt\r\n",
      "2019-10-22 23:36:20,375:<ipython-input-1-730663d2f95e>:40, 20: info prompt\r\n",
      "2019-10-22 23:36:20,376:<ipython-input-1-730663d2f95e>:41, 30: warning prompt\r\n",
      "2019-10-22 23:36:20,377:<ipython-input-1-730663d2f95e>:42, 40: error prompt\r\n",
      "2019-10-22 23:36:20,378:<ipython-input-1-730663d2f95e>:43, 50: critical prompt\r\n"
     ]
    }
   ],
   "source": [
    "!cat ../../output/py_dict.log"
   ]
  },
  {
   "cell_type": "markdown",
   "metadata": {},
   "source": [
    "到此，关于python中的日志系统就讨论完毕，全文没有关于logging机制的深入探讨，只是说明了在python中使用日志和配置日志的基本方式。阅读本文的朋友应该就已经具备了在自己的系统中使用日志系统的能力。本文的notebook版文件在github上的cnbluegeek仓库中共享，欢迎感兴趣的朋友前往下载。"
   ]
  }
 ],
 "metadata": {
  "kernelspec": {
   "display_name": "Python 3",
   "language": "python",
   "name": "python3"
  },
  "language_info": {
   "codemirror_mode": {
    "name": "ipython",
    "version": 3
   },
   "file_extension": ".py",
   "mimetype": "text/x-python",
   "name": "python",
   "nbconvert_exporter": "python",
   "pygments_lexer": "ipython3",
   "version": "3.7.5"
  }
 },
 "nbformat": 4,
 "nbformat_minor": 2
}
