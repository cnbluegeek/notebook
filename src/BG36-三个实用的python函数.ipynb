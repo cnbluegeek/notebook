{
 "cells": [
  {
   "cell_type": "markdown",
   "metadata": {},
   "source": [
    "# <center>三个实用的函数</center>"
   ]
  },
  {
   "cell_type": "markdown",
   "metadata": {},
   "source": [
    "By [青衣极客 Blue Geek](https://mp.weixin.qq.com/s/opTFNRznp_pq9157Ukmdsg)\n",
    "\n",
    "In 2019-10-22"
   ]
  },
  {
   "cell_type": "markdown",
   "metadata": {},
   "source": [
    "在使用python开发时常常有对序列中所有元素施加某种操作的需求，当然可以使用循环遍历来进行处理，只是有没有更简单的办法呢？本文就讨论python中的三个实用的函数，让大家在处理序列数据的时候多一种选择，而且是更好的选择，即map(), filter()和zip()。"
   ]
  },
  {
   "cell_type": "markdown",
   "metadata": {},
   "source": [
    "## 1. map\n",
    "\n",
    "在使用hadoop集群的时候，常常需要将输出转换为字符串的形式并指定连接符，对于一个列表数据，一般写法是使用循环将每个元素转换成str类型，然后使用join函数连接。当然，更低效率的方式是在循环中不断拼接。这时，如果使用map操作就会简单很多。map直接中str的构造函数作用在列表的每个元素上。不过需要注意的是在python3中map函数返回的结果是一个迭代对象，join函数可以接收迭代对象，这种操作就顺畅很多。"
   ]
  },
  {
   "cell_type": "code",
   "execution_count": 4,
   "metadata": {},
   "outputs": [
    {
     "name": "stdout",
     "output_type": "stream",
     "text": [
      "11-48-59-7-48-95-54-4-56-52\n",
      "11-48-59-7-48-95-54-4-56-52\n"
     ]
    }
   ],
   "source": [
    "import random\n",
    "a = [random.randint(0, 100) for i in range(10)]\n",
    "# 一般做法\n",
    "b = []\n",
    "for x in a:\n",
    "    b.append(str(x))\n",
    "print('-'.join(b))\n",
    "\n",
    "# 使用map\n",
    "print('-'.join(map(str, a)))"
   ]
  },
  {
   "cell_type": "markdown",
   "metadata": {},
   "source": [
    "## 2. filter\n",
    "\n",
    "对于一个序列的数据，常常需要将满足某种条件的元素挑出来重新组成序列。这种需求的直观实现方式还是使用循环加分支判断，然后将符合条件的拼接到一个新的列表中。这时，如果使用filter函数，就会简单很多。在filter函数的第一个参数传入一个函数，当然也可以是lambda表达式，用于设定筛选的条件。还是需要注意，在python3中filter的返回结果也是一个迭代对象，可以使用list的构造函数将结果转换为列表。"
   ]
  },
  {
   "cell_type": "code",
   "execution_count": 17,
   "metadata": {},
   "outputs": [
    {
     "name": "stdout",
     "output_type": "stream",
     "text": [
      "[11, 48, 7, 48, 4]\n",
      "[11, 48, 7, 48, 4]\n"
     ]
    }
   ],
   "source": [
    "# 一般做法\n",
    "b = []\n",
    "for x in a:\n",
    "    if x < 50:\n",
    "        b.append(x)\n",
    "print(b)\n",
    "\n",
    "# 使用filter\n",
    "print(list(filter(lambda x: x<50, a)))"
   ]
  },
  {
   "cell_type": "markdown",
   "metadata": {},
   "source": [
    "map和filter的好处不仅仅在于使代码和逻辑更简单，在处理数据量很大的序列时，也是更好的选择。因为map和filter都是返回迭代对象而不是将数据全都处理完成并存储，因此对于处理大数据时有内存压力的情况而言使用map和filter比使用循环遍历再拼接的方式更好。"
   ]
  },
  {
   "cell_type": "markdown",
   "metadata": {},
   "source": [
    "## 3. zip\n",
    "\n",
    "对于若干个等长的具有某种关联的序列数据，我们常常需要将这些数据联合起来进行遍历。通常做法是使用其中一个进行遍历并获取索引，然后使用索引或许其他需要关联的数据。对于新手而言，这样做是无可厚非的，而对于专业人士，这样显然是不妥。zip函数为这种情况提供了解决方案。"
   ]
  },
  {
   "cell_type": "code",
   "execution_count": 28,
   "metadata": {},
   "outputs": [
    {
     "name": "stdout",
     "output_type": "stream",
     "text": [
      "(88,0,49) (81,29,76) (29,6,71) (99,0,22) (95,54,11) \n",
      "(88,0,49) (81,29,76) (29,6,71) (99,0,22) (95,54,11) "
     ]
    }
   ],
   "source": [
    "x = [random.randint(0, 100) for i in range(5)]\n",
    "y = [random.randint(0, 100) for i in range(5)]\n",
    "z = [random.randint(0, 100) for i in range(5)]\n",
    "\n",
    "# 通常用法\n",
    "for idx, i in enumerate(x):\n",
    "    j = y[idx]\n",
    "    k = z[idx]\n",
    "    print(\"({},{},{})\".format(i, j, k), end=' ')\n",
    "print()\n",
    "# 使用zip\n",
    "for i, j, k in zip(x, y, z):\n",
    "    print(\"({},{},{})\".format(i, j, k), end=' ')\n",
    "    "
   ]
  },
  {
   "cell_type": "markdown",
   "metadata": {},
   "source": [
    "上文讨论了python中的三个简单实用的函数，对于希望以更简洁的方式使用python的朋友而言应该是很不错的。而对于不清楚python提供了这几个操作的朋友而言，很自然就会使用那种最一般的写法，虽然也不是什么错误，但终结并不pythonic。本文编写时参考的英文网页链接：https://towardsdatascience.com/3-advanced-python-functions-for-data-scientists-f869016da63a 。 "
   ]
  }
 ],
 "metadata": {
  "kernelspec": {
   "display_name": "Python 3",
   "language": "python",
   "name": "python3"
  },
  "language_info": {
   "codemirror_mode": {
    "name": "ipython",
    "version": 3
   },
   "file_extension": ".py",
   "mimetype": "text/x-python",
   "name": "python",
   "nbconvert_exporter": "python",
   "pygments_lexer": "ipython3",
   "version": "3.7.7"
  }
 },
 "nbformat": 4,
 "nbformat_minor": 2
}
