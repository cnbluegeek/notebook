{
 "cells": [
  {
   "cell_type": "markdown",
   "metadata": {},
   "source": [
    "# python中神奇的切片"
   ]
  },
  {
   "cell_type": "code",
   "execution_count": 2,
   "metadata": {},
   "outputs": [],
   "source": [
    "import os\n",
    "import numpy as np"
   ]
  },
  {
   "cell_type": "markdown",
   "metadata": {},
   "source": [
    "## 1. 什么是切片？\n",
    "\n",
    "切片就是从一个元素序列中获取子集。\n",
    "\n",
    "如果一种编程语言没有提供特殊的切片操作，\n",
    "这需要自己编写程序完成这种操作。\n",
    "\n",
    "下面先来见识一下python中的切片操作。"
   ]
  },
  {
   "cell_type": "code",
   "execution_count": 8,
   "metadata": {},
   "outputs": [
    {
     "name": "stdout",
     "output_type": "stream",
     "text": [
      "a_list = [0, 1, 2, 3, 4, 5, 6, 7, 8, 9]\n",
      "b_list = [4, 5, 6, 7]\n",
      "c_list =  [0, 2, 4, 6, 8]\n",
      "da_list =  [4, 5, 6, 7]\n",
      "db_list =  [0, 2, 4, 6, 8]\n"
     ]
    }
   ],
   "source": [
    "a_list = list(range(10))\n",
    "print('a_list =', a_list)\n",
    "\n",
    "# 获取a_list中第5到第8个元素\n",
    "b_list = [x for idx, x in enumerate(a_list) if idx >= 4 and idx <= 7]\n",
    "print('b_list =', b_list)\n",
    "\n",
    "# 获取a_list中索引为偶数的元素\n",
    "c_list = [x for idx, x in enumerate(a_list) if idx % 2 == 0]\n",
    "print('c_list = ', c_list)\n",
    "\n",
    "# 使用python中的切片操作\n",
    "da_list = a_list[4:8]\n",
    "db_list = a_list[::2]\n",
    "print('da_list = ', da_list)\n",
    "print('db_list = ', db_list)"
   ]
  },
  {
   "cell_type": "markdown",
   "metadata": {},
   "source": [
    "## 2. 怎样设置切片的参数？\n",
    "\n",
    "切片确实比自己手动用循环和分支结构编写程序要方便很多，而且代码简洁。\n",
    "\n",
    "接下来就需要了解切片的参数以便灵活运用切片了。"
   ]
  },
  {
   "cell_type": "code",
   "execution_count": 26,
   "metadata": {},
   "outputs": [
    {
     "name": "stdout",
     "output_type": "stream",
     "text": [
      "a_list = [0, 1, 2, 3, 4, 5, 6, 7, 8, 9]\n",
      "b_list =  [3, 5]\n",
      "c_list =  [0, 2, 4, 6]\n",
      "d_list =  [3, 5, 7, 9]\n",
      "e_list =  [3, 4, 5, 6]\n",
      "f_list =  [0, 1, 2, 3, 4, 5, 6, 7, 8, 9]\n"
     ]
    }
   ],
   "source": [
    "# 切片参数  start_index : end_index : step，\n",
    "# 前闭后开，包含start_index, 不包含end_index\n",
    "a_list = list(range(10))\n",
    "print('a_list =', a_list)\n",
    "# 获取索引3到索引7之间(前闭后开)索引为奇数的元素\n",
    "b_list = a_list[3:7:2]\n",
    "print('b_list = ', b_list)\n",
    "\n",
    "# 省略start_index，则该参数默认为0\n",
    "c_list = a_list[:7:2]\n",
    "print('c_list = ', c_list)\n",
    "\n",
    "# 省略end_index，则该参数默认包含序列最后一个元素\n",
    "d_list = a_list[3::2]\n",
    "print('d_list = ', d_list)\n",
    "\n",
    "# 省略step，则该参数默认为 1\n",
    "e_list = a_list[3:7]\n",
    "print('e_list = ', e_list)\n",
    "\n",
    "# 全都省略，则表示取所有元素\n",
    "f_list = a_list[:]\n",
    "print('f_list = ', f_list)"
   ]
  },
  {
   "cell_type": "markdown",
   "metadata": {},
   "source": [
    "## 3. 神奇的效果"
   ]
  },
  {
   "cell_type": "code",
   "execution_count": 20,
   "metadata": {},
   "outputs": [
    {
     "name": "stdout",
     "output_type": "stream",
     "text": [
      "a_list = [0, 1, 2, 3, 4, 5, 6, 7, 8, 9]\n",
      "b_list =  [6, 7, 8]\n",
      "c_list =  [9, 8, 7, 6, 5, 4, 3, 2, 1, 0]\n",
      "d_list =  [7, 6, 5, 4, 3]\n",
      "e_list =  [9, 8, 7]\n"
     ]
    }
   ],
   "source": [
    "a_list = list(range(10))\n",
    "print('a_list =', a_list)\n",
    "\n",
    "# 取倒数第4个到倒数第1个元素\n",
    "b_list = a_list[-4:-1]\n",
    "print('b_list = ', b_list)\n",
    "\n",
    "# 取序列元素的倒序\n",
    "c_list = a_list[::-1]\n",
    "print('c_list = ', c_list)\n",
    "\n",
    "# 取索引为7到索引为2的元素\n",
    "d_list = a_list[7:2:-1]\n",
    "print('d_list = ', d_list)\n",
    "\n",
    "# 取倒数第1个到倒数第4个元素\n",
    "e_list = a_list[-1:-4:-1]\n",
    "print('e_list = ', e_list)"
   ]
  },
  {
   "cell_type": "markdown",
   "metadata": {},
   "source": [
    "## 4. numpy中的切片"
   ]
  },
  {
   "cell_type": "code",
   "execution_count": 3,
   "metadata": {},
   "outputs": [
    {
     "name": "stdout",
     "output_type": "stream",
     "text": [
      "arr = [[ 0  1  2  3  4]\n",
      " [ 5  6  7  8  9]\n",
      " [10 11 12 13 14]\n",
      " [15 16 17 18 19]\n",
      " [20 21 22 23 24]]\n",
      "b_arr =  [[10 11 12 13 14]\n",
      " [15 16 17 18 19]\n",
      " [20 21 22 23 24]]\n",
      "c_arr =  [[ 2  3  4]\n",
      " [ 7  8  9]\n",
      " [12 13 14]\n",
      " [17 18 19]\n",
      " [22 23 24]]\n",
      "d_arr =  [[ 4  3]\n",
      " [14 13]]\n",
      "e_arr =  [[0 1 2 3 4]\n",
      " [5 6 7 8 9]]\n"
     ]
    }
   ],
   "source": [
    "arr = np.array(range(25))\n",
    "arr = np.reshape(arr, (5,5))\n",
    "print('arr =', arr)\n",
    "\n",
    "# 取第2到第4行\n",
    "b_arr = arr[2:5, :]\n",
    "print('b_arr = ', b_arr)\n",
    "\n",
    "# 取第2到第4列\n",
    "c_arr = arr[:, 2:5]\n",
    "print('c_arr = ', c_arr)\n",
    "\n",
    "# 二维切片, 第一个是行切片，第二个是列切片\n",
    "d_arr = arr[0:4:2, -1:-3:-1]\n",
    "print('d_arr = ', d_arr)\n",
    "\n",
    "# 省略号\n",
    "e_arr = arr[0:2, ...]\n",
    "print('e_arr = ', e_arr)"
   ]
  }
 ],
 "metadata": {
  "kernelspec": {
   "display_name": "Python 3",
   "language": "python",
   "name": "python3"
  },
  "language_info": {
   "codemirror_mode": {
    "name": "ipython",
    "version": 3
   },
   "file_extension": ".py",
   "mimetype": "text/x-python",
   "name": "python",
   "nbconvert_exporter": "python",
   "pygments_lexer": "ipython3",
   "version": "3.7.5"
  }
 },
 "nbformat": 4,
 "nbformat_minor": 2
}
