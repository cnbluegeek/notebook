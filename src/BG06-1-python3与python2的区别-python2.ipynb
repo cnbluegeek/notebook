{
 "cells": [
  {
   "cell_type": "markdown",
   "metadata": {},
   "source": [
    "# python3与python2的区别-python2部分"
   ]
  },
  {
   "cell_type": "code",
   "execution_count": 2,
   "metadata": {},
   "outputs": [
    {
     "name": "stdout",
     "output_type": "stream",
     "text": [
      "2.7.16\n"
     ]
    }
   ],
   "source": [
    "# 查看python版本号\n",
    "import platform\n",
    "print(platform.python_version())"
   ]
  },
  {
   "cell_type": "markdown",
   "metadata": {},
   "source": [
    "## 1. print/exec"
   ]
  },
  {
   "cell_type": "code",
   "execution_count": 10,
   "metadata": {},
   "outputs": [
    {
     "name": "stdout",
     "output_type": "stream",
     "text": [
      "Hello, World!\n",
      "Hello, World!\n"
     ]
    }
   ],
   "source": [
    "print 'Hello, World!'\n",
    "exec 'print(\"Hello, World!\")'"
   ]
  },
  {
   "cell_type": "markdown",
   "metadata": {},
   "source": [
    "## 2. 编码"
   ]
  },
  {
   "cell_type": "code",
   "execution_count": 7,
   "metadata": {},
   "outputs": [
    {
     "name": "stdout",
     "output_type": "stream",
     "text": [
      "ascii\n"
     ]
    }
   ],
   "source": [
    "import sys\n",
    "print(sys.getdefaultencoding())\n"
   ]
  },
  {
   "cell_type": "markdown",
   "metadata": {},
   "source": [
    "## 3. 除法"
   ]
  },
  {
   "cell_type": "code",
   "execution_count": 8,
   "metadata": {},
   "outputs": [
    {
     "name": "stdout",
     "output_type": "stream",
     "text": [
      "0\n",
      "0.5\n"
     ]
    }
   ],
   "source": [
    "print 1/2\n",
    "print 1.0/2"
   ]
  },
  {
   "cell_type": "markdown",
   "metadata": {},
   "source": [
    "## 4. 删掉的语法"
   ]
  },
  {
   "cell_type": "code",
   "execution_count": 18,
   "metadata": {
    "scrolled": true
   },
   "outputs": [
    {
     "name": "stdout",
     "output_type": "stream",
     "text": [
      "-1 0 1\n",
      "True\n",
      "xrange(3)\n",
      "a=<__main__.A instance at 0x1082c06c8>, b=<__main__.B object at 0x1082bdc90>\n",
      "a.__class__=__main__.A, b.__class__=<class '__main__.B'>\n",
      "type(a)=<type 'instance'>, type(b)=<class '__main__.B'>\n"
     ]
    }
   ],
   "source": [
    "# cmp\n",
    "print cmp(1,2), cmp(1, 1), cmp(2,1)\n",
    "# <> 不等号\n",
    "print 1<>2\n",
    "# xrange\n",
    "print xrange(3)\n",
    "# 经典类与新式类\n",
    "class A:\n",
    "    pass\n",
    "class B(object):\n",
    "    pass\n",
    "a, b = A(), B()\n",
    "print('a={}, b={}'.format(a, b))\n",
    "print('a.__class__={}, b.__class__={}'.format(a.__class__, b.__class__))\n",
    "print('type(a)={}, type(b)={}'.format(type(a), type(b)))\n"
   ]
  },
  {
   "cell_type": "markdown",
   "metadata": {},
   "source": [
    "## 5. 抛出和捕获异常"
   ]
  },
  {
   "cell_type": "code",
   "execution_count": 19,
   "metadata": {},
   "outputs": [
    {
     "name": "stdout",
     "output_type": "stream",
     "text": [
      "Not Allow\n"
     ]
    }
   ],
   "source": [
    "A = 'Not Allow'\n",
    "try:\n",
    "    if 'Not Allow' == A:\n",
    "        raise ValueError, A\n",
    "except ValueError, e:\n",
    "    print(e)\n",
    "    "
   ]
  },
  {
   "cell_type": "markdown",
   "metadata": {},
   "source": [
    "## 6. int与long"
   ]
  },
  {
   "cell_type": "code",
   "execution_count": null,
   "metadata": {},
   "outputs": [],
   "source": [
    "print(type(int(1)))\n",
    "print(int(12345678901234567890))\n",
    "print(type(long(1)))"
   ]
  },
  {
   "cell_type": "markdown",
   "metadata": {},
   "source": [
    "## 7. True与False"
   ]
  },
  {
   "cell_type": "code",
   "execution_count": 22,
   "metadata": {},
   "outputs": [
    {
     "name": "stdout",
     "output_type": "stream",
     "text": [
      "123\n"
     ]
    }
   ],
   "source": [
    "True = '123'\n",
    "print(True)"
   ]
  },
  {
   "cell_type": "markdown",
   "metadata": {},
   "source": [
    "## 8. 迭代对象\n"
   ]
  },
  {
   "cell_type": "code",
   "execution_count": 26,
   "metadata": {},
   "outputs": [
    {
     "name": "stdout",
     "output_type": "stream",
     "text": [
      "[1, 4, 9, 16, 25]\n",
      "[3, 4, 5]\n",
      "[(1, 'hello'), (2, 'python')]\n",
      "[1, 2]\n",
      "['hello', 'python']\n"
     ]
    }
   ],
   "source": [
    "b = [1,2,3,4,5]\n",
    "# map函数返回迭代对象\n",
    "it_map = map(lambda x:x**2, b)\n",
    "print(it_map)\n",
    "# filter函数返回迭代对象\n",
    "it_filter = filter(lambda x:x>2, b)\n",
    "print(it_filter)\n",
    "# 词典函数返回迭代对象\n",
    "a = {1:'hello', 2:'python'}\n",
    "print(a.items())\n",
    "print(a.keys())\n",
    "print(a.values())\n"
   ]
  },
  {
   "cell_type": "markdown",
   "metadata": {},
   "source": [
    "## 9. 新增关键字\n",
    "nonlocal、yield from、async/await、yield for"
   ]
  },
  {
   "cell_type": "code",
   "execution_count": 32,
   "metadata": {},
   "outputs": [
    {
     "name": "stdout",
     "output_type": "stream",
     "text": [
      "('local a = ', 1)\n",
      "('global, a = ', 2)\n"
     ]
    }
   ],
   "source": [
    "a = 12\n",
    "def func():\n",
    "    a = 1\n",
    "    def func_in():\n",
    "        global a;  # global关键字只能用于对全局空间中的声明\n",
    "        a = 2\n",
    "    func_in()\n",
    "    print('local a = ', a)\n",
    "func()\n",
    "print('global, a = ', a)"
   ]
  },
  {
   "cell_type": "markdown",
   "metadata": {},
   "source": [
    "## 10.  input与raw_input()"
   ]
  },
  {
   "cell_type": "code",
   "execution_count": 33,
   "metadata": {},
   "outputs": [
    {
     "name": "stdout",
     "output_type": "stream",
     "text": [
      "123\n",
      "type(a)=<type 'int'>, a=123\n",
      "123\n",
      "type(a)=<type 'str'>, a=123\n"
     ]
    }
   ],
   "source": [
    "a = input()\n",
    "print('type(a)={}, a={}'.format(type(a), a))\n",
    "a = raw_input()\n",
    "print('type(a)={}, a={}'.format(type(a), a))"
   ]
  }
 ],
 "metadata": {
  "kernelspec": {
   "display_name": "Python 2",
   "language": "python",
   "name": "python2"
  },
  "language_info": {
   "codemirror_mode": {
    "name": "ipython",
    "version": 2
   },
   "file_extension": ".py",
   "mimetype": "text/x-python",
   "name": "python",
   "nbconvert_exporter": "python",
   "pygments_lexer": "ipython2",
   "version": "2.7.16"
  }
 },
 "nbformat": 4,
 "nbformat_minor": 2
}
