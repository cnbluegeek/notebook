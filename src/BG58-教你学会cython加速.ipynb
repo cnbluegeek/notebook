{
 "cells": [
  {
   "cell_type": "markdown",
   "metadata": {},
   "source": [
    "# <center>教你学会cython加速</center>"
   ]
  },
  {
   "cell_type": "markdown",
   "metadata": {},
   "source": [
    "By [青衣极客 Blue Geek](https://mp.weixin.qq.com/s/c6nXus7qK5AUfJ_-s-YxYQ)\n",
    "\n",
    "In 2020-01-04"
   ]
  },
  {
   "cell_type": "markdown",
   "metadata": {},
   "source": [
    "阅读一些开源代码时，常常碰到cython这个第三方模块，特别是在图像处理、计算机视觉以及深度学习的项目中。究其原因，还是python的老问题，运行速度太慢。这么说cython就是加速python的了？确实如此，看这个模块的命名大概就能猜到其功能是C语言与python结合相关的。关于利用cython加速你的python程序将在下文揭晓。"
   ]
  },
  {
   "cell_type": "markdown",
   "metadata": {},
   "source": [
    "## 1. 使用cython的动机\n",
    "\n",
    "为什么要使用cython？这是个自然而然的问题。我们知道，python的语法集合已经基本足够实现各种功能，但对于运行速度慢这个问题实在是无能为力。那么究竟慢到什么程度呢？在演示例子之前先导入所需的模块，并设置对应的环境变量。其中“code/cython”是cython代码存放的路径。使用numpy生成一个大数组用于测试。"
   ]
  },
  {
   "cell_type": "code",
   "execution_count": 1,
   "metadata": {},
   "outputs": [],
   "source": [
    "import sys\n",
    "sys.path.append('code/cython/')\n",
    "import numpy as np\n",
    "from math import sqrt\n",
    "\n",
    "X = np.random.rand(1920, 1920)"
   ]
  },
  {
   "cell_type": "markdown",
   "metadata": {},
   "source": [
    "准备条件已经就绪，我们先来说一说演示的思路。熟悉python的朋友大概知道，python运行效率低的原因大概在两点：1. 数据结构臃肿；2. 循环运行慢。这里选择对一个矩阵中的每个元素进行平方根的计算，既包括数据结构，也包括较大的循环，能够说明一般python 程序的特点。示例函数编写完成后，通过notebook的magic工具timeit实现对函数运行耗时的测试。"
   ]
  },
  {
   "cell_type": "code",
   "execution_count": 2,
   "metadata": {},
   "outputs": [
    {
     "name": "stdout",
     "output_type": "stream",
     "text": [
      "1.23 s ± 47.4 ms per loop (mean ± std. dev. of 7 runs, 1 loop each)\n"
     ]
    }
   ],
   "source": [
    "def psqrt(X):\n",
    "    Y = np.zeros(X.shape)\n",
    "    for i in range(X.shape[0]):\n",
    "        for j in range(X.shape[1]):\n",
    "            Y[i, j] = sqrt(X[i, j])\n",
    "    return Y\n",
    "\n",
    "%timeit psqrt(X)"
   ]
  },
  {
   "cell_type": "markdown",
   "metadata": {},
   "source": [
    "从测试结果来看，处理一次1920x1920的矩阵居然耗时达到1秒多。通常我们可能需要处理上万个这种数据，那么所耗时间将很难容忍。遇到这种情况，那就需要寻找加速的办法了。首先，我们当然可以使用C扩展的方式改写这部分功能，但是C扩展操作起来着实比较麻烦。如果又想加速，又想简单，那么有没有办法呢？这就该cython登场了。因此，使用cython的动机是你对程序运行速度慢这件事已经没有容忍度了，但还保有程序员的优良品质——懒惰。"
   ]
  },
  {
   "cell_type": "markdown",
   "metadata": {},
   "source": [
    "## 2. 使用cython的方法\n",
    "\n",
    "使用cython这件事已经确凿无疑，接下来就是讲述操作流程了。第一步，需要在pyx文件中使用cython的语法规范实现功能。一种新的语法规范听起来比较吓人，但实际上，这种规范就是包含C语言数据结构的python代码。代码编写的语句语法为python，只是其中特定的数据结构声明为C的数据结构即可。如果还是不明白，可以看看下面的cython代码示例，实现的功能与上文的python代码一致。"
   ]
  },
  {
   "cell_type": "code",
   "execution_count": 3,
   "metadata": {},
   "outputs": [
    {
     "name": "stdout",
     "output_type": "stream",
     "text": [
      "# cython: language_level=3\r\n",
      "from math import sqrt\r\n",
      "import numpy as np\r\n",
      "\r\n",
      "def csqrt(double[:,:] X):\r\n",
      "    cdef int r = X.shape[0]\r\n",
      "    cdef int c = X.shape[1]\r\n",
      "    cdef double[:, :] Y = np.zeros((r, c))\r\n",
      "    cdef int i, j\r\n",
      "\r\n",
      "    for i in range(r):\r\n",
      "        for j in range(c):\r\n",
      "            Y[i, j] = sqrt(X[i, j])\r\n",
      "    return Y  "
     ]
    }
   ],
   "source": [
    "!cat code/cython/csqrt.pyx"
   ]
  },
  {
   "cell_type": "markdown",
   "metadata": {},
   "source": [
    "cython代码编写完成之后，就可以开始第二步：调用pyx代码。第一种调用方式是编写setup.py文件或者手动使用编译器将pyx文件编译成动态链接库so或者dll文件。这种方式与一般的C扩展是一样的，如果选择这样做那倒不如直接使用C扩展。第二种调用方式是使用cython模块自带的pyximport工具直接在python代码中加载pyx模块。这里就是使用第二种方式来调用pyx代码。"
   ]
  },
  {
   "cell_type": "code",
   "execution_count": 4,
   "metadata": {},
   "outputs": [
    {
     "name": "stdout",
     "output_type": "stream",
     "text": [
      "107 ms ± 214 µs per loop (mean ± std. dev. of 7 runs, 10 loops each)\n"
     ]
    }
   ],
   "source": [
    "import pyximport;pyximport.install()\n",
    "import csqrt\n",
    "\n",
    "%timeit csqrt.csqrt(X)"
   ]
  },
  {
   "cell_type": "markdown",
   "metadata": {},
   "source": [
    "经过耗时测试之后发现，相同的功能，cython代码只需要100多毫秒就可以完成，相当于速度提升了10倍，这在程序速度优化上可是了不得的成绩。但是100毫秒耗时仍然有些不太能接受，那么还有没有办法继续优化呢？"
   ]
  },
  {
   "cell_type": "markdown",
   "metadata": {},
   "source": [
    "## 3. 性能改进\n",
    "\n",
    "要想知道有没有继续优化的空间，那么还是回到最初的问题，明确python程序运行效率低的原因。上面的cython代码中数据结构已经换成了C语言的数据结构，剩下就该看看循环中的内容了。经过反复检查，我们发现，上面cython代码在循环中调用了一个python函数sqrt，如果将这个函数换成C语言库中的调用，那么速度应该会有进一步的提升。相对于上面的cython代码，只需要将sqrt的来源更换一下即可。"
   ]
  },
  {
   "cell_type": "code",
   "execution_count": 6,
   "metadata": {},
   "outputs": [
    {
     "name": "stdout",
     "output_type": "stream",
     "text": [
      "# cython: language_level=3\r\n",
      "from libc.math cimport sqrt\r\n",
      "import numpy as np\r\n",
      "\r\n",
      "def csqrt(double[:,:] X):\r\n",
      "    cdef int r = X.shape[0]\r\n",
      "    cdef int c = X.shape[1]\r\n",
      "    cdef double[:, :] Y = np.zeros((r, c))\r\n",
      "    cdef int i, j\r\n",
      "\r\n",
      "    for i in range(r):\r\n",
      "        for j in range(c):\r\n",
      "            Y[i, j] = sqrt(X[i, j])\r\n",
      "    return Y  "
     ]
    }
   ],
   "source": [
    "!cat code/cython/csqrt2.pyx"
   ]
  },
  {
   "cell_type": "markdown",
   "metadata": {},
   "source": [
    "其他代码都不变，只是将sqrt的来源从python的math模块换成了C语言的math库。接下来的测试将见证奇迹。"
   ]
  },
  {
   "cell_type": "code",
   "execution_count": 7,
   "metadata": {},
   "outputs": [
    {
     "name": "stdout",
     "output_type": "stream",
     "text": [
      "10.6 ms ± 65.8 µs per loop (mean ± std. dev. of 7 runs, 100 loops each)\n"
     ]
    }
   ],
   "source": [
    "import csqrt2\n",
    "%timeit csqrt2.csqrt(X)"
   ]
  },
  {
   "cell_type": "markdown",
   "metadata": {},
   "source": [
    "从测试结果来看，相同的功能在优化性能之后只需大约10毫秒就可以完成。相对于最开始的python代码，最新的cython程序运行速度提升了大约100倍。这种速度的提升还真是令人难以置信，不过事实就摆在眼前。我们是不是该为cython对一般python程序速度的优化而欢呼，是不是该把之前编写的python代码全都使用cython优化一遍，是不是该在开发新项目时直接使用cython？"
   ]
  },
  {
   "cell_type": "markdown",
   "metadata": {},
   "source": [
    "## 4. 使用cython的时机\n",
    "\n",
    "cython虽然神奇，但也不要太过夸大。在上面演示的这样功能上，如果我们调用numpy封装的sqrt函数，那么耗时又是怎样的呢？"
   ]
  },
  {
   "cell_type": "code",
   "execution_count": 5,
   "metadata": {},
   "outputs": [
    {
     "name": "stdout",
     "output_type": "stream",
     "text": [
      "6.31 ms ± 23.1 µs per loop (mean ± std. dev. of 7 runs, 100 loops each)\n"
     ]
    }
   ],
   "source": [
    "%timeit np.sqrt(X)"
   ]
  },
  {
   "cell_type": "markdown",
   "metadata": {},
   "source": [
    "测试结果为大约6毫秒，比我们上面花了老大劲优化的cython代码还快。看到这种结果大概是欲哭无泪，要跟cython说拜拜了。不过cython可并不是吃干饭，那么究竟在哪些情况下该使用cython呢？一般而言，我们使用python是因为其简单易用，开发效率高。而在一段程序中拖累运行速度的通常只是一小部分功能代码。如果能够将那些耗时90%的小部分代码改用cython实现，那么性能优化和开发效率就可以兼顾了。因此，通常开发仍然是使用python完成的，只有发现运行速度慢到不可接受时才考虑使用cython。使用cython也并不是全面铺开，而是选择耗时最大的几个功能点进行优化。此外，还有一点需要牢记，第三方库已经优化过的基本操作不需要用cython重新实现，因为优化收益已经不大了，本文计算矩阵元素平方根的例子就是明证。这就是使用cython的时机。掌握了cython的使用方法和时机，再也不怕python运行慢了。"
   ]
  }
 ],
 "metadata": {
  "kernelspec": {
   "display_name": "Python 3",
   "language": "python",
   "name": "python3"
  },
  "language_info": {
   "codemirror_mode": {
    "name": "ipython",
    "version": 3
   },
   "file_extension": ".py",
   "mimetype": "text/x-python",
   "name": "python",
   "nbconvert_exporter": "python",
   "pygments_lexer": "ipython3",
   "version": "3.7.5"
  }
 },
 "nbformat": 4,
 "nbformat_minor": 2
}
